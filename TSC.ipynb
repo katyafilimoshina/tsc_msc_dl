{
  "nbformat": 4,
  "nbformat_minor": 0,
  "metadata": {
    "colab": {
      "provenance": []
    },
    "kernelspec": {
      "name": "python3",
      "display_name": "Python 3"
    },
    "language_info": {
      "name": "python"
    },
    "widgets": {
      "application/vnd.jupyter.widget-state+json": {
        "d7f812d8707243ddb858e7304ee0709d": {
          "model_module": "@jupyter-widgets/controls",
          "model_name": "HBoxModel",
          "model_module_version": "1.5.0",
          "state": {
            "_dom_classes": [],
            "_model_module": "@jupyter-widgets/controls",
            "_model_module_version": "1.5.0",
            "_model_name": "HBoxModel",
            "_view_count": null,
            "_view_module": "@jupyter-widgets/controls",
            "_view_module_version": "1.5.0",
            "_view_name": "HBoxView",
            "box_style": "",
            "children": [
              "IPY_MODEL_2be09dfb6aad42ac997b8caf3d15ac44",
              "IPY_MODEL_7f32a3ece2744b869112401baabc0522",
              "IPY_MODEL_fc7bca3e0f634f9885527fbe26dae611"
            ],
            "layout": "IPY_MODEL_f92f85c6311a49c59dcb7fde75a690d2"
          }
        },
        "2be09dfb6aad42ac997b8caf3d15ac44": {
          "model_module": "@jupyter-widgets/controls",
          "model_name": "HTMLModel",
          "model_module_version": "1.5.0",
          "state": {
            "_dom_classes": [],
            "_model_module": "@jupyter-widgets/controls",
            "_model_module_version": "1.5.0",
            "_model_name": "HTMLModel",
            "_view_count": null,
            "_view_module": "@jupyter-widgets/controls",
            "_view_module_version": "1.5.0",
            "_view_name": "HTMLView",
            "description": "",
            "description_tooltip": null,
            "layout": "IPY_MODEL_90a7100325444557808f7d765575f0e9",
            "placeholder": "​",
            "style": "IPY_MODEL_1450182728fc4f00b3d372e330eccb68",
            "value": "100%"
          }
        },
        "7f32a3ece2744b869112401baabc0522": {
          "model_module": "@jupyter-widgets/controls",
          "model_name": "FloatProgressModel",
          "model_module_version": "1.5.0",
          "state": {
            "_dom_classes": [],
            "_model_module": "@jupyter-widgets/controls",
            "_model_module_version": "1.5.0",
            "_model_name": "FloatProgressModel",
            "_view_count": null,
            "_view_module": "@jupyter-widgets/controls",
            "_view_module_version": "1.5.0",
            "_view_name": "ProgressView",
            "bar_style": "success",
            "description": "",
            "description_tooltip": null,
            "layout": "IPY_MODEL_1acaaeecb9364099887bed1339559e98",
            "max": 1100,
            "min": 0,
            "orientation": "horizontal",
            "style": "IPY_MODEL_6c68e535f278491d9f3768811d013920",
            "value": 1100
          }
        },
        "fc7bca3e0f634f9885527fbe26dae611": {
          "model_module": "@jupyter-widgets/controls",
          "model_name": "HTMLModel",
          "model_module_version": "1.5.0",
          "state": {
            "_dom_classes": [],
            "_model_module": "@jupyter-widgets/controls",
            "_model_module_version": "1.5.0",
            "_model_name": "HTMLModel",
            "_view_count": null,
            "_view_module": "@jupyter-widgets/controls",
            "_view_module_version": "1.5.0",
            "_view_name": "HTMLView",
            "description": "",
            "description_tooltip": null,
            "layout": "IPY_MODEL_becc3c32cc89465d8f0b86f1836b6245",
            "placeholder": "​",
            "style": "IPY_MODEL_6570695c1d85453a885c7413dfe88f65",
            "value": " 1100/1100 [00:44&lt;00:00, 26.78it/s]"
          }
        },
        "f92f85c6311a49c59dcb7fde75a690d2": {
          "model_module": "@jupyter-widgets/base",
          "model_name": "LayoutModel",
          "model_module_version": "1.2.0",
          "state": {
            "_model_module": "@jupyter-widgets/base",
            "_model_module_version": "1.2.0",
            "_model_name": "LayoutModel",
            "_view_count": null,
            "_view_module": "@jupyter-widgets/base",
            "_view_module_version": "1.2.0",
            "_view_name": "LayoutView",
            "align_content": null,
            "align_items": null,
            "align_self": null,
            "border": null,
            "bottom": null,
            "display": null,
            "flex": null,
            "flex_flow": null,
            "grid_area": null,
            "grid_auto_columns": null,
            "grid_auto_flow": null,
            "grid_auto_rows": null,
            "grid_column": null,
            "grid_gap": null,
            "grid_row": null,
            "grid_template_areas": null,
            "grid_template_columns": null,
            "grid_template_rows": null,
            "height": null,
            "justify_content": null,
            "justify_items": null,
            "left": null,
            "margin": null,
            "max_height": null,
            "max_width": null,
            "min_height": null,
            "min_width": null,
            "object_fit": null,
            "object_position": null,
            "order": null,
            "overflow": null,
            "overflow_x": null,
            "overflow_y": null,
            "padding": null,
            "right": null,
            "top": null,
            "visibility": null,
            "width": null
          }
        },
        "90a7100325444557808f7d765575f0e9": {
          "model_module": "@jupyter-widgets/base",
          "model_name": "LayoutModel",
          "model_module_version": "1.2.0",
          "state": {
            "_model_module": "@jupyter-widgets/base",
            "_model_module_version": "1.2.0",
            "_model_name": "LayoutModel",
            "_view_count": null,
            "_view_module": "@jupyter-widgets/base",
            "_view_module_version": "1.2.0",
            "_view_name": "LayoutView",
            "align_content": null,
            "align_items": null,
            "align_self": null,
            "border": null,
            "bottom": null,
            "display": null,
            "flex": null,
            "flex_flow": null,
            "grid_area": null,
            "grid_auto_columns": null,
            "grid_auto_flow": null,
            "grid_auto_rows": null,
            "grid_column": null,
            "grid_gap": null,
            "grid_row": null,
            "grid_template_areas": null,
            "grid_template_columns": null,
            "grid_template_rows": null,
            "height": null,
            "justify_content": null,
            "justify_items": null,
            "left": null,
            "margin": null,
            "max_height": null,
            "max_width": null,
            "min_height": null,
            "min_width": null,
            "object_fit": null,
            "object_position": null,
            "order": null,
            "overflow": null,
            "overflow_x": null,
            "overflow_y": null,
            "padding": null,
            "right": null,
            "top": null,
            "visibility": null,
            "width": null
          }
        },
        "1450182728fc4f00b3d372e330eccb68": {
          "model_module": "@jupyter-widgets/controls",
          "model_name": "DescriptionStyleModel",
          "model_module_version": "1.5.0",
          "state": {
            "_model_module": "@jupyter-widgets/controls",
            "_model_module_version": "1.5.0",
            "_model_name": "DescriptionStyleModel",
            "_view_count": null,
            "_view_module": "@jupyter-widgets/base",
            "_view_module_version": "1.2.0",
            "_view_name": "StyleView",
            "description_width": ""
          }
        },
        "1acaaeecb9364099887bed1339559e98": {
          "model_module": "@jupyter-widgets/base",
          "model_name": "LayoutModel",
          "model_module_version": "1.2.0",
          "state": {
            "_model_module": "@jupyter-widgets/base",
            "_model_module_version": "1.2.0",
            "_model_name": "LayoutModel",
            "_view_count": null,
            "_view_module": "@jupyter-widgets/base",
            "_view_module_version": "1.2.0",
            "_view_name": "LayoutView",
            "align_content": null,
            "align_items": null,
            "align_self": null,
            "border": null,
            "bottom": null,
            "display": null,
            "flex": null,
            "flex_flow": null,
            "grid_area": null,
            "grid_auto_columns": null,
            "grid_auto_flow": null,
            "grid_auto_rows": null,
            "grid_column": null,
            "grid_gap": null,
            "grid_row": null,
            "grid_template_areas": null,
            "grid_template_columns": null,
            "grid_template_rows": null,
            "height": null,
            "justify_content": null,
            "justify_items": null,
            "left": null,
            "margin": null,
            "max_height": null,
            "max_width": null,
            "min_height": null,
            "min_width": null,
            "object_fit": null,
            "object_position": null,
            "order": null,
            "overflow": null,
            "overflow_x": null,
            "overflow_y": null,
            "padding": null,
            "right": null,
            "top": null,
            "visibility": null,
            "width": null
          }
        },
        "6c68e535f278491d9f3768811d013920": {
          "model_module": "@jupyter-widgets/controls",
          "model_name": "ProgressStyleModel",
          "model_module_version": "1.5.0",
          "state": {
            "_model_module": "@jupyter-widgets/controls",
            "_model_module_version": "1.5.0",
            "_model_name": "ProgressStyleModel",
            "_view_count": null,
            "_view_module": "@jupyter-widgets/base",
            "_view_module_version": "1.2.0",
            "_view_name": "StyleView",
            "bar_color": null,
            "description_width": ""
          }
        },
        "becc3c32cc89465d8f0b86f1836b6245": {
          "model_module": "@jupyter-widgets/base",
          "model_name": "LayoutModel",
          "model_module_version": "1.2.0",
          "state": {
            "_model_module": "@jupyter-widgets/base",
            "_model_module_version": "1.2.0",
            "_model_name": "LayoutModel",
            "_view_count": null,
            "_view_module": "@jupyter-widgets/base",
            "_view_module_version": "1.2.0",
            "_view_name": "LayoutView",
            "align_content": null,
            "align_items": null,
            "align_self": null,
            "border": null,
            "bottom": null,
            "display": null,
            "flex": null,
            "flex_flow": null,
            "grid_area": null,
            "grid_auto_columns": null,
            "grid_auto_flow": null,
            "grid_auto_rows": null,
            "grid_column": null,
            "grid_gap": null,
            "grid_row": null,
            "grid_template_areas": null,
            "grid_template_columns": null,
            "grid_template_rows": null,
            "height": null,
            "justify_content": null,
            "justify_items": null,
            "left": null,
            "margin": null,
            "max_height": null,
            "max_width": null,
            "min_height": null,
            "min_width": null,
            "object_fit": null,
            "object_position": null,
            "order": null,
            "overflow": null,
            "overflow_x": null,
            "overflow_y": null,
            "padding": null,
            "right": null,
            "top": null,
            "visibility": null,
            "width": null
          }
        },
        "6570695c1d85453a885c7413dfe88f65": {
          "model_module": "@jupyter-widgets/controls",
          "model_name": "DescriptionStyleModel",
          "model_module_version": "1.5.0",
          "state": {
            "_model_module": "@jupyter-widgets/controls",
            "_model_module_version": "1.5.0",
            "_model_name": "DescriptionStyleModel",
            "_view_count": null,
            "_view_module": "@jupyter-widgets/base",
            "_view_module_version": "1.2.0",
            "_view_name": "StyleView",
            "description_width": ""
          }
        },
        "0f5a94c9986945239af3ef395b665fa8": {
          "model_module": "@jupyter-widgets/controls",
          "model_name": "HBoxModel",
          "model_module_version": "1.5.0",
          "state": {
            "_dom_classes": [],
            "_model_module": "@jupyter-widgets/controls",
            "_model_module_version": "1.5.0",
            "_model_name": "HBoxModel",
            "_view_count": null,
            "_view_module": "@jupyter-widgets/controls",
            "_view_module_version": "1.5.0",
            "_view_name": "HBoxView",
            "box_style": "",
            "children": [
              "IPY_MODEL_0f1fbad6bd70414c8a635d42ab2ed5ac",
              "IPY_MODEL_9064a6ae5ba441cda9f80e30b1f9746a",
              "IPY_MODEL_7ca6d5d6e1e041149b57b285b648baea"
            ],
            "layout": "IPY_MODEL_104262d6637c4dfcbec6c3b8bbf32225"
          }
        },
        "0f1fbad6bd70414c8a635d42ab2ed5ac": {
          "model_module": "@jupyter-widgets/controls",
          "model_name": "HTMLModel",
          "model_module_version": "1.5.0",
          "state": {
            "_dom_classes": [],
            "_model_module": "@jupyter-widgets/controls",
            "_model_module_version": "1.5.0",
            "_model_name": "HTMLModel",
            "_view_count": null,
            "_view_module": "@jupyter-widgets/controls",
            "_view_module_version": "1.5.0",
            "_view_name": "HTMLView",
            "description": "",
            "description_tooltip": null,
            "layout": "IPY_MODEL_78e4320974614119a0b19366c52931bf",
            "placeholder": "​",
            "style": "IPY_MODEL_16b5681a42ca46eaa9c00bcbc599a7df",
            "value": "100%"
          }
        },
        "9064a6ae5ba441cda9f80e30b1f9746a": {
          "model_module": "@jupyter-widgets/controls",
          "model_name": "FloatProgressModel",
          "model_module_version": "1.5.0",
          "state": {
            "_dom_classes": [],
            "_model_module": "@jupyter-widgets/controls",
            "_model_module_version": "1.5.0",
            "_model_name": "FloatProgressModel",
            "_view_count": null,
            "_view_module": "@jupyter-widgets/controls",
            "_view_module_version": "1.5.0",
            "_view_name": "ProgressView",
            "bar_style": "success",
            "description": "",
            "description_tooltip": null,
            "layout": "IPY_MODEL_084953c9a8af406eb99d073c01f89df9",
            "max": 200,
            "min": 0,
            "orientation": "horizontal",
            "style": "IPY_MODEL_68ad6245e60344e6908c3ebeb129a8e5",
            "value": 200
          }
        },
        "7ca6d5d6e1e041149b57b285b648baea": {
          "model_module": "@jupyter-widgets/controls",
          "model_name": "HTMLModel",
          "model_module_version": "1.5.0",
          "state": {
            "_dom_classes": [],
            "_model_module": "@jupyter-widgets/controls",
            "_model_module_version": "1.5.0",
            "_model_name": "HTMLModel",
            "_view_count": null,
            "_view_module": "@jupyter-widgets/controls",
            "_view_module_version": "1.5.0",
            "_view_name": "HTMLView",
            "description": "",
            "description_tooltip": null,
            "layout": "IPY_MODEL_74597a24832d48bcb8047cdbb51950f3",
            "placeholder": "​",
            "style": "IPY_MODEL_6f56f4f910234cefa091d3903c678606",
            "value": " 200/200 [00:49&lt;00:00,  3.47it/s]"
          }
        },
        "104262d6637c4dfcbec6c3b8bbf32225": {
          "model_module": "@jupyter-widgets/base",
          "model_name": "LayoutModel",
          "model_module_version": "1.2.0",
          "state": {
            "_model_module": "@jupyter-widgets/base",
            "_model_module_version": "1.2.0",
            "_model_name": "LayoutModel",
            "_view_count": null,
            "_view_module": "@jupyter-widgets/base",
            "_view_module_version": "1.2.0",
            "_view_name": "LayoutView",
            "align_content": null,
            "align_items": null,
            "align_self": null,
            "border": null,
            "bottom": null,
            "display": null,
            "flex": null,
            "flex_flow": null,
            "grid_area": null,
            "grid_auto_columns": null,
            "grid_auto_flow": null,
            "grid_auto_rows": null,
            "grid_column": null,
            "grid_gap": null,
            "grid_row": null,
            "grid_template_areas": null,
            "grid_template_columns": null,
            "grid_template_rows": null,
            "height": null,
            "justify_content": null,
            "justify_items": null,
            "left": null,
            "margin": null,
            "max_height": null,
            "max_width": null,
            "min_height": null,
            "min_width": null,
            "object_fit": null,
            "object_position": null,
            "order": null,
            "overflow": null,
            "overflow_x": null,
            "overflow_y": null,
            "padding": null,
            "right": null,
            "top": null,
            "visibility": null,
            "width": null
          }
        },
        "78e4320974614119a0b19366c52931bf": {
          "model_module": "@jupyter-widgets/base",
          "model_name": "LayoutModel",
          "model_module_version": "1.2.0",
          "state": {
            "_model_module": "@jupyter-widgets/base",
            "_model_module_version": "1.2.0",
            "_model_name": "LayoutModel",
            "_view_count": null,
            "_view_module": "@jupyter-widgets/base",
            "_view_module_version": "1.2.0",
            "_view_name": "LayoutView",
            "align_content": null,
            "align_items": null,
            "align_self": null,
            "border": null,
            "bottom": null,
            "display": null,
            "flex": null,
            "flex_flow": null,
            "grid_area": null,
            "grid_auto_columns": null,
            "grid_auto_flow": null,
            "grid_auto_rows": null,
            "grid_column": null,
            "grid_gap": null,
            "grid_row": null,
            "grid_template_areas": null,
            "grid_template_columns": null,
            "grid_template_rows": null,
            "height": null,
            "justify_content": null,
            "justify_items": null,
            "left": null,
            "margin": null,
            "max_height": null,
            "max_width": null,
            "min_height": null,
            "min_width": null,
            "object_fit": null,
            "object_position": null,
            "order": null,
            "overflow": null,
            "overflow_x": null,
            "overflow_y": null,
            "padding": null,
            "right": null,
            "top": null,
            "visibility": null,
            "width": null
          }
        },
        "16b5681a42ca46eaa9c00bcbc599a7df": {
          "model_module": "@jupyter-widgets/controls",
          "model_name": "DescriptionStyleModel",
          "model_module_version": "1.5.0",
          "state": {
            "_model_module": "@jupyter-widgets/controls",
            "_model_module_version": "1.5.0",
            "_model_name": "DescriptionStyleModel",
            "_view_count": null,
            "_view_module": "@jupyter-widgets/base",
            "_view_module_version": "1.2.0",
            "_view_name": "StyleView",
            "description_width": ""
          }
        },
        "084953c9a8af406eb99d073c01f89df9": {
          "model_module": "@jupyter-widgets/base",
          "model_name": "LayoutModel",
          "model_module_version": "1.2.0",
          "state": {
            "_model_module": "@jupyter-widgets/base",
            "_model_module_version": "1.2.0",
            "_model_name": "LayoutModel",
            "_view_count": null,
            "_view_module": "@jupyter-widgets/base",
            "_view_module_version": "1.2.0",
            "_view_name": "LayoutView",
            "align_content": null,
            "align_items": null,
            "align_self": null,
            "border": null,
            "bottom": null,
            "display": null,
            "flex": null,
            "flex_flow": null,
            "grid_area": null,
            "grid_auto_columns": null,
            "grid_auto_flow": null,
            "grid_auto_rows": null,
            "grid_column": null,
            "grid_gap": null,
            "grid_row": null,
            "grid_template_areas": null,
            "grid_template_columns": null,
            "grid_template_rows": null,
            "height": null,
            "justify_content": null,
            "justify_items": null,
            "left": null,
            "margin": null,
            "max_height": null,
            "max_width": null,
            "min_height": null,
            "min_width": null,
            "object_fit": null,
            "object_position": null,
            "order": null,
            "overflow": null,
            "overflow_x": null,
            "overflow_y": null,
            "padding": null,
            "right": null,
            "top": null,
            "visibility": null,
            "width": null
          }
        },
        "68ad6245e60344e6908c3ebeb129a8e5": {
          "model_module": "@jupyter-widgets/controls",
          "model_name": "ProgressStyleModel",
          "model_module_version": "1.5.0",
          "state": {
            "_model_module": "@jupyter-widgets/controls",
            "_model_module_version": "1.5.0",
            "_model_name": "ProgressStyleModel",
            "_view_count": null,
            "_view_module": "@jupyter-widgets/base",
            "_view_module_version": "1.2.0",
            "_view_name": "StyleView",
            "bar_color": null,
            "description_width": ""
          }
        },
        "74597a24832d48bcb8047cdbb51950f3": {
          "model_module": "@jupyter-widgets/base",
          "model_name": "LayoutModel",
          "model_module_version": "1.2.0",
          "state": {
            "_model_module": "@jupyter-widgets/base",
            "_model_module_version": "1.2.0",
            "_model_name": "LayoutModel",
            "_view_count": null,
            "_view_module": "@jupyter-widgets/base",
            "_view_module_version": "1.2.0",
            "_view_name": "LayoutView",
            "align_content": null,
            "align_items": null,
            "align_self": null,
            "border": null,
            "bottom": null,
            "display": null,
            "flex": null,
            "flex_flow": null,
            "grid_area": null,
            "grid_auto_columns": null,
            "grid_auto_flow": null,
            "grid_auto_rows": null,
            "grid_column": null,
            "grid_gap": null,
            "grid_row": null,
            "grid_template_areas": null,
            "grid_template_columns": null,
            "grid_template_rows": null,
            "height": null,
            "justify_content": null,
            "justify_items": null,
            "left": null,
            "margin": null,
            "max_height": null,
            "max_width": null,
            "min_height": null,
            "min_width": null,
            "object_fit": null,
            "object_position": null,
            "order": null,
            "overflow": null,
            "overflow_x": null,
            "overflow_y": null,
            "padding": null,
            "right": null,
            "top": null,
            "visibility": null,
            "width": null
          }
        },
        "6f56f4f910234cefa091d3903c678606": {
          "model_module": "@jupyter-widgets/controls",
          "model_name": "DescriptionStyleModel",
          "model_module_version": "1.5.0",
          "state": {
            "_model_module": "@jupyter-widgets/controls",
            "_model_module_version": "1.5.0",
            "_model_name": "DescriptionStyleModel",
            "_view_count": null,
            "_view_module": "@jupyter-widgets/base",
            "_view_module_version": "1.2.0",
            "_view_name": "StyleView",
            "description_width": ""
          }
        }
      }
    }
  },
  "cells": [
    {
      "cell_type": "markdown",
      "source": [
        "# Libraries"
      ],
      "metadata": {
        "id": "LTZkjk7hSnFd"
      }
    },
    {
      "cell_type": "code",
      "source": [
        "!pip install pyro-ppl normflows"
      ],
      "metadata": {
        "id": "mWQi3WUNOrUv",
        "colab": {
          "base_uri": "https://localhost:8080/"
        },
        "outputId": "b720d1fe-60f1-4c0e-a95f-8ab5da5ddf8a"
      },
      "execution_count": 46,
      "outputs": [
        {
          "output_type": "stream",
          "name": "stdout",
          "text": [
            "Requirement already satisfied: pyro-ppl in /usr/local/lib/python3.10/dist-packages (1.9.0)\n",
            "Requirement already satisfied: normflows in /usr/local/lib/python3.10/dist-packages (1.7.3)\n",
            "Requirement already satisfied: numpy>=1.7 in /usr/local/lib/python3.10/dist-packages (from pyro-ppl) (1.25.2)\n",
            "Requirement already satisfied: opt-einsum>=2.3.2 in /usr/local/lib/python3.10/dist-packages (from pyro-ppl) (3.3.0)\n",
            "Requirement already satisfied: pyro-api>=0.1.1 in /usr/local/lib/python3.10/dist-packages (from pyro-ppl) (0.1.2)\n",
            "Requirement already satisfied: torch>=2.0 in /usr/local/lib/python3.10/dist-packages (from pyro-ppl) (2.3.0+cu121)\n",
            "Requirement already satisfied: tqdm>=4.36 in /usr/local/lib/python3.10/dist-packages (from pyro-ppl) (4.66.4)\n",
            "Requirement already satisfied: filelock in /usr/local/lib/python3.10/dist-packages (from torch>=2.0->pyro-ppl) (3.14.0)\n",
            "Requirement already satisfied: typing-extensions>=4.8.0 in /usr/local/lib/python3.10/dist-packages (from torch>=2.0->pyro-ppl) (4.11.0)\n",
            "Requirement already satisfied: sympy in /usr/local/lib/python3.10/dist-packages (from torch>=2.0->pyro-ppl) (1.12)\n",
            "Requirement already satisfied: networkx in /usr/local/lib/python3.10/dist-packages (from torch>=2.0->pyro-ppl) (3.3)\n",
            "Requirement already satisfied: jinja2 in /usr/local/lib/python3.10/dist-packages (from torch>=2.0->pyro-ppl) (3.1.4)\n",
            "Requirement already satisfied: fsspec in /usr/local/lib/python3.10/dist-packages (from torch>=2.0->pyro-ppl) (2023.6.0)\n",
            "Requirement already satisfied: nvidia-cuda-nvrtc-cu12==12.1.105 in /usr/local/lib/python3.10/dist-packages (from torch>=2.0->pyro-ppl) (12.1.105)\n",
            "Requirement already satisfied: nvidia-cuda-runtime-cu12==12.1.105 in /usr/local/lib/python3.10/dist-packages (from torch>=2.0->pyro-ppl) (12.1.105)\n",
            "Requirement already satisfied: nvidia-cuda-cupti-cu12==12.1.105 in /usr/local/lib/python3.10/dist-packages (from torch>=2.0->pyro-ppl) (12.1.105)\n",
            "Requirement already satisfied: nvidia-cudnn-cu12==8.9.2.26 in /usr/local/lib/python3.10/dist-packages (from torch>=2.0->pyro-ppl) (8.9.2.26)\n",
            "Requirement already satisfied: nvidia-cublas-cu12==12.1.3.1 in /usr/local/lib/python3.10/dist-packages (from torch>=2.0->pyro-ppl) (12.1.3.1)\n",
            "Requirement already satisfied: nvidia-cufft-cu12==11.0.2.54 in /usr/local/lib/python3.10/dist-packages (from torch>=2.0->pyro-ppl) (11.0.2.54)\n",
            "Requirement already satisfied: nvidia-curand-cu12==10.3.2.106 in /usr/local/lib/python3.10/dist-packages (from torch>=2.0->pyro-ppl) (10.3.2.106)\n",
            "Requirement already satisfied: nvidia-cusolver-cu12==11.4.5.107 in /usr/local/lib/python3.10/dist-packages (from torch>=2.0->pyro-ppl) (11.4.5.107)\n",
            "Requirement already satisfied: nvidia-cusparse-cu12==12.1.0.106 in /usr/local/lib/python3.10/dist-packages (from torch>=2.0->pyro-ppl) (12.1.0.106)\n",
            "Requirement already satisfied: nvidia-nccl-cu12==2.20.5 in /usr/local/lib/python3.10/dist-packages (from torch>=2.0->pyro-ppl) (2.20.5)\n",
            "Requirement already satisfied: nvidia-nvtx-cu12==12.1.105 in /usr/local/lib/python3.10/dist-packages (from torch>=2.0->pyro-ppl) (12.1.105)\n",
            "Requirement already satisfied: triton==2.3.0 in /usr/local/lib/python3.10/dist-packages (from torch>=2.0->pyro-ppl) (2.3.0)\n",
            "Requirement already satisfied: nvidia-nvjitlink-cu12 in /usr/local/lib/python3.10/dist-packages (from nvidia-cusolver-cu12==11.4.5.107->torch>=2.0->pyro-ppl) (12.5.40)\n",
            "Requirement already satisfied: MarkupSafe>=2.0 in /usr/local/lib/python3.10/dist-packages (from jinja2->torch>=2.0->pyro-ppl) (2.1.5)\n",
            "Requirement already satisfied: mpmath>=0.19 in /usr/local/lib/python3.10/dist-packages (from sympy->torch>=2.0->pyro-ppl) (1.3.0)\n"
          ]
        }
      ]
    },
    {
      "cell_type": "code",
      "source": [
        "!git clone https://github.com/svsamsonov/Practical_task\n",
        "!mv Practical_task/* .\n",
        "!rm -r Practical_task"
      ],
      "metadata": {
        "colab": {
          "base_uri": "https://localhost:8080/"
        },
        "id": "KYBPKv-8n58t",
        "outputId": "f4ed61af-7e13-454d-fd38-850650b2c884"
      },
      "execution_count": 59,
      "outputs": [
        {
          "output_type": "stream",
          "name": "stdout",
          "text": [
            "Cloning into 'Practical_task'...\n",
            "remote: Enumerating objects: 16, done.\u001b[K\n",
            "remote: Counting objects: 100% (16/16), done.\u001b[K\n",
            "remote: Compressing objects: 100% (12/12), done.\u001b[K\n",
            "remote: Total 16 (delta 1), reused 6 (delta 0), pack-reused 0\u001b[K\n",
            "Receiving objects: 100% (16/16), 69.74 KiB | 1.37 MiB/s, done.\n",
            "Resolving deltas: 100% (1/1), done.\n"
          ]
        }
      ]
    },
    {
      "cell_type": "code",
      "source": [
        "import pyro\n",
        "import numpy as np\n",
        "import torch\n",
        "import torch.nn as nn\n",
        "import torch.nn.functional as F\n",
        "import torch.distributions as D\n",
        "from torch.distributions import Normal\n",
        "from torch.distributions import MultivariateNormal as MNormal\n",
        "import matplotlib.pyplot as plt\n",
        "from scipy.stats import gaussian_kde\n",
        "from typing import Optional, List, Tuple, Iterable, Callable, Union\n",
        "from torch.distributions import Normal, Categorical\n",
        "from tqdm.notebook import tqdm, trange\n",
        "from torch import optim\n",
        "from torch.nn import KLDivLoss\n",
        "from pyro.infer import HMC as pyro_hmc\n",
        "from pyro.infer import MCMC\n",
        "import normflows as nf\n",
        "from torch.optim.lr_scheduler import StepLR\n",
        "from distributions import (\n",
        "    Banana,\n",
        "    Distribution,\n",
        "    Funnel,\n",
        "    IndependentNormal\n",
        ")"
      ],
      "metadata": {
        "id": "Bvm_usetNiwZ"
      },
      "execution_count": 63,
      "outputs": []
    },
    {
      "cell_type": "markdown",
      "source": [
        "# Distributions"
      ],
      "metadata": {
        "id": "lfXGcZBjSbOH"
      }
    },
    {
      "cell_type": "code",
      "source": [
        "torch.manual_seed(926)\n",
        "\n",
        "\n",
        "class Funnel(object):\n",
        "    \"\"\"\n",
        "    Funnel distribution.\n",
        "\n",
        "    “Slice sampling”. R. Neal, Annals of statistics, 705 (2003) https://doi.org/10.1214/aos/1056562461\n",
        "\n",
        "    Args:\n",
        "        dim - dimension\n",
        "    \"\"\"\n",
        "    def __init__(self, num_dims=2):\n",
        "        self.num_dims = num_dims\n",
        "        self.normal_first = Normal(0, 1)\n",
        "\n",
        "    @property\n",
        "    def dim(self) -> int:\n",
        "        return self.num_dims\n",
        "\n",
        "    def log_prob(self, x: torch.FloatTensor) -> torch.FloatTensor:\n",
        "        \"\"\"\n",
        "        Returns:\n",
        "            log p(x)\n",
        "        \"\"\"\n",
        "        normal_last = Normal(torch.zeros(x.shape[:-1], device=x.device), torch.exp(x[..., 0] / 2.))\n",
        "        return normal_last.log_prob(x[..., 1:].permute(-1, *range(x.ndim-1))).sum(0) + self.normal_first.log_prob(x[..., 0])\n",
        "\n",
        "    def likelihood(self, x: torch.FloatTensor) -> torch.FloatTensor:\n",
        "        \"\"\"\n",
        "        Returns:\n",
        "            p(x)\n",
        "        \"\"\"\n",
        "        return torch.exp(self.log_prob(x))\n",
        "\n",
        "    def plot_2d_countour(self, ax):\n",
        "        \"\"\"\n",
        "        Visualizes contour plot of Funnel distribution using log p(x)\n",
        "        \"\"\"\n",
        "        x = np.linspace(-15, 15, 100)\n",
        "        y = np.linspace(-10, 10, 100)\n",
        "        X, Y = np.meshgrid(x, y)\n",
        "        inp = torch.from_numpy(np.stack([X, Y], -1))\n",
        "        Z = self.log_prob(inp.reshape(-1, 2)).reshape(inp.shape[:-1])\n",
        "\n",
        "        ax.contour(Y, X, Z.exp(),\n",
        "                   levels=3,\n",
        "                   alpha=1., colors='midnightblue', linewidths=1)\n",
        "\n",
        "    def visualize_dist(self, s=10000):\n",
        "        \"\"\"\n",
        "        Visualizes Funnel distribution using sampled points\n",
        "        \"\"\"\n",
        "        # Generate points from funnel distribution\n",
        "        points = np.transpose(self.sample(s))\n",
        "        Y = points[0]\n",
        "        X = points[1]\n",
        "\n",
        "        # Calculate the point density\n",
        "        XY = np.vstack([X,Y])\n",
        "        Z = gaussian_kde(XY)(XY)\n",
        "\n",
        "        # Sort the points by density, so that the densest points are plotted last\n",
        "        idx = Z.argsort()\n",
        "        X, Y, Z = X[idx], Y[idx], Z[idx]\n",
        "\n",
        "        plt.scatter(X, Y, c=Z, label=Z)\n",
        "        plt.colorbar()\n",
        "        plt.show()\n",
        "        plt.close()\n",
        "\n",
        "    def sample(self, num_samples: int) -> torch.Tensor:\n",
        "        \"\"\"\n",
        "        Sample from the Funnel distribution\n",
        "        \"\"\"\n",
        "        all_c = torch.randn((num_samples, self.dim))\n",
        "        all_c[:, 0] = all_c[:, 0] * 1**0.5\n",
        "        all_c[:, 1:] = all_c[:, 1:]*(torch.exp(1*all_c[:, 0]))[:, None]\n",
        "        return all_c\n",
        "\n",
        "    def estimate_dist(self, s=100000):\n",
        "        \"\"\"\n",
        "        Estimates mean and standard deviation of the Funnel distribution\n",
        "        by sampling from it\n",
        "        \"\"\"\n",
        "        target_samp = self.sample(s)\n",
        "        std = torch.std(target_samp, dim=0).numpy()\n",
        "        m = torch.mean(target_samp, dim=0).numpy()\n",
        "        return [m, std]\n",
        "\n",
        "\n",
        "class Banana:\n",
        "\n",
        "    def __init__(self, b=0.02, dim=2, sigma=10):\n",
        "        self.b = b\n",
        "        self.dim = dim\n",
        "        self.sigma = sigma\n",
        "\n",
        "    def log_prob(self, x: torch.FloatTensor) -> torch.FloatTensor:\n",
        "        \"\"\"\n",
        "        Returns:\n",
        "            log p(x)\n",
        "        \"\"\"\n",
        "        even = np.arange(0, x.shape[-1], 2)\n",
        "        odd = np.arange(1, x.shape[-1], 2)\n",
        "        ll = -0.5 * (x[..., odd] - self.b * x[..., even]**2 + (self.sigma**2) * self.b)**2 - ((x[..., even])**2)/(2 * self.sigma**2)\n",
        "        return ll.sum(-1)\n",
        "\n",
        "    def likelihood(self, x: torch.FloatTensor) -> torch.FloatTensor:\n",
        "        \"\"\"\n",
        "        Returns:\n",
        "            p(x)\n",
        "        \"\"\"\n",
        "        return torch.exp(self.log_prob(x))\n",
        "\n",
        "    def sample(self, s):\n",
        "        \"\"\"\n",
        "        Sample from the Banana distribution\n",
        "        \"\"\"\n",
        "        torch.manual_seed(926)\n",
        "        even = np.arange(0, self.dim, 2)\n",
        "        odd = np.arange(1, self.dim, 2)\n",
        "        var = torch.ones(self.dim)\n",
        "        var[..., even] = self.sigma**2\n",
        "        base_dist = D.MultivariateNormal(torch.zeros(self.dim), torch.diag(var))\n",
        "        samples = base_dist.sample((s,))\n",
        "        samples[..., odd] += self.b * samples[..., even]**2 - self.b * self.sigma**2\n",
        "        return samples\n",
        "\n",
        "    def plot_2d_countour(self, ax):\n",
        "        \"\"\"\n",
        "        Visualizes contour plot of Banana distribution using log p(x)\n",
        "        \"\"\"\n",
        "        x = np.linspace(-20, 20, 100)\n",
        "        y = np.linspace(-10, 10, 100)\n",
        "        X, Y = np.meshgrid(x, y)\n",
        "        inp = torch.from_numpy(np.stack([X, Y], -1))\n",
        "        Z = self.log_prob(inp.reshape(-1, 2)).reshape(inp.shape[:-1])\n",
        "        ax.contour(X, Y, Z.exp(),\n",
        "                   levels=5,\n",
        "                   alpha=1., colors='midnightblue', linewidths=1)\n",
        "\n",
        "    def visualize_dist(self, s=1000):\n",
        "        \"\"\"\n",
        "        Visualizes Banana distribution using sampled points\n",
        "        \"\"\"\n",
        "        # Generate points from distribution\n",
        "        points = self.sample(s)\n",
        "        X = points[:, 0]\n",
        "        Y = points[:, 1]\n",
        "\n",
        "        # Calculate the point density\n",
        "        XY = torch.stack([points[:, 0], points[:, 1]], dim=0).numpy()\n",
        "        Z = gaussian_kde(XY)(XY)\n",
        "\n",
        "        # Sort the points by density, so that the densest points are plotted last\n",
        "        idx = Z.argsort()\n",
        "        X, Y, Z = X[idx], Y[idx], Z[idx]\n",
        "\n",
        "        plt.scatter(X, Y, c=Z, label=Z)\n",
        "        plt.colorbar()\n",
        "        plt.show()\n",
        "        plt.close()\n",
        "\n",
        "    def estimate_dist(self, s=10000000):\n",
        "        \"\"\"\n",
        "        Estimates mean and standard deviation of the Banana distribution\n",
        "        by sampling from it\n",
        "        \"\"\"\n",
        "        target_samp = self.sample(s)\n",
        "        std = torch.std(target_samp, dim=0).numpy()\n",
        "        m = torch.mean(target_samp, dim=0).numpy()\n",
        "        return [m, std]\n",
        "\n",
        "\n",
        "class MyDistribution(nn.Module):\n",
        "    def __init__(self, dim):\n",
        "        super().__init__()\n",
        "        self.dim = dim\n",
        "\n",
        "    def grad_log(self, x: torch.Tensor):\n",
        "        \"\"\"\n",
        "        Calculates gradient of log density for given points\n",
        "        Expects log_prob function to be working in differentiable manner\n",
        "        :param x: [n_batch, dimension]\n",
        "        :return: gradients [n_batch, dimension]\n",
        "        \"\"\"\n",
        "        grads = []\n",
        "        x.requires_grad = True\n",
        "        for val in x:\n",
        "            val = val.reshape(1, -1)\n",
        "            out = self.log_prob(val)\n",
        "            grad = torch.autograd.grad(out, val)\n",
        "            grads.append(grad[0].squeeze(0))\n",
        "        x.requires_grad = False\n",
        "        return torch.stack(grads, dim=0)\n",
        "\n",
        "\n",
        "class GMM(MyDistribution):\n",
        "    def __init__(self, dim, mu, sigma, rho=0.5):\n",
        "        super().__init__(dim)\n",
        "        cov_mat = torch.eye(dim) * sigma\n",
        "        mu_mat = torch.ones((2, dim))*mu\n",
        "        mu_mat[1, :] = -mu_mat[1, :]\n",
        "        cov_mat = torch.tile(cov_mat.unsqueeze(0), (2, 1, 1))\n",
        "        mix = D.Categorical(torch.tensor([rho, 1-rho]))\n",
        "        comp = D.MultivariateNormal(\n",
        "            mu_mat, cov_mat)\n",
        "        self.gmm = D.MixtureSameFamily(mix, comp)\n",
        "\n",
        "    def log_prob(self, x):\n",
        "        return self.gmm.log_prob(x)\n",
        "\n",
        "    def sample(self, n):\n",
        "        return self.gmm.sample((n,))\n",
        "\n",
        "    def plot_2d_countour(self, ax):\n",
        "        \"\"\"\n",
        "        Visualizes contour plot of Banana distribution using log p(x)\n",
        "        \"\"\"\n",
        "        x = np.linspace(-20, 20, 100)\n",
        "        y = np.linspace(-10, 10, 100)\n",
        "        X, Y = np.meshgrid(x, y)\n",
        "        inp = torch.from_numpy(np.stack([X, Y], -1))\n",
        "        Z = self.log_prob(inp.reshape(-1, 2)).reshape(inp.shape[:-1])\n",
        "        ax.contour(X, Y, Z.exp(),\n",
        "                   levels=5,\n",
        "                   alpha=1., colors='midnightblue', linewidths=1)\n",
        "\n",
        "    def visualize_dist(self, s=1000):\n",
        "        \"\"\"\n",
        "        Visualizes Banana distribution using sampled points\n",
        "        \"\"\"\n",
        "        # Generate points from distribution\n",
        "        points = self.sample(s)\n",
        "        X = points[:, 0]\n",
        "        Y = points[:, 1]\n",
        "\n",
        "        # Calculate the point density\n",
        "        XY = torch.stack([points[:, 0], points[:, 1]], dim=0).numpy()\n",
        "        Z = gaussian_kde(XY)(XY)\n",
        "\n",
        "        # Sort the points by density, so that the densest points are plotted last\n",
        "        idx = Z.argsort()\n",
        "        X, Y, Z = X[idx], Y[idx], Z[idx]\n",
        "\n",
        "        plt.scatter(X, Y, c=Z, label=Z)\n",
        "        plt.colorbar()\n",
        "        plt.show()\n",
        "        plt.close()\n",
        "\n",
        "\n",
        "class Cauchy(Distribution):\n",
        "    def __init__(self, **kwargs):\n",
        "\n",
        "        super().__init__(**kwargs)\n",
        "        self.loc = kwargs.get(\"loc\")\n",
        "        self.scale = kwargs.get(\"scale\")\n",
        "        self.dim = kwargs.get(\"dim\")\n",
        "        self.distr = torch.distributions.Cauchy(self.loc, self.scale)\n",
        "\n",
        "    def log_prob(self, z, x=None):\n",
        "        log_target = self.distr.log_prob(z).sum(-1)\n",
        "        return log_target\n",
        "\n",
        "    def sample(self, n=1):\n",
        "        return self.distr.sample(torch.cat([torch.empty(n)], -1).shape)"
      ],
      "metadata": {
        "id": "fAMAxDUWSCDa"
      },
      "execution_count": 67,
      "outputs": []
    },
    {
      "cell_type": "markdown",
      "source": [
        "# Basic Sampler (I-SIR)"
      ],
      "metadata": {
        "id": "p3wvJGAfD8z6"
      }
    },
    {
      "cell_type": "code",
      "source": [
        "torch.manual_seed(926)\n",
        "\n",
        "def ISIR(start: torch.FloatTensor,\n",
        "        target,\n",
        "        proposal,\n",
        "        n_samples: int,\n",
        "        burn_in: int,\n",
        "        *,\n",
        "        n_particles: int,\n",
        "        verbose: bool=False) -> Tuple[List[torch.FloatTensor], List]:\n",
        "    \"\"\"\n",
        "    Iterated Sampling Importance Resampling\n",
        "\n",
        "    Args:\n",
        "        start - strating points of shape [n_chains x dim]\n",
        "        target - target distribution instance with method \"log_prob\"\n",
        "        proposal - proposal distribution instance with methods \"log_prob\" and \"sample\"\n",
        "        n_samples - number of last samples from each chain to return\n",
        "        burn_in - number of first samples from each chain to throw away\n",
        "        n_particles - number of particles including one from previous step\n",
        "        verbose - whether to show iterations' bar\n",
        "\n",
        "    Returns:\n",
        "        tensor of chains with shape [n_samples, n_chains, dim], acceptance rates for each iteration\n",
        "    \"\"\"\n",
        "    chains = []\n",
        "    acceptance_rate = []\n",
        "\n",
        "    x = start.clone()\n",
        "    logp_x = target.log_prob(x)\n",
        "    logq_x = proposal.log_prob(x)\n",
        "\n",
        "\n",
        "    range_ = trange if verbose else range\n",
        "    for step_id in range_(n_samples + burn_in):\n",
        "        particles = proposal.sample((x.shape[0], n_particles - 1))\n",
        "        logqs = torch.cat([logq_x[:, None], proposal.log_prob(particles)], 1)\n",
        "        logps = torch.cat([logp_x[:, None], target.log_prob(particles)], 1)\n",
        "        particles = torch.cat([x[:, None, :], particles], 1)\n",
        "\n",
        "        log_weights = logps - logqs\n",
        "        indices = Categorical(logits=log_weights).sample()\n",
        "\n",
        "        x = particles[np.arange(x.shape[0]), indices]\n",
        "        logp_x = logps[np.arange(x.shape[0]), indices]\n",
        "        logq_x = logqs[np.arange(x.shape[0]), indices]\n",
        "\n",
        "        acceptance_rate.append((indices != 0).float().mean().item())\n",
        "        if step_id >= burn_in:\n",
        "            chains.append(x.detach().data.clone())\n",
        "    chains = torch.stack(chains, 0)\n",
        "    return chains, acceptance_rate"
      ],
      "metadata": {
        "id": "hk6g0LmQD8Ei"
      },
      "execution_count": 52,
      "outputs": []
    },
    {
      "cell_type": "markdown",
      "source": [
        "# HMC"
      ],
      "metadata": {
        "id": "3VScpUjCZnRw"
      }
    },
    {
      "cell_type": "code",
      "source": [
        "def HMC(\n",
        "    start,\n",
        "    target,\n",
        "    n_samples: int,\n",
        "    burn_in: int,\n",
        "    *,\n",
        "    step_size: float,\n",
        "    num_leapfrog_steps: float = 1,\n",
        "    verbose: bool = False,\n",
        ") -> torch.FloatTensor:\n",
        "    \"\"\"\n",
        "    Hamiltonian Monte Carlo\n",
        "\n",
        "    Args:\n",
        "        start - strating points of shape [n_chains x dim]\n",
        "        target - target distribution instance with method \"log_prob\"\n",
        "        n_samples - number of last samples from each chain to return\n",
        "        burn_in - number of first samples from each chain to throw away\n",
        "        step_size - step size for drift term\n",
        "        verbose - whether to show iterations' bar\n",
        "\n",
        "    Returns:\n",
        "        tensor of chains with shape [n_samples, n_chains, dim], acceptance rates\n",
        "        for each iteration\n",
        "    \"\"\"\n",
        "    x = start.clone()\n",
        "    x.requires_grad_(False)\n",
        "\n",
        "    def energy(z):\n",
        "        z = z[\"points\"]\n",
        "        return -target.log_prob(z).sum()\n",
        "\n",
        "    kernel = pyro_hmc(\n",
        "        potential_fn=energy,\n",
        "        step_size=step_size,\n",
        "        num_steps=num_leapfrog_steps,\n",
        "        full_mass=False,\n",
        "    )\n",
        "\n",
        "    init_params = {\"points\": x}\n",
        "    mcmc_true = MCMC(\n",
        "        kernel=kernel,\n",
        "        num_samples=n_samples,\n",
        "        initial_params=init_params,\n",
        "        warmup_steps=burn_in,\n",
        "    )\n",
        "    mcmc_true.run()\n",
        "\n",
        "    q_true = mcmc_true.get_samples(group_by_chain=True)[\"points\"]\n",
        "    samples_true = q_true.view(-1, *start.shape)\n",
        "\n",
        "    return samples_true"
      ],
      "metadata": {
        "id": "9ut5_wknZncW"
      },
      "execution_count": 53,
      "outputs": []
    },
    {
      "cell_type": "markdown",
      "source": [
        "# Testing sampler"
      ],
      "metadata": {
        "id": "v0FsnnYGSgG5"
      }
    },
    {
      "cell_type": "code",
      "execution_count": 54,
      "metadata": {
        "id": "K88ENnXTWWFW"
      },
      "outputs": [],
      "source": [
        "def experiment_ISIR(ran, gmms, ds, sigmas):\n",
        "  for i in ran:\n",
        "    proposal = Cauchy(\n",
        "        dim=ds[i],\n",
        "        loc=torch.zeros(ds[i]).to(device),\n",
        "        scale= 1.,\n",
        "        device=\"cpu\",\n",
        "    )\n",
        "    start_gmm = proposal.sample((N_CHAINS,)).detach().cpu()\n",
        "    chains, acceptance_rates_isir = ISIR(start_gmm, gmms[i], proposal, N_SAMPLES, BURN_IN, n_particles=1000, verbose=True)"
      ]
    },
    {
      "cell_type": "code",
      "source": [
        "def experiment_HMC(ran, gmms, ds, sigmas):\n",
        "  for i in ran:\n",
        "    proposal = Cauchy(\n",
        "        dim=ds[i],\n",
        "        loc=torch.zeros(ds[i]).to(device),\n",
        "        scale= 1.,\n",
        "        device=\"cpu\",\n",
        "    )\n",
        "    start_gmm = proposal.sample((N_CHAINS,)).detach().cpu()\n",
        "    chains= HMC(start_gmm, proposal, N_SAMPLES, BURN_IN, step_size = 0.1, verbose=True)"
      ],
      "metadata": {
        "id": "0-DHyPgEwPW-"
      },
      "execution_count": 55,
      "outputs": []
    },
    {
      "cell_type": "code",
      "source": [
        "a = 1\n",
        "d_ = [2, 10, 50, 100]\n",
        "sigma_ = [0.1, 1, 3]\n",
        "\n",
        "gmms, ds, sigmas = [], [], []\n",
        "\n",
        "for d in d_:\n",
        "  for sigma in sigma_:\n",
        "    gmm = GMM(dim=d, mu=1, sigma=sigma)\n",
        "    gmms.append(gmm)\n",
        "    ds.append(d)\n",
        "    sigmas.append(sigma)"
      ],
      "metadata": {
        "id": "qZ0FCRcNPvrn"
      },
      "execution_count": 56,
      "outputs": []
    },
    {
      "cell_type": "code",
      "source": [
        "N_CHAINS = 50\n",
        "N_SAMPLES = 1000\n",
        "BURN_IN = 10**2\n",
        "device=\"cpu\"\n",
        "\n",
        "experiment_ISIR(range(0,1), gmms, ds, sigmas)"
      ],
      "metadata": {
        "colab": {
          "base_uri": "https://localhost:8080/",
          "height": 49,
          "referenced_widgets": [
            "d7f812d8707243ddb858e7304ee0709d",
            "2be09dfb6aad42ac997b8caf3d15ac44",
            "7f32a3ece2744b869112401baabc0522",
            "fc7bca3e0f634f9885527fbe26dae611",
            "f92f85c6311a49c59dcb7fde75a690d2",
            "90a7100325444557808f7d765575f0e9",
            "1450182728fc4f00b3d372e330eccb68",
            "1acaaeecb9364099887bed1339559e98",
            "6c68e535f278491d9f3768811d013920",
            "becc3c32cc89465d8f0b86f1836b6245",
            "6570695c1d85453a885c7413dfe88f65"
          ]
        },
        "id": "qCJ1iqzbRUJJ",
        "outputId": "db7a2dd7-be1b-4f5f-d22b-2f118b62533c"
      },
      "execution_count": 57,
      "outputs": [
        {
          "output_type": "display_data",
          "data": {
            "text/plain": [
              "  0%|          | 0/1100 [00:00<?, ?it/s]"
            ],
            "application/vnd.jupyter.widget-view+json": {
              "version_major": 2,
              "version_minor": 0,
              "model_id": "d7f812d8707243ddb858e7304ee0709d"
            }
          },
          "metadata": {}
        }
      ]
    },
    {
      "cell_type": "code",
      "source": [
        "experiment_HMC(range(0,1), gmms, ds, sigmas)"
      ],
      "metadata": {
        "colab": {
          "base_uri": "https://localhost:8080/"
        },
        "id": "xAM8QX1ewX1x",
        "outputId": "4e4e0701-06ea-4c3c-ac25-8595e3eb5a64"
      },
      "execution_count": 58,
      "outputs": [
        {
          "output_type": "stream",
          "name": "stderr",
          "text": [
            "Sample: 100%|██████████| 1100/1100 [00:01, 659.55it/s, step size=3.53e-01, acc. prob=0.733]\n"
          ]
        }
      ]
    },
    {
      "cell_type": "markdown",
      "source": [
        "# Training parameters"
      ],
      "metadata": {
        "id": "Z4xFX0Z0aIo_"
      }
    },
    {
      "cell_type": "code",
      "source": [
        "dim = 2\n",
        "target = Banana(dim=dim, b=0.02)\n",
        "\n",
        "loc = nn.Parameter(torch.ones(dim))\n",
        "scale = nn.Parameter(torch.ones(dim))\n",
        "\n",
        "proposal = GMM(dim=dim, sigma=scale, mu=loc)\n",
        "\n",
        "N_CHAINS = torch.tensor(50)\n",
        "N_SAMPLES = 100\n",
        "BURN_IN = 10\n",
        "device=\"cpu\"\n",
        "\n",
        "#criterion = KLDivLoss(log_target=True)\n",
        "optimizer = optim.Adam(lr=1e-1, params=(loc, scale))"
      ],
      "metadata": {
        "id": "MIGogEizaMfF"
      },
      "execution_count": 69,
      "outputs": []
    },
    {
      "cell_type": "code",
      "source": [
        "proposal.visualize_dist(2000)"
      ],
      "metadata": {
        "colab": {
          "base_uri": "https://localhost:8080/",
          "height": 433
        },
        "id": "PIuncjrU41dQ",
        "outputId": "a16862fe-4987-4e4e-f7b6-79a67e4c6419"
      },
      "execution_count": 71,
      "outputs": [
        {
          "output_type": "display_data",
          "data": {
            "text/plain": [
              "<Figure size 640x480 with 2 Axes>"
            ],
            "image/png": "[encoded data removed]"
          },
          "metadata": {}
        }
      ]
    },
    {
      "cell_type": "code",
      "source": [
        "target.visualize_dist(2000)"
      ],
      "metadata": {
        "colab": {
          "base_uri": "https://localhost:8080/",
          "height": 430
        },
        "id": "xDeUJ4KI4-cB",
        "outputId": "acca225a-dffd-4d71-8840-570b7238017f"
      },
      "execution_count": 72,
      "outputs": [
        {
          "output_type": "display_data",
          "data": {
            "text/plain": [
              "<Figure size 640x480 with 2 Axes>"
            ],
            "image/png": "[encoded data removed]"
          },
          "metadata": {}
        }
      ]
    },
    {
      "cell_type": "code",
      "source": [
        "n_iter = 200\n",
        "loss_arr = []\n",
        "\n",
        "scheduler = StepLR(optimizer, 1, gamma=1-1e-2)\n",
        "\n",
        "for i in tqdm(range(n_iter)):\n",
        "    optimizer.zero_grad()\n",
        "    proposal = GMM(dim=dim, sigma=scale, mu=loc)\n",
        "    if i%10:\n",
        "      print(scale, loc)\n",
        "    chains = HMC(\n",
        "                  proposal.sample(N_CHAINS),\n",
        "                  target,\n",
        "                  N_SAMPLES,\n",
        "                  BURN_IN,\n",
        "                  step_size = 0.01,\n",
        "                  num_leapfrog_steps = 5,\n",
        "                  verbose = False,\n",
        "                )\n",
        "    #log_p = target.log_prob(chains)\n",
        "    log_q = proposal.log_prob(chains)\n",
        "\n",
        "    loss = (-1 * log_q).sum()\n",
        "    loss.backward()\n",
        "\n",
        "    optimizer.step()\n",
        "\n",
        "    scheduler.step()\n",
        "\n",
        "    loss_arr.append(loss.detach().item()/log_q.shape[0])"
      ],
      "metadata": {
        "colab": {
          "base_uri": "https://localhost:8080/",
          "height": 1000,
          "referenced_widgets": [
            "0f5a94c9986945239af3ef395b665fa8",
            "0f1fbad6bd70414c8a635d42ab2ed5ac",
            "9064a6ae5ba441cda9f80e30b1f9746a",
            "7ca6d5d6e1e041149b57b285b648baea",
            "104262d6637c4dfcbec6c3b8bbf32225",
            "78e4320974614119a0b19366c52931bf",
            "16b5681a42ca46eaa9c00bcbc599a7df",
            "084953c9a8af406eb99d073c01f89df9",
            "68ad6245e60344e6908c3ebeb129a8e5",
            "74597a24832d48bcb8047cdbb51950f3",
            "6f56f4f910234cefa091d3903c678606"
          ]
        },
        "collapsed": true,
        "id": "_YV3vIsgTzbq",
        "outputId": "b20d7b7b-c1ed-4b90-f8dc-c83ce082ddee"
      },
      "execution_count": 73,
      "outputs": [
        {
          "output_type": "display_data",
          "data": {
            "text/plain": [
              "  0%|          | 0/200 [00:00<?, ?it/s]"
            ],
            "application/vnd.jupyter.widget-view+json": {
              "version_major": 2,
              "version_minor": 0,
              "model_id": "0f5a94c9986945239af3ef395b665fa8"
            }
          },
          "metadata": {}
        },
        {
          "output_type": "stream",
          "name": "stderr",
          "text": [
            "Sample: 100%|██████████| 110/110 [00:00, 472.11it/s, step size=6.42e-01, acc. prob=0.826]\n"
          ]
        },
        {
          "output_type": "stream",
          "name": "stdout",
          "text": [
            "Parameter containing:\n",
            "tensor([1.1000, 1.1000], requires_grad=True) Parameter containing:\n",
            "tensor([1.1000, 0.9000], requires_grad=True)\n"
          ]
        },
        {
          "output_type": "stream",
          "name": "stderr",
          "text": [
            "Sample: 100%|██████████| 110/110 [00:00, 497.80it/s, step size=6.26e-01, acc. prob=0.797]\n"
          ]
        },
        {
          "output_type": "stream",
          "name": "stdout",
          "text": [
            "Parameter containing:\n",
            "tensor([1.1983, 1.1990], requires_grad=True) Parameter containing:\n",
            "tensor([1.1987, 0.8015], requires_grad=True)\n"
          ]
        },
        {
          "output_type": "stream",
          "name": "stderr",
          "text": [
            "Sample: 100%|██████████| 110/110 [00:00, 498.69it/s, step size=5.81e-01, acc. prob=0.870]\n"
          ]
        },
        {
          "output_type": "stream",
          "name": "stdout",
          "text": [
            "Parameter containing:\n",
            "tensor([1.2923, 1.2956], requires_grad=True) Parameter containing:\n",
            "tensor([1.2955, 0.7086], requires_grad=True)\n"
          ]
        },
        {
          "output_type": "stream",
          "name": "stderr",
          "text": [
            "Sample: 100%|██████████| 110/110 [00:00, 501.64it/s, step size=6.42e-01, acc. prob=0.798]\n"
          ]
        },
        {
          "output_type": "stream",
          "name": "stdout",
          "text": [
            "Parameter containing:\n",
            "tensor([1.3832, 1.3890], requires_grad=True) Parameter containing:\n",
            "tensor([1.3906, 0.6187], requires_grad=True)\n"
          ]
        },
        {
          "output_type": "stream",
          "name": "stderr",
          "text": [
            "Sample: 100%|██████████| 110/110 [00:00, 538.47it/s, step size=6.32e-01, acc. prob=0.813]\n"
          ]
        },
        {
          "output_type": "stream",
          "name": "stdout",
          "text": [
            "Parameter containing:\n",
            "tensor([1.4721, 1.4802], requires_grad=True) Parameter containing:\n",
            "tensor([1.4843, 0.5274], requires_grad=True)\n"
          ]
        },
        {
          "output_type": "stream",
          "name": "stderr",
          "text": [
            "Sample: 100%|██████████| 110/110 [00:00, 566.15it/s, step size=4.33e-01, acc. prob=0.944]\n"
          ]
        },
        {
          "output_type": "stream",
          "name": "stdout",
          "text": [
            "Parameter containing:\n",
            "tensor([1.5537, 1.5688], requires_grad=True) Parameter containing:\n",
            "tensor([1.5731, 0.4363], requires_grad=True)\n"
          ]
        },
        {
          "output_type": "stream",
          "name": "stderr",
          "text": [
            "Sample: 100%|██████████| 110/110 [00:00, 504.55it/s, step size=6.42e-01, acc. prob=0.824]\n"
          ]
        },
        {
          "output_type": "stream",
          "name": "stdout",
          "text": [
            "Parameter containing:\n",
            "tensor([1.6336, 1.6541], requires_grad=True) Parameter containing:\n",
            "tensor([1.6618, 0.3445], requires_grad=True)\n"
          ]
        },
        {
          "output_type": "stream",
          "name": "stderr",
          "text": [
            "Sample: 100%|██████████| 110/110 [00:00, 478.87it/s, step size=5.81e-01, acc. prob=0.863]\n"
          ]
        },
        {
          "output_type": "stream",
          "name": "stdout",
          "text": [
            "Parameter containing:\n",
            "tensor([1.7105, 1.7356], requires_grad=True) Parameter containing:\n",
            "tensor([1.7479, 0.2589], requires_grad=True)\n"
          ]
        },
        {
          "output_type": "stream",
          "name": "stderr",
          "text": [
            "Sample: 100%|██████████| 110/110 [00:00, 578.86it/s, step size=4.39e-01, acc. prob=0.936]\n"
          ]
        },
        {
          "output_type": "stream",
          "name": "stdout",
          "text": [
            "Parameter containing:\n",
            "tensor([1.7832, 1.8134], requires_grad=True) Parameter containing:\n",
            "tensor([1.8313, 0.1784], requires_grad=True)\n"
          ]
        },
        {
          "output_type": "stream",
          "name": "stderr",
          "text": [
            "Sample: 100%|██████████| 110/110 [00:00, 571.15it/s, step size=6.32e-01, acc. prob=0.792]\n",
            "Sample: 100%|██████████| 110/110 [00:00, 594.00it/s, step size=6.40e-01, acc. prob=0.784]\n"
          ]
        },
        {
          "output_type": "stream",
          "name": "stdout",
          "text": [
            "Parameter containing:\n",
            "tensor([1.9180, 1.9585], requires_grad=True) Parameter containing:\n",
            "tensor([1.9914, 0.0734], requires_grad=True)\n"
          ]
        },
        {
          "output_type": "stream",
          "name": "stderr",
          "text": [
            "Sample: 100%|██████████| 110/110 [00:00, 602.45it/s, step size=6.37e-01, acc. prob=0.801]\n"
          ]
        },
        {
          "output_type": "stream",
          "name": "stdout",
          "text": [
            "Parameter containing:\n",
            "tensor([1.9828, 2.0265], requires_grad=True) Parameter containing:\n",
            "tensor([2.0692, 0.0303], requires_grad=True)\n"
          ]
        },
        {
          "output_type": "stream",
          "name": "stderr",
          "text": [
            "Sample: 100%|██████████| 110/110 [00:00, 590.98it/s, step size=6.42e-01, acc. prob=0.763]\n"
          ]
        },
        {
          "output_type": "stream",
          "name": "stdout",
          "text": [
            "Parameter containing:\n",
            "tensor([2.0431, 2.0914], requires_grad=True) Parameter containing:\n",
            "tensor([ 2.1427, -0.0053], requires_grad=True)\n"
          ]
        },
        {
          "output_type": "stream",
          "name": "stderr",
          "text": [
            "Sample: 100%|██████████| 110/110 [00:00, 512.39it/s, step size=4.51e-01, acc. prob=0.934]\n"
          ]
        },
        {
          "output_type": "stream",
          "name": "stdout",
          "text": [
            "Parameter containing:\n",
            "tensor([2.0997, 2.1535], requires_grad=True) Parameter containing:\n",
            "tensor([ 2.2128, -0.0404], requires_grad=True)\n"
          ]
        },
        {
          "output_type": "stream",
          "name": "stderr",
          "text": [
            "Sample: 100%|██████████| 110/110 [00:00, 590.33it/s, step size=6.10e-01, acc. prob=0.830]\n"
          ]
        },
        {
          "output_type": "stream",
          "name": "stdout",
          "text": [
            "Parameter containing:\n",
            "tensor([2.1546, 2.2120], requires_grad=True) Parameter containing:\n",
            "tensor([ 2.2814, -0.0669], requires_grad=True)\n"
          ]
        },
        {
          "output_type": "stream",
          "name": "stderr",
          "text": [
            "Sample: 100%|██████████| 110/110 [00:00, 576.08it/s, step size=6.42e-01, acc. prob=0.821]\n"
          ]
        },
        {
          "output_type": "stream",
          "name": "stdout",
          "text": [
            "Parameter containing:\n",
            "tensor([2.2081, 2.2666], requires_grad=True) Parameter containing:\n",
            "tensor([ 2.3490, -0.0897], requires_grad=True)\n"
          ]
        },
        {
          "output_type": "stream",
          "name": "stderr",
          "text": [
            "Sample: 100%|██████████| 110/110 [00:00, 551.83it/s, step size=4.55e-01, acc. prob=0.922]\n"
          ]
        },
        {
          "output_type": "stream",
          "name": "stdout",
          "text": [
            "Parameter containing:\n",
            "tensor([2.2581, 2.3185], requires_grad=True) Parameter containing:\n",
            "tensor([ 2.4129, -0.0956], requires_grad=True)\n"
          ]
        },
        {
          "output_type": "stream",
          "name": "stderr",
          "text": [
            "Sample: 100%|██████████| 110/110 [00:00, 535.28it/s, step size=6.29e-01, acc. prob=0.826]\n"
          ]
        },
        {
          "output_type": "stream",
          "name": "stdout",
          "text": [
            "Parameter containing:\n",
            "tensor([2.3064, 2.3678], requires_grad=True) Parameter containing:\n",
            "tensor([ 2.4746, -0.0900], requires_grad=True)\n"
          ]
        },
        {
          "output_type": "stream",
          "name": "stderr",
          "text": [
            "Sample: 100%|██████████| 110/110 [00:00, 504.80it/s, step size=6.42e-01, acc. prob=0.825]\n"
          ]
        },
        {
          "output_type": "stream",
          "name": "stdout",
          "text": [
            "Parameter containing:\n",
            "tensor([2.3530, 2.4146], requires_grad=True) Parameter containing:\n",
            "tensor([ 2.5356, -0.0857], requires_grad=True)\n"
          ]
        },
        {
          "output_type": "stream",
          "name": "stderr",
          "text": [
            "Sample: 100%|██████████| 110/110 [00:00, 577.50it/s, step size=6.33e-01, acc. prob=0.797]\n",
            "Sample: 100%|██████████| 110/110 [00:00, 550.02it/s, step size=6.35e-01, acc. prob=0.826]\n"
          ]
        },
        {
          "output_type": "stream",
          "name": "stdout",
          "text": [
            "Parameter containing:\n",
            "tensor([2.4407, 2.5017], requires_grad=True) Parameter containing:\n",
            "tensor([ 2.6505, -0.0824], requires_grad=True)\n"
          ]
        },
        {
          "output_type": "stream",
          "name": "stderr",
          "text": [
            "Sample: 100%|██████████| 110/110 [00:00, 549.58it/s, step size=6.04e-01, acc. prob=0.853]\n"
          ]
        },
        {
          "output_type": "stream",
          "name": "stdout",
          "text": [
            "Parameter containing:\n",
            "tensor([2.4816, 2.5415], requires_grad=True) Parameter containing:\n",
            "tensor([ 2.7057, -0.0817], requires_grad=True)\n"
          ]
        },
        {
          "output_type": "stream",
          "name": "stderr",
          "text": [
            "Sample: 100%|██████████| 110/110 [00:00, 481.88it/s, step size=6.03e-01, acc. prob=0.862]\n"
          ]
        },
        {
          "output_type": "stream",
          "name": "stdout",
          "text": [
            "Parameter containing:\n",
            "tensor([2.5230, 2.5789], requires_grad=True) Parameter containing:\n",
            "tensor([ 2.7621, -0.0761], requires_grad=True)\n"
          ]
        },
        {
          "output_type": "stream",
          "name": "stderr",
          "text": [
            "Sample: 100%|██████████| 110/110 [00:00, 574.27it/s, step size=4.39e-01, acc. prob=0.939]\n"
          ]
        },
        {
          "output_type": "stream",
          "name": "stdout",
          "text": [
            "Parameter containing:\n",
            "tensor([2.5613, 2.6141], requires_grad=True) Parameter containing:\n",
            "tensor([ 2.8141, -0.0613], requires_grad=True)\n"
          ]
        },
        {
          "output_type": "stream",
          "name": "stderr",
          "text": [
            "Sample: 100%|██████████| 110/110 [00:00, 557.58it/s, step size=4.38e-01, acc. prob=0.941]\n"
          ]
        },
        {
          "output_type": "stream",
          "name": "stdout",
          "text": [
            "Parameter containing:\n",
            "tensor([2.5973, 2.6472], requires_grad=True) Parameter containing:\n",
            "tensor([ 2.8637, -0.0502], requires_grad=True)\n"
          ]
        },
        {
          "output_type": "stream",
          "name": "stderr",
          "text": [
            "Sample: 100%|██████████| 110/110 [00:00, 549.24it/s, step size=4.22e-01, acc. prob=0.948]\n"
          ]
        },
        {
          "output_type": "stream",
          "name": "stdout",
          "text": [
            "Parameter containing:\n",
            "tensor([2.6311, 2.6789], requires_grad=True) Parameter containing:\n",
            "tensor([ 2.9103, -0.0366], requires_grad=True)\n"
          ]
        },
        {
          "output_type": "stream",
          "name": "stderr",
          "text": [
            "Sample: 100%|██████████| 110/110 [00:00, 534.81it/s, step size=6.42e-01, acc. prob=0.796]\n"
          ]
        },
        {
          "output_type": "stream",
          "name": "stdout",
          "text": [
            "Parameter containing:\n",
            "tensor([2.6635, 2.7087], requires_grad=True) Parameter containing:\n",
            "tensor([ 2.9549, -0.0227], requires_grad=True)\n"
          ]
        },
        {
          "output_type": "stream",
          "name": "stderr",
          "text": [
            "Sample: 100%|██████████| 110/110 [00:00, 626.83it/s, step size=6.37e-01, acc. prob=0.808]\n"
          ]
        },
        {
          "output_type": "stream",
          "name": "stdout",
          "text": [
            "Parameter containing:\n",
            "tensor([2.6942, 2.7368], requires_grad=True) Parameter containing:\n",
            "tensor([ 2.9979, -0.0075], requires_grad=True)\n"
          ]
        },
        {
          "output_type": "stream",
          "name": "stderr",
          "text": [
            "Sample: 100%|██████████| 110/110 [00:00, 584.71it/s, step size=6.42e-01, acc. prob=0.796]\n"
          ]
        },
        {
          "output_type": "stream",
          "name": "stdout",
          "text": [
            "Parameter containing:\n",
            "tensor([2.7247, 2.7629], requires_grad=True) Parameter containing:\n",
            "tensor([3.0411, 0.0049], requires_grad=True)\n"
          ]
        },
        {
          "output_type": "stream",
          "name": "stderr",
          "text": [
            "Sample: 100%|██████████| 110/110 [00:00, 491.29it/s, step size=6.42e-01, acc. prob=0.824]\n",
            "Sample: 100%|██████████| 110/110 [00:00, 415.78it/s, step size=5.86e-01, acc. prob=0.848]\n"
          ]
        },
        {
          "output_type": "stream",
          "name": "stdout",
          "text": [
            "Parameter containing:\n",
            "tensor([2.7831, 2.8116], requires_grad=True) Parameter containing:\n",
            "tensor([3.1236, 0.0321], requires_grad=True)\n"
          ]
        },
        {
          "output_type": "stream",
          "name": "stderr",
          "text": [
            "Sample: 100%|██████████| 110/110 [00:00, 434.10it/s, step size=6.38e-01, acc. prob=0.780]\n"
          ]
        },
        {
          "output_type": "stream",
          "name": "stdout",
          "text": [
            "Parameter containing:\n",
            "tensor([2.8100, 2.8346], requires_grad=True) Parameter containing:\n",
            "tensor([3.1609, 0.0469], requires_grad=True)\n"
          ]
        },
        {
          "output_type": "stream",
          "name": "stderr",
          "text": [
            "Sample: 100%|██████████| 110/110 [00:00, 472.51it/s, step size=4.35e-01, acc. prob=0.947]\n"
          ]
        },
        {
          "output_type": "stream",
          "name": "stdout",
          "text": [
            "Parameter containing:\n",
            "tensor([2.8356, 2.8563], requires_grad=True) Parameter containing:\n",
            "tensor([3.1970, 0.0638], requires_grad=True)\n"
          ]
        },
        {
          "output_type": "stream",
          "name": "stderr",
          "text": [
            "Sample: 100%|██████████| 110/110 [00:00, 456.19it/s, step size=6.28e-01, acc. prob=0.811]\n"
          ]
        },
        {
          "output_type": "stream",
          "name": "stdout",
          "text": [
            "Parameter containing:\n",
            "tensor([2.8608, 2.8767], requires_grad=True) Parameter containing:\n",
            "tensor([3.2327, 0.0781], requires_grad=True)\n"
          ]
        },
        {
          "output_type": "stream",
          "name": "stderr",
          "text": [
            "Sample: 100%|██████████| 110/110 [00:00, 443.87it/s, step size=6.38e-01, acc. prob=0.803]\n"
          ]
        },
        {
          "output_type": "stream",
          "name": "stdout",
          "text": [
            "Parameter containing:\n",
            "tensor([2.8860, 2.8955], requires_grad=True) Parameter containing:\n",
            "tensor([3.2687, 0.0919], requires_grad=True)\n"
          ]
        },
        {
          "output_type": "stream",
          "name": "stderr",
          "text": [
            "Sample: 100%|██████████| 110/110 [00:00, 482.76it/s, step size=4.84e-01, acc. prob=0.922]\n"
          ]
        },
        {
          "output_type": "stream",
          "name": "stdout",
          "text": [
            "Parameter containing:\n",
            "tensor([2.9104, 2.9132], requires_grad=True) Parameter containing:\n",
            "tensor([3.3047, 0.1065], requires_grad=True)\n"
          ]
        },
        {
          "output_type": "stream",
          "name": "stderr",
          "text": [
            "Sample: 100%|██████████| 110/110 [00:00, 414.19it/s, step size=4.38e-01, acc. prob=0.937]\n"
          ]
        },
        {
          "output_type": "stream",
          "name": "stdout",
          "text": [
            "Parameter containing:\n",
            "tensor([2.9337, 2.9297], requires_grad=True) Parameter containing:\n",
            "tensor([3.3387, 0.1204], requires_grad=True)\n"
          ]
        },
        {
          "output_type": "stream",
          "name": "stderr",
          "text": [
            "Sample: 100%|██████████| 110/110 [00:00, 392.75it/s, step size=6.41e-01, acc. prob=0.809]\n"
          ]
        },
        {
          "output_type": "stream",
          "name": "stdout",
          "text": [
            "Parameter containing:\n",
            "tensor([2.9565, 2.9456], requires_grad=True) Parameter containing:\n",
            "tensor([3.3712, 0.1353], requires_grad=True)\n"
          ]
        },
        {
          "output_type": "stream",
          "name": "stderr",
          "text": [
            "Sample: 100%|██████████| 110/110 [00:00, 418.43it/s, step size=6.42e-01, acc. prob=0.840]\n"
          ]
        },
        {
          "output_type": "stream",
          "name": "stdout",
          "text": [
            "Parameter containing:\n",
            "tensor([2.9792, 2.9614], requires_grad=True) Parameter containing:\n",
            "tensor([3.4025, 0.1424], requires_grad=True)\n"
          ]
        },
        {
          "output_type": "stream",
          "name": "stderr",
          "text": [
            "Sample: 100%|██████████| 110/110 [00:00, 402.17it/s, step size=1.05e+00, acc. prob=0.307]\n",
            "Sample: 100%|██████████| 110/110 [00:00, 383.59it/s, step size=6.42e-01, acc. prob=0.831]\n"
          ]
        },
        {
          "output_type": "stream",
          "name": "stdout",
          "text": [
            "Parameter containing:\n",
            "tensor([3.0224, 2.9899], requires_grad=True) Parameter containing:\n",
            "tensor([3.4638, 0.1594], requires_grad=True)\n"
          ]
        },
        {
          "output_type": "stream",
          "name": "stderr",
          "text": [
            "Sample: 100%|██████████| 110/110 [00:00, 414.72it/s, step size=6.41e-01, acc. prob=0.805]\n"
          ]
        },
        {
          "output_type": "stream",
          "name": "stdout",
          "text": [
            "Parameter containing:\n",
            "tensor([3.0424, 3.0033], requires_grad=True) Parameter containing:\n",
            "tensor([3.4917, 0.1594], requires_grad=True)\n"
          ]
        },
        {
          "output_type": "stream",
          "name": "stderr",
          "text": [
            "Sample: 100%|██████████| 110/110 [00:00, 501.51it/s, step size=6.17e-01, acc. prob=0.816]\n"
          ]
        },
        {
          "output_type": "stream",
          "name": "stdout",
          "text": [
            "Parameter containing:\n",
            "tensor([3.0628, 3.0169], requires_grad=True) Parameter containing:\n",
            "tensor([3.5192, 0.1516], requires_grad=True)\n"
          ]
        },
        {
          "output_type": "stream",
          "name": "stderr",
          "text": [
            "Sample: 100%|██████████| 110/110 [00:00, 437.57it/s, step size=6.42e-01, acc. prob=0.798]\n"
          ]
        },
        {
          "output_type": "stream",
          "name": "stdout",
          "text": [
            "Parameter containing:\n",
            "tensor([3.0823, 3.0298], requires_grad=True) Parameter containing:\n",
            "tensor([3.5461, 0.1428], requires_grad=True)\n"
          ]
        },
        {
          "output_type": "stream",
          "name": "stderr",
          "text": [
            "Sample: 100%|██████████| 110/110 [00:00, 501.87it/s, step size=6.42e-01, acc. prob=0.802]\n"
          ]
        },
        {
          "output_type": "stream",
          "name": "stdout",
          "text": [
            "Parameter containing:\n",
            "tensor([3.1017, 3.0418], requires_grad=True) Parameter containing:\n",
            "tensor([3.5735, 0.1325], requires_grad=True)\n"
          ]
        },
        {
          "output_type": "stream",
          "name": "stderr",
          "text": [
            "Sample: 100%|██████████| 110/110 [00:00, 516.42it/s, step size=6.41e-01, acc. prob=0.823]\n"
          ]
        },
        {
          "output_type": "stream",
          "name": "stdout",
          "text": [
            "Parameter containing:\n",
            "tensor([3.1205, 3.0534], requires_grad=True) Parameter containing:\n",
            "tensor([3.5996, 0.1257], requires_grad=True)\n"
          ]
        },
        {
          "output_type": "stream",
          "name": "stderr",
          "text": [
            "Sample: 100%|██████████| 110/110 [00:00, 541.38it/s, step size=6.42e-01, acc. prob=0.816]\n"
          ]
        },
        {
          "output_type": "stream",
          "name": "stdout",
          "text": [
            "Parameter containing:\n",
            "tensor([3.1390, 3.0645], requires_grad=True) Parameter containing:\n",
            "tensor([3.6249, 0.1199], requires_grad=True)\n"
          ]
        },
        {
          "output_type": "stream",
          "name": "stderr",
          "text": [
            "Sample: 100%|██████████| 110/110 [00:00, 507.02it/s, step size=6.35e-01, acc. prob=0.812]\n"
          ]
        },
        {
          "output_type": "stream",
          "name": "stdout",
          "text": [
            "Parameter containing:\n",
            "tensor([3.1571, 3.0751], requires_grad=True) Parameter containing:\n",
            "tensor([3.6502, 0.1095], requires_grad=True)\n"
          ]
        },
        {
          "output_type": "stream",
          "name": "stderr",
          "text": [
            "Sample: 100%|██████████| 110/110 [00:00, 572.49it/s, step size=6.12e-01, acc. prob=0.855]\n"
          ]
        },
        {
          "output_type": "stream",
          "name": "stdout",
          "text": [
            "Parameter containing:\n",
            "tensor([3.1746, 3.0854], requires_grad=True) Parameter containing:\n",
            "tensor([3.6745, 0.0984], requires_grad=True)\n"
          ]
        },
        {
          "output_type": "stream",
          "name": "stderr",
          "text": [
            "Sample: 100%|██████████| 110/110 [00:00, 506.80it/s, step size=6.39e-01, acc. prob=0.814]\n",
            "Sample: 100%|██████████| 110/110 [00:00, 496.26it/s, step size=5.06e-01, acc. prob=0.907]\n"
          ]
        },
        {
          "output_type": "stream",
          "name": "stdout",
          "text": [
            "Parameter containing:\n",
            "tensor([3.2086, 3.1055], requires_grad=True) Parameter containing:\n",
            "tensor([3.7187, 0.0645], requires_grad=True)\n"
          ]
        },
        {
          "output_type": "stream",
          "name": "stderr",
          "text": [
            "Sample: 100%|██████████| 110/110 [00:00, 507.40it/s, step size=6.31e-01, acc. prob=0.843]\n"
          ]
        },
        {
          "output_type": "stream",
          "name": "stdout",
          "text": [
            "Parameter containing:\n",
            "tensor([3.2257, 3.1153], requires_grad=True) Parameter containing:\n",
            "tensor([3.7396, 0.0459], requires_grad=True)\n"
          ]
        },
        {
          "output_type": "stream",
          "name": "stderr",
          "text": [
            "Sample: 100%|██████████| 110/110 [00:00, 534.86it/s, step size=4.98e-01, acc. prob=0.910]\n"
          ]
        },
        {
          "output_type": "stream",
          "name": "stdout",
          "text": [
            "Parameter containing:\n",
            "tensor([3.2425, 3.1247], requires_grad=True) Parameter containing:\n",
            "tensor([3.7598, 0.0288], requires_grad=True)\n"
          ]
        },
        {
          "output_type": "stream",
          "name": "stderr",
          "text": [
            "Sample: 100%|██████████| 110/110 [00:00, 517.85it/s, step size=6.29e-01, acc. prob=0.813]\n"
          ]
        },
        {
          "output_type": "stream",
          "name": "stdout",
          "text": [
            "Parameter containing:\n",
            "tensor([3.2589, 3.1332], requires_grad=True) Parameter containing:\n",
            "tensor([3.7796, 0.0102], requires_grad=True)\n"
          ]
        },
        {
          "output_type": "stream",
          "name": "stderr",
          "text": [
            "Sample: 100%|██████████| 110/110 [00:00, 531.70it/s, step size=6.42e-01, acc. prob=0.811]\n"
          ]
        },
        {
          "output_type": "stream",
          "name": "stdout",
          "text": [
            "Parameter containing:\n",
            "tensor([3.2749, 3.1413], requires_grad=True) Parameter containing:\n",
            "tensor([ 3.7995e+00, -2.7568e-03], requires_grad=True)\n"
          ]
        },
        {
          "output_type": "stream",
          "name": "stderr",
          "text": [
            "Sample: 100%|██████████| 110/110 [00:00, 496.34it/s, step size=4.34e-01, acc. prob=0.940]\n"
          ]
        },
        {
          "output_type": "stream",
          "name": "stdout",
          "text": [
            "Parameter containing:\n",
            "tensor([3.2906, 3.1489], requires_grad=True) Parameter containing:\n",
            "tensor([ 3.8192, -0.0175], requires_grad=True)\n"
          ]
        },
        {
          "output_type": "stream",
          "name": "stderr",
          "text": [
            "Sample: 100%|██████████| 110/110 [00:00, 436.98it/s, step size=6.39e-01, acc. prob=0.798]\n"
          ]
        },
        {
          "output_type": "stream",
          "name": "stdout",
          "text": [
            "Parameter containing:\n",
            "tensor([3.3058, 3.1559], requires_grad=True) Parameter containing:\n",
            "tensor([ 3.8383, -0.0301], requires_grad=True)\n"
          ]
        },
        {
          "output_type": "stream",
          "name": "stderr",
          "text": [
            "Sample: 100%|██████████| 110/110 [00:00, 467.53it/s, step size=6.30e-01, acc. prob=0.788]\n"
          ]
        },
        {
          "output_type": "stream",
          "name": "stdout",
          "text": [
            "Parameter containing:\n",
            "tensor([3.3211, 3.1630], requires_grad=True) Parameter containing:\n",
            "tensor([ 3.8566, -0.0386], requires_grad=True)\n"
          ]
        },
        {
          "output_type": "stream",
          "name": "stderr",
          "text": [
            "Sample: 100%|██████████| 110/110 [00:00, 526.59it/s, step size=6.24e-01, acc. prob=0.796]\n"
          ]
        },
        {
          "output_type": "stream",
          "name": "stdout",
          "text": [
            "Parameter containing:\n",
            "tensor([3.3362, 3.1698], requires_grad=True) Parameter containing:\n",
            "tensor([ 3.8748, -0.0483], requires_grad=True)\n"
          ]
        },
        {
          "output_type": "stream",
          "name": "stderr",
          "text": [
            "Sample: 100%|██████████| 110/110 [00:00, 481.65it/s, step size=6.10e-01, acc. prob=0.848]\n",
            "Sample: 100%|██████████| 110/110 [00:00, 504.46it/s, step size=6.40e-01, acc. prob=0.801]\n"
          ]
        },
        {
          "output_type": "stream",
          "name": "stdout",
          "text": [
            "Parameter containing:\n",
            "tensor([3.3660, 3.1827], requires_grad=True) Parameter containing:\n",
            "tensor([ 3.9113, -0.0589], requires_grad=True)\n"
          ]
        },
        {
          "output_type": "stream",
          "name": "stderr",
          "text": [
            "Sample: 100%|██████████| 110/110 [00:00, 575.95it/s, step size=6.42e-01, acc. prob=0.777]\n"
          ]
        },
        {
          "output_type": "stream",
          "name": "stdout",
          "text": [
            "Parameter containing:\n",
            "tensor([3.3811, 3.1885], requires_grad=True) Parameter containing:\n",
            "tensor([ 3.9298, -0.0612], requires_grad=True)\n"
          ]
        },
        {
          "output_type": "stream",
          "name": "stderr",
          "text": [
            "Sample: 100%|██████████| 110/110 [00:00, 595.15it/s, step size=6.42e-01, acc. prob=0.800]\n"
          ]
        },
        {
          "output_type": "stream",
          "name": "stdout",
          "text": [
            "Parameter containing:\n",
            "tensor([3.3960, 3.1941], requires_grad=True) Parameter containing:\n",
            "tensor([ 3.9485, -0.0637], requires_grad=True)\n"
          ]
        },
        {
          "output_type": "stream",
          "name": "stderr",
          "text": [
            "Sample: 100%|██████████| 110/110 [00:00, 562.94it/s, step size=9.71e-01, acc. prob=0.437]\n"
          ]
        },
        {
          "output_type": "stream",
          "name": "stdout",
          "text": [
            "Parameter containing:\n",
            "tensor([3.4108, 3.1995], requires_grad=True) Parameter containing:\n",
            "tensor([ 3.9671, -0.0629], requires_grad=True)\n"
          ]
        },
        {
          "output_type": "stream",
          "name": "stderr",
          "text": [
            "Sample: 100%|██████████| 110/110 [00:00, 534.23it/s, step size=6.39e-01, acc. prob=0.832]\n"
          ]
        },
        {
          "output_type": "stream",
          "name": "stdout",
          "text": [
            "Parameter containing:\n",
            "tensor([3.4253, 3.2047], requires_grad=True) Parameter containing:\n",
            "tensor([ 3.9856, -0.0671], requires_grad=True)\n"
          ]
        },
        {
          "output_type": "stream",
          "name": "stderr",
          "text": [
            "Sample: 100%|██████████| 110/110 [00:00, 500.78it/s, step size=4.15e-01, acc. prob=0.945]\n"
          ]
        },
        {
          "output_type": "stream",
          "name": "stdout",
          "text": [
            "Parameter containing:\n",
            "tensor([3.4387, 3.2100], requires_grad=True) Parameter containing:\n",
            "tensor([ 4.0025, -0.0738], requires_grad=True)\n"
          ]
        },
        {
          "output_type": "stream",
          "name": "stderr",
          "text": [
            "Sample: 100%|██████████| 110/110 [00:00, 521.70it/s, step size=6.42e-01, acc. prob=0.776]\n"
          ]
        },
        {
          "output_type": "stream",
          "name": "stdout",
          "text": [
            "Parameter containing:\n",
            "tensor([3.4524, 3.2149], requires_grad=True) Parameter containing:\n",
            "tensor([ 4.0200, -0.0797], requires_grad=True)\n"
          ]
        },
        {
          "output_type": "stream",
          "name": "stderr",
          "text": [
            "Sample: 100%|██████████| 110/110 [00:00, 584.74it/s, step size=5.43e-01, acc. prob=0.878]\n"
          ]
        },
        {
          "output_type": "stream",
          "name": "stdout",
          "text": [
            "Parameter containing:\n",
            "tensor([3.4661, 3.2198], requires_grad=True) Parameter containing:\n",
            "tensor([ 4.0366, -0.0869], requires_grad=True)\n"
          ]
        },
        {
          "output_type": "stream",
          "name": "stderr",
          "text": [
            "Sample: 100%|██████████| 110/110 [00:00, 513.15it/s, step size=6.27e-01, acc. prob=0.819]\n"
          ]
        },
        {
          "output_type": "stream",
          "name": "stdout",
          "text": [
            "Parameter containing:\n",
            "tensor([3.4800, 3.2241], requires_grad=True) Parameter containing:\n",
            "tensor([ 4.0551, -0.0952], requires_grad=True)\n"
          ]
        },
        {
          "output_type": "stream",
          "name": "stderr",
          "text": [
            "Sample: 100%|██████████| 110/110 [00:00, 612.98it/s, step size=5.99e-01, acc. prob=0.825]\n",
            "Sample: 100%|██████████| 110/110 [00:00, 599.93it/s, step size=6.42e-01, acc. prob=0.844]\n"
          ]
        },
        {
          "output_type": "stream",
          "name": "stdout",
          "text": [
            "Parameter containing:\n",
            "tensor([3.5071, 3.2325], requires_grad=True) Parameter containing:\n",
            "tensor([ 4.0916, -0.1020], requires_grad=True)\n"
          ]
        },
        {
          "output_type": "stream",
          "name": "stderr",
          "text": [
            "Sample: 100%|██████████| 110/110 [00:00, 618.29it/s, step size=4.82e-01, acc. prob=0.921]\n"
          ]
        },
        {
          "output_type": "stream",
          "name": "stdout",
          "text": [
            "Parameter containing:\n",
            "tensor([3.5199, 3.2361], requires_grad=True) Parameter containing:\n",
            "tensor([ 4.1090, -0.1039], requires_grad=True)\n"
          ]
        },
        {
          "output_type": "stream",
          "name": "stderr",
          "text": [
            "Sample: 100%|██████████| 110/110 [00:00, 520.90it/s, step size=6.36e-01, acc. prob=0.825]\n"
          ]
        },
        {
          "output_type": "stream",
          "name": "stdout",
          "text": [
            "Parameter containing:\n",
            "tensor([3.5329, 3.2397], requires_grad=True) Parameter containing:\n",
            "tensor([ 4.1262, -0.1084], requires_grad=True)\n"
          ]
        },
        {
          "output_type": "stream",
          "name": "stderr",
          "text": [
            "Sample: 100%|██████████| 110/110 [00:00, 590.91it/s, step size=4.49e-01, acc. prob=0.931]"
          ]
        },
        {
          "output_type": "stream",
          "name": "stdout",
          "text": [
            "Parameter containing:\n",
            "tensor([3.5454, 3.2427], requires_grad=True)"
          ]
        },
        {
          "output_type": "stream",
          "name": "stderr",
          "text": [
            "\n"
          ]
        },
        {
          "output_type": "stream",
          "name": "stdout",
          "text": [
            " Parameter containing:\n",
            "tensor([ 4.1432, -0.1066], requires_grad=True)\n"
          ]
        },
        {
          "output_type": "stream",
          "name": "stderr",
          "text": [
            "Sample: 100%|██████████| 110/110 [00:00, 580.85it/s, step size=6.24e-01, acc. prob=0.830]\n"
          ]
        },
        {
          "output_type": "stream",
          "name": "stdout",
          "text": [
            "Parameter containing:\n",
            "tensor([3.5580, 3.2454], requires_grad=True) Parameter containing:\n",
            "tensor([ 4.1603, -0.1011], requires_grad=True)\n"
          ]
        },
        {
          "output_type": "stream",
          "name": "stderr",
          "text": [
            "Sample: 100%|██████████| 110/110 [00:00, 559.93it/s, step size=6.32e-01, acc. prob=0.805]\n"
          ]
        },
        {
          "output_type": "stream",
          "name": "stdout",
          "text": [
            "Parameter containing:\n",
            "tensor([3.5705, 3.2477], requires_grad=True) Parameter containing:\n",
            "tensor([ 4.1779, -0.0971], requires_grad=True)\n"
          ]
        },
        {
          "output_type": "stream",
          "name": "stderr",
          "text": [
            "Sample: 100%|██████████| 110/110 [00:00, 646.46it/s, step size=4.43e-01, acc. prob=0.933]\n"
          ]
        },
        {
          "output_type": "stream",
          "name": "stdout",
          "text": [
            "Parameter containing:\n",
            "tensor([3.5823, 3.2497], requires_grad=True) Parameter containing:\n",
            "tensor([ 4.1946, -0.0916], requires_grad=True)\n"
          ]
        },
        {
          "output_type": "stream",
          "name": "stderr",
          "text": [
            "Sample: 100%|██████████| 110/110 [00:00, 581.84it/s, step size=6.42e-01, acc. prob=0.789]\n"
          ]
        },
        {
          "output_type": "stream",
          "name": "stdout",
          "text": [
            "Parameter containing:\n",
            "tensor([3.5942, 3.2518], requires_grad=True) Parameter containing:\n",
            "tensor([ 4.2112, -0.0834], requires_grad=True)\n"
          ]
        },
        {
          "output_type": "stream",
          "name": "stderr",
          "text": [
            "Sample: 100%|██████████| 110/110 [00:00, 596.91it/s, step size=6.42e-01, acc. prob=0.825]\n"
          ]
        },
        {
          "output_type": "stream",
          "name": "stdout",
          "text": [
            "Parameter containing:\n",
            "tensor([3.6057, 3.2539], requires_grad=True) Parameter containing:\n",
            "tensor([ 4.2263, -0.0711], requires_grad=True)\n"
          ]
        },
        {
          "output_type": "stream",
          "name": "stderr",
          "text": [
            "Sample: 100%|██████████| 110/110 [00:00, 613.17it/s, step size=6.32e-01, acc. prob=0.824]\n",
            "Sample: 100%|██████████| 110/110 [00:00, 596.42it/s, step size=9.77e-01, acc. prob=0.393]\n"
          ]
        },
        {
          "output_type": "stream",
          "name": "stdout",
          "text": [
            "Parameter containing:\n",
            "tensor([3.6302, 3.2577], requires_grad=True) Parameter containing:\n",
            "tensor([ 4.2590, -0.0416], requires_grad=True)\n"
          ]
        },
        {
          "output_type": "stream",
          "name": "stderr",
          "text": [
            "Sample: 100%|██████████| 110/110 [00:00, 589.50it/s, step size=6.42e-01, acc. prob=0.798]\n"
          ]
        },
        {
          "output_type": "stream",
          "name": "stdout",
          "text": [
            "Parameter containing:\n",
            "tensor([3.6424, 3.2594], requires_grad=True) Parameter containing:\n",
            "tensor([ 4.2757, -0.0281], requires_grad=True)\n"
          ]
        },
        {
          "output_type": "stream",
          "name": "stderr",
          "text": [
            "Sample: 100%|██████████| 110/110 [00:00, 481.56it/s, step size=6.42e-01, acc. prob=0.811]\n"
          ]
        },
        {
          "output_type": "stream",
          "name": "stdout",
          "text": [
            "Parameter containing:\n",
            "tensor([3.6544, 3.2607], requires_grad=True) Parameter containing:\n",
            "tensor([ 4.2923, -0.0174], requires_grad=True)\n"
          ]
        },
        {
          "output_type": "stream",
          "name": "stderr",
          "text": [
            "Sample: 100%|██████████| 110/110 [00:00, 546.70it/s, step size=6.42e-01, acc. prob=0.800]\n"
          ]
        },
        {
          "output_type": "stream",
          "name": "stdout",
          "text": [
            "Parameter containing:\n",
            "tensor([3.6661, 3.2620], requires_grad=True) Parameter containing:\n",
            "tensor([ 4.3085, -0.0053], requires_grad=True)\n"
          ]
        },
        {
          "output_type": "stream",
          "name": "stderr",
          "text": [
            "Sample: 100%|██████████| 110/110 [00:00, 381.67it/s, step size=6.26e-01, acc. prob=0.785]\n"
          ]
        },
        {
          "output_type": "stream",
          "name": "stdout",
          "text": [
            "Parameter containing:\n",
            "tensor([3.6775, 3.2631], requires_grad=True) Parameter containing:\n",
            "tensor([4.3246, 0.0085], requires_grad=True)\n"
          ]
        },
        {
          "output_type": "stream",
          "name": "stderr",
          "text": [
            "Sample: 100%|██████████| 110/110 [00:00, 337.12it/s, step size=6.34e-01, acc. prob=0.809]\n"
          ]
        },
        {
          "output_type": "stream",
          "name": "stdout",
          "text": [
            "Parameter containing:\n",
            "tensor([3.6893, 3.2640], requires_grad=True) Parameter containing:\n",
            "tensor([4.3414, 0.0251], requires_grad=True)\n"
          ]
        },
        {
          "output_type": "stream",
          "name": "stderr",
          "text": [
            "Sample: 100%|██████████| 110/110 [00:00, 319.12it/s, step size=6.29e-01, acc. prob=0.815]\n"
          ]
        },
        {
          "output_type": "stream",
          "name": "stdout",
          "text": [
            "Parameter containing:\n",
            "tensor([3.7004, 3.2653], requires_grad=True) Parameter containing:\n",
            "tensor([4.3561, 0.0380], requires_grad=True)\n"
          ]
        },
        {
          "output_type": "stream",
          "name": "stderr",
          "text": [
            "Sample: 100%|██████████| 110/110 [00:00, 321.58it/s, step size=6.42e-01, acc. prob=0.795]\n"
          ]
        },
        {
          "output_type": "stream",
          "name": "stdout",
          "text": [
            "Parameter containing:\n",
            "tensor([3.7121, 3.2664], requires_grad=True) Parameter containing:\n",
            "tensor([4.3720, 0.0506], requires_grad=True)\n"
          ]
        },
        {
          "output_type": "stream",
          "name": "stderr",
          "text": [
            "Sample: 100%|██████████| 110/110 [00:00, 394.35it/s, step size=4.65e-01, acc. prob=0.913]\n"
          ]
        },
        {
          "output_type": "stream",
          "name": "stdout",
          "text": [
            "Parameter containing:\n",
            "tensor([3.7233, 3.2675], requires_grad=True) Parameter containing:\n",
            "tensor([4.3866, 0.0616], requires_grad=True)\n"
          ]
        },
        {
          "output_type": "stream",
          "name": "stderr",
          "text": [
            "Sample: 100%|██████████| 110/110 [00:00, 389.79it/s, step size=6.38e-01, acc. prob=0.804]\n",
            "Sample: 100%|██████████| 110/110 [00:00, 378.57it/s, step size=6.41e-01, acc. prob=0.783]\n"
          ]
        },
        {
          "output_type": "stream",
          "name": "stdout",
          "text": [
            "Parameter containing:\n",
            "tensor([3.7452, 3.2694], requires_grad=True) Parameter containing:\n",
            "tensor([4.4143, 0.0767], requires_grad=True)\n"
          ]
        },
        {
          "output_type": "stream",
          "name": "stderr",
          "text": [
            "Sample: 100%|██████████| 110/110 [00:00, 383.25it/s, step size=6.42e-01, acc. prob=0.806]\n"
          ]
        },
        {
          "output_type": "stream",
          "name": "stdout",
          "text": [
            "Parameter containing:\n",
            "tensor([3.7563, 3.2705], requires_grad=True) Parameter containing:\n",
            "tensor([4.4275, 0.0843], requires_grad=True)\n"
          ]
        },
        {
          "output_type": "stream",
          "name": "stderr",
          "text": [
            "Sample: 100%|██████████| 110/110 [00:00, 394.96it/s, step size=4.38e-01, acc. prob=0.929]\n"
          ]
        },
        {
          "output_type": "stream",
          "name": "stdout",
          "text": [
            "Parameter containing:\n",
            "tensor([3.7669, 3.2715], requires_grad=True) Parameter containing:\n",
            "tensor([4.4404, 0.0859], requires_grad=True)\n"
          ]
        },
        {
          "output_type": "stream",
          "name": "stderr",
          "text": [
            "Sample: 100%|██████████| 110/110 [00:00, 387.03it/s, step size=6.06e-01, acc. prob=0.835]\n"
          ]
        },
        {
          "output_type": "stream",
          "name": "stdout",
          "text": [
            "Parameter containing:\n",
            "tensor([3.7773, 3.2725], requires_grad=True) Parameter containing:\n",
            "tensor([4.4524, 0.0898], requires_grad=True)\n"
          ]
        },
        {
          "output_type": "stream",
          "name": "stderr",
          "text": [
            "Sample: 100%|██████████| 110/110 [00:00, 389.93it/s, step size=6.42e-01, acc. prob=0.838]\n"
          ]
        },
        {
          "output_type": "stream",
          "name": "stdout",
          "text": [
            "Parameter containing:\n",
            "tensor([3.7878, 3.2737], requires_grad=True) Parameter containing:\n",
            "tensor([4.4644, 0.0902], requires_grad=True)\n"
          ]
        },
        {
          "output_type": "stream",
          "name": "stderr",
          "text": [
            "Sample: 100%|██████████| 110/110 [00:00, 447.28it/s, step size=4.32e-01, acc. prob=0.940]\n"
          ]
        },
        {
          "output_type": "stream",
          "name": "stdout",
          "text": [
            "Parameter containing:\n",
            "tensor([3.7977, 3.2748], requires_grad=True) Parameter containing:\n",
            "tensor([4.4750, 0.0870], requires_grad=True)\n"
          ]
        },
        {
          "output_type": "stream",
          "name": "stderr",
          "text": [
            "Sample: 100%|██████████| 110/110 [00:00, 559.51it/s, step size=6.37e-01, acc. prob=0.833]\n"
          ]
        },
        {
          "output_type": "stream",
          "name": "stdout",
          "text": [
            "Parameter containing:\n",
            "tensor([3.8072, 3.2761], requires_grad=True) Parameter containing:\n",
            "tensor([4.4846, 0.0843], requires_grad=True)\n"
          ]
        },
        {
          "output_type": "stream",
          "name": "stderr",
          "text": [
            "Sample: 100%|██████████| 110/110 [00:00, 610.72it/s, step size=4.47e-01, acc. prob=0.952]\n"
          ]
        },
        {
          "output_type": "stream",
          "name": "stdout",
          "text": [
            "Parameter containing:\n",
            "tensor([3.8166, 3.2767], requires_grad=True) Parameter containing:\n",
            "tensor([4.4949, 0.0828], requires_grad=True)\n"
          ]
        },
        {
          "output_type": "stream",
          "name": "stderr",
          "text": [
            "Sample: 100%|██████████| 110/110 [00:00, 530.89it/s, step size=4.65e-01, acc. prob=0.927]\n"
          ]
        },
        {
          "output_type": "stream",
          "name": "stdout",
          "text": [
            "Parameter containing:\n",
            "tensor([3.8260, 3.2776], requires_grad=True) Parameter containing:\n",
            "tensor([4.5049, 0.0813], requires_grad=True)\n"
          ]
        },
        {
          "output_type": "stream",
          "name": "stderr",
          "text": [
            "Sample: 100%|██████████| 110/110 [00:00, 559.13it/s, step size=6.34e-01, acc. prob=0.776]\n",
            "Sample: 100%|██████████| 110/110 [00:00, 603.54it/s, step size=6.42e-01, acc. prob=0.811]\n"
          ]
        },
        {
          "output_type": "stream",
          "name": "stdout",
          "text": [
            "Parameter containing:\n",
            "tensor([3.8442, 3.2792], requires_grad=True) Parameter containing:\n",
            "tensor([4.5235, 0.0789], requires_grad=True)\n"
          ]
        },
        {
          "output_type": "stream",
          "name": "stderr",
          "text": [
            "Sample: 100%|██████████| 110/110 [00:00, 571.39it/s, step size=6.02e-01, acc. prob=0.830]\n"
          ]
        },
        {
          "output_type": "stream",
          "name": "stdout",
          "text": [
            "Parameter containing:\n",
            "tensor([3.8531, 3.2799], requires_grad=True) Parameter containing:\n",
            "tensor([4.5331, 0.0778], requires_grad=True)\n"
          ]
        },
        {
          "output_type": "stream",
          "name": "stderr",
          "text": [
            "Sample: 100%|██████████| 110/110 [00:00, 596.76it/s, step size=6.00e-01, acc. prob=0.851]\n"
          ]
        },
        {
          "output_type": "stream",
          "name": "stdout",
          "text": [
            "Parameter containing:\n",
            "tensor([3.8621, 3.2803], requires_grad=True) Parameter containing:\n",
            "tensor([4.5430, 0.0739], requires_grad=True)\n"
          ]
        },
        {
          "output_type": "stream",
          "name": "stderr",
          "text": [
            "Sample: 100%|██████████| 110/110 [00:00, 578.58it/s, step size=6.16e-01, acc. prob=0.828]\n"
          ]
        },
        {
          "output_type": "stream",
          "name": "stdout",
          "text": [
            "Parameter containing:\n",
            "tensor([3.8712, 3.2805], requires_grad=True) Parameter containing:\n",
            "tensor([4.5535, 0.0721], requires_grad=True)\n"
          ]
        },
        {
          "output_type": "stream",
          "name": "stderr",
          "text": [
            "Sample: 100%|██████████| 110/110 [00:00, 578.58it/s, step size=4.34e-01, acc. prob=0.934]\n"
          ]
        },
        {
          "output_type": "stream",
          "name": "stdout",
          "text": [
            "Parameter containing:\n",
            "tensor([3.8798, 3.2802], requires_grad=True) Parameter containing:\n",
            "tensor([4.5639, 0.0678], requires_grad=True)\n"
          ]
        },
        {
          "output_type": "stream",
          "name": "stderr",
          "text": [
            "Sample: 100%|██████████| 110/110 [00:00, 486.51it/s, step size=6.42e-01, acc. prob=0.798]\n"
          ]
        },
        {
          "output_type": "stream",
          "name": "stdout",
          "text": [
            "Parameter containing:\n",
            "tensor([3.8883, 3.2799], requires_grad=True) Parameter containing:\n",
            "tensor([4.5739, 0.0651], requires_grad=True)\n"
          ]
        },
        {
          "output_type": "stream",
          "name": "stderr",
          "text": [
            "Sample: 100%|██████████| 110/110 [00:00, 602.58it/s, step size=6.32e-01, acc. prob=0.799]\n"
          ]
        },
        {
          "output_type": "stream",
          "name": "stdout",
          "text": [
            "Parameter containing:\n",
            "tensor([3.8968, 3.2797], requires_grad=True) Parameter containing:\n",
            "tensor([4.5837, 0.0560], requires_grad=True)\n"
          ]
        },
        {
          "output_type": "stream",
          "name": "stderr",
          "text": [
            "Sample: 100%|██████████| 110/110 [00:00, 598.81it/s, step size=4.80e-01, acc. prob=0.918]\n"
          ]
        },
        {
          "output_type": "stream",
          "name": "stdout",
          "text": [
            "Parameter containing:\n",
            "tensor([3.9050, 3.2794], requires_grad=True) Parameter containing:\n",
            "tensor([4.5928, 0.0466], requires_grad=True)\n"
          ]
        },
        {
          "output_type": "stream",
          "name": "stderr",
          "text": [
            "Sample: 100%|██████████| 110/110 [00:00, 563.99it/s, step size=6.42e-01, acc. prob=0.773]\n"
          ]
        },
        {
          "output_type": "stream",
          "name": "stdout",
          "text": [
            "Parameter containing:\n",
            "tensor([3.9135, 3.2791], requires_grad=True) Parameter containing:\n",
            "tensor([4.6018, 0.0399], requires_grad=True)\n"
          ]
        },
        {
          "output_type": "stream",
          "name": "stderr",
          "text": [
            "Sample: 100%|██████████| 110/110 [00:00, 584.68it/s, step size=6.18e-01, acc. prob=0.825]\n",
            "Sample: 100%|██████████| 110/110 [00:00, 558.41it/s, step size=6.29e-01, acc. prob=0.829]\n"
          ]
        },
        {
          "output_type": "stream",
          "name": "stdout",
          "text": [
            "Parameter containing:\n",
            "tensor([3.9305, 3.2780], requires_grad=True) Parameter containing:\n",
            "tensor([4.6217, 0.0209], requires_grad=True)\n"
          ]
        },
        {
          "output_type": "stream",
          "name": "stderr",
          "text": [
            "Sample: 100%|██████████| 110/110 [00:00, 581.39it/s, step size=6.38e-01, acc. prob=0.813]\n"
          ]
        },
        {
          "output_type": "stream",
          "name": "stdout",
          "text": [
            "Parameter containing:\n",
            "tensor([3.9390, 3.2776], requires_grad=True) Parameter containing:\n",
            "tensor([4.6318, 0.0126], requires_grad=True)\n"
          ]
        },
        {
          "output_type": "stream",
          "name": "stderr",
          "text": [
            "Sample: 100%|██████████| 110/110 [00:00, 593.49it/s, step size=4.41e-01, acc. prob=0.943]\n"
          ]
        },
        {
          "output_type": "stream",
          "name": "stdout",
          "text": [
            "Parameter containing:\n",
            "tensor([3.9471, 3.2771], requires_grad=True) Parameter containing:\n",
            "tensor([4.6408e+00, 1.4106e-03], requires_grad=True)\n"
          ]
        },
        {
          "output_type": "stream",
          "name": "stderr",
          "text": [
            "Sample: 100%|██████████| 110/110 [00:00, 512.40it/s, step size=6.42e-01, acc. prob=0.812]\n"
          ]
        },
        {
          "output_type": "stream",
          "name": "stdout",
          "text": [
            "Parameter containing:\n",
            "tensor([3.9551, 3.2765], requires_grad=True) Parameter containing:\n",
            "tensor([ 4.6497, -0.0103], requires_grad=True)\n"
          ]
        },
        {
          "output_type": "stream",
          "name": "stderr",
          "text": [
            "Sample: 100%|██████████| 110/110 [00:00, 585.23it/s, step size=6.42e-01, acc. prob=0.820]\n"
          ]
        },
        {
          "output_type": "stream",
          "name": "stdout",
          "text": [
            "Parameter containing:\n",
            "tensor([3.9629, 3.2762], requires_grad=True) Parameter containing:\n",
            "tensor([ 4.6573, -0.0209], requires_grad=True)\n"
          ]
        },
        {
          "output_type": "stream",
          "name": "stderr",
          "text": [
            "Sample: 100%|██████████| 110/110 [00:00, 520.46it/s, step size=6.27e-01, acc. prob=0.817]\n"
          ]
        },
        {
          "output_type": "stream",
          "name": "stdout",
          "text": [
            "Parameter containing:\n",
            "tensor([3.9708, 3.2762], requires_grad=True) Parameter containing:\n",
            "tensor([ 4.6650, -0.0335], requires_grad=True)\n"
          ]
        },
        {
          "output_type": "stream",
          "name": "stderr",
          "text": [
            "Sample: 100%|██████████| 110/110 [00:00, 566.82it/s, step size=6.40e-01, acc. prob=0.832]\n"
          ]
        },
        {
          "output_type": "stream",
          "name": "stdout",
          "text": [
            "Parameter containing:\n",
            "tensor([3.9787, 3.2763], requires_grad=True) Parameter containing:\n",
            "tensor([ 4.6729, -0.0478], requires_grad=True)\n"
          ]
        },
        {
          "output_type": "stream",
          "name": "stderr",
          "text": [
            "Sample: 100%|██████████| 110/110 [00:00, 486.56it/s, step size=6.79e-01, acc. prob=0.761]\n"
          ]
        },
        {
          "output_type": "stream",
          "name": "stdout",
          "text": [
            "Parameter containing:\n",
            "tensor([3.9862, 3.2763], requires_grad=True) Parameter containing:\n",
            "tensor([ 4.6807, -0.0620], requires_grad=True)\n"
          ]
        },
        {
          "output_type": "stream",
          "name": "stderr",
          "text": [
            "Sample: 100%|██████████| 110/110 [00:00, 469.99it/s, step size=6.42e-01, acc. prob=0.817]\n"
          ]
        },
        {
          "output_type": "stream",
          "name": "stdout",
          "text": [
            "Parameter containing:\n",
            "tensor([3.9940, 3.2761], requires_grad=True) Parameter containing:\n",
            "tensor([ 4.6890, -0.0766], requires_grad=True)\n"
          ]
        },
        {
          "output_type": "stream",
          "name": "stderr",
          "text": [
            "Sample: 100%|██████████| 110/110 [00:00, 425.08it/s, step size=5.30e-01, acc. prob=0.861]\n",
            "Sample: 100%|██████████| 110/110 [00:00, 594.76it/s, step size=6.04e-01, acc. prob=0.858]\n"
          ]
        },
        {
          "output_type": "stream",
          "name": "stdout",
          "text": [
            "Parameter containing:\n",
            "tensor([4.0090, 3.2761], requires_grad=True) Parameter containing:\n",
            "tensor([ 4.7048, -0.0952], requires_grad=True)\n"
          ]
        },
        {
          "output_type": "stream",
          "name": "stderr",
          "text": [
            "Sample: 100%|██████████| 110/110 [00:00, 523.00it/s, step size=4.38e-01, acc. prob=0.934]\n"
          ]
        },
        {
          "output_type": "stream",
          "name": "stdout",
          "text": [
            "Parameter containing:\n",
            "tensor([4.0162, 3.2760], requires_grad=True) Parameter containing:\n",
            "tensor([ 4.7126, -0.0978], requires_grad=True)\n"
          ]
        },
        {
          "output_type": "stream",
          "name": "stderr",
          "text": [
            "Sample: 100%|██████████| 110/110 [00:00, 521.66it/s, step size=5.37e-01, acc. prob=0.885]\n"
          ]
        },
        {
          "output_type": "stream",
          "name": "stdout",
          "text": [
            "Parameter containing:\n",
            "tensor([4.0233, 3.2757], requires_grad=True) Parameter containing:\n",
            "tensor([ 4.7206, -0.0985], requires_grad=True)\n"
          ]
        },
        {
          "output_type": "stream",
          "name": "stderr",
          "text": [
            "Sample: 100%|██████████| 110/110 [00:00, 473.33it/s, step size=6.38e-01, acc. prob=0.782]\n"
          ]
        },
        {
          "output_type": "stream",
          "name": "stdout",
          "text": [
            "Parameter containing:\n",
            "tensor([4.0302, 3.2755], requires_grad=True) Parameter containing:\n",
            "tensor([ 4.7283, -0.0968], requires_grad=True)\n"
          ]
        },
        {
          "output_type": "stream",
          "name": "stderr",
          "text": [
            "Sample: 100%|██████████| 110/110 [00:00, 570.23it/s, step size=6.42e-01, acc. prob=0.802]\n"
          ]
        },
        {
          "output_type": "stream",
          "name": "stdout",
          "text": [
            "Parameter containing:\n",
            "tensor([4.0375, 3.2756], requires_grad=True) Parameter containing:\n",
            "tensor([ 4.7363, -0.0925], requires_grad=True)\n"
          ]
        },
        {
          "output_type": "stream",
          "name": "stderr",
          "text": [
            "Sample: 100%|██████████| 110/110 [00:00, 563.09it/s, step size=4.34e-01, acc. prob=0.936]\n"
          ]
        },
        {
          "output_type": "stream",
          "name": "stdout",
          "text": [
            "Parameter containing:\n",
            "tensor([4.0445, 3.2756], requires_grad=True) Parameter containing:\n",
            "tensor([ 4.7438, -0.0865], requires_grad=True)\n"
          ]
        },
        {
          "output_type": "stream",
          "name": "stderr",
          "text": [
            "Sample: 100%|██████████| 110/110 [00:00, 601.59it/s, step size=6.42e-01, acc. prob=0.811]\n"
          ]
        },
        {
          "output_type": "stream",
          "name": "stdout",
          "text": [
            "Parameter containing:\n",
            "tensor([4.0518, 3.2757], requires_grad=True) Parameter containing:\n",
            "tensor([ 4.7516, -0.0774], requires_grad=True)\n"
          ]
        },
        {
          "output_type": "stream",
          "name": "stderr",
          "text": [
            "Sample: 100%|██████████| 110/110 [00:00, 530.47it/s, step size=4.38e-01, acc. prob=0.938]\n"
          ]
        },
        {
          "output_type": "stream",
          "name": "stdout",
          "text": [
            "Parameter containing:\n",
            "tensor([4.0587, 3.2757], requires_grad=True) Parameter containing:\n",
            "tensor([ 4.7592, -0.0688], requires_grad=True)\n"
          ]
        },
        {
          "output_type": "stream",
          "name": "stderr",
          "text": [
            "Sample: 100%|██████████| 110/110 [00:00, 468.75it/s, step size=4.93e-01, acc. prob=0.909]\n"
          ]
        },
        {
          "output_type": "stream",
          "name": "stdout",
          "text": [
            "Parameter containing:\n",
            "tensor([4.0653, 3.2756], requires_grad=True) Parameter containing:\n",
            "tensor([ 4.7656, -0.0613], requires_grad=True)\n"
          ]
        },
        {
          "output_type": "stream",
          "name": "stderr",
          "text": [
            "Sample: 100%|██████████| 110/110 [00:00, 526.11it/s, step size=6.32e-01, acc. prob=0.769]\n",
            "Sample: 100%|██████████| 110/110 [00:00, 514.96it/s, step size=8.25e-01, acc. prob=0.636]\n"
          ]
        },
        {
          "output_type": "stream",
          "name": "stdout",
          "text": [
            "Parameter containing:\n",
            "tensor([4.0789, 3.2761], requires_grad=True) Parameter containing:\n",
            "tensor([ 4.7784, -0.0468], requires_grad=True)\n"
          ]
        },
        {
          "output_type": "stream",
          "name": "stderr",
          "text": [
            "Sample: 100%|██████████| 110/110 [00:00, 573.31it/s, step size=6.42e-01, acc. prob=0.786]\n"
          ]
        },
        {
          "output_type": "stream",
          "name": "stdout",
          "text": [
            "Parameter containing:\n",
            "tensor([4.0861, 3.2767], requires_grad=True) Parameter containing:\n",
            "tensor([ 4.7860, -0.0417], requires_grad=True)\n"
          ]
        },
        {
          "output_type": "stream",
          "name": "stderr",
          "text": [
            "Sample: 100%|██████████| 110/110 [00:00, 556.76it/s, step size=4.30e-01, acc. prob=0.938]\n"
          ]
        },
        {
          "output_type": "stream",
          "name": "stdout",
          "text": [
            "Parameter containing:\n",
            "tensor([4.0933, 3.2770], requires_grad=True) Parameter containing:\n",
            "tensor([ 4.7930, -0.0356], requires_grad=True)\n"
          ]
        },
        {
          "output_type": "stream",
          "name": "stderr",
          "text": [
            "Sample: 100%|██████████| 110/110 [00:00, 580.19it/s, step size=6.42e-01, acc. prob=0.778]\n"
          ]
        },
        {
          "output_type": "stream",
          "name": "stdout",
          "text": [
            "Parameter containing:\n",
            "tensor([4.1007, 3.2772], requires_grad=True) Parameter containing:\n",
            "tensor([ 4.8005, -0.0312], requires_grad=True)\n"
          ]
        },
        {
          "output_type": "stream",
          "name": "stderr",
          "text": [
            "Sample: 100%|██████████| 110/110 [00:00, 481.54it/s, step size=5.63e-01, acc. prob=0.839]\n"
          ]
        },
        {
          "output_type": "stream",
          "name": "stdout",
          "text": [
            "Parameter containing:\n",
            "tensor([4.1078, 3.2773], requires_grad=True) Parameter containing:\n",
            "tensor([ 4.8082, -0.0284], requires_grad=True)\n"
          ]
        },
        {
          "output_type": "stream",
          "name": "stderr",
          "text": [
            "Sample: 100%|██████████| 110/110 [00:00, 476.23it/s, step size=4.25e-01, acc. prob=0.944]\n"
          ]
        },
        {
          "output_type": "stream",
          "name": "stdout",
          "text": [
            "Parameter containing:\n",
            "tensor([4.1147, 3.2771], requires_grad=True) Parameter containing:\n",
            "tensor([ 4.8156, -0.0247], requires_grad=True)\n"
          ]
        },
        {
          "output_type": "stream",
          "name": "stderr",
          "text": [
            "Sample: 100%|██████████| 110/110 [00:00, 492.99it/s, step size=6.42e-01, acc. prob=0.772]\n"
          ]
        },
        {
          "output_type": "stream",
          "name": "stdout",
          "text": [
            "Parameter containing:\n",
            "tensor([4.1216, 3.2767], requires_grad=True) Parameter containing:\n",
            "tensor([ 4.8234, -0.0191], requires_grad=True)\n"
          ]
        },
        {
          "output_type": "stream",
          "name": "stderr",
          "text": [
            "Sample: 100%|██████████| 110/110 [00:00, 566.01it/s, step size=6.35e-01, acc. prob=0.783]\n"
          ]
        },
        {
          "output_type": "stream",
          "name": "stdout",
          "text": [
            "Parameter containing:\n",
            "tensor([4.1285, 3.2763], requires_grad=True) Parameter containing:\n",
            "tensor([ 4.8316, -0.0140], requires_grad=True)\n"
          ]
        },
        {
          "output_type": "stream",
          "name": "stderr",
          "text": [
            "Sample: 100%|██████████| 110/110 [00:00, 548.76it/s, step size=6.40e-01, acc. prob=0.804]\n"
          ]
        },
        {
          "output_type": "stream",
          "name": "stdout",
          "text": [
            "Parameter containing:\n",
            "tensor([4.1355, 3.2762], requires_grad=True) Parameter containing:\n",
            "tensor([ 4.8390, -0.0086], requires_grad=True)\n"
          ]
        },
        {
          "output_type": "stream",
          "name": "stderr",
          "text": [
            "Sample: 100%|██████████| 110/110 [00:00, 398.91it/s, step size=6.38e-01, acc. prob=0.832]\n",
            "Sample: 100%|██████████| 110/110 [00:00, 403.17it/s, step size=6.20e-01, acc. prob=0.836]\n"
          ]
        },
        {
          "output_type": "stream",
          "name": "stdout",
          "text": [
            "Parameter containing:\n",
            "tensor([4.1491, 3.2756], requires_grad=True) Parameter containing:\n",
            "tensor([4.8532e+00, 4.3260e-03], requires_grad=True)\n"
          ]
        },
        {
          "output_type": "stream",
          "name": "stderr",
          "text": [
            "Sample: 100%|██████████| 110/110 [00:00, 448.33it/s, step size=4.30e-01, acc. prob=0.951]\n"
          ]
        },
        {
          "output_type": "stream",
          "name": "stdout",
          "text": [
            "Parameter containing:\n",
            "tensor([4.1558, 3.2750], requires_grad=True) Parameter containing:\n",
            "tensor([4.8606, 0.0071], requires_grad=True)\n"
          ]
        },
        {
          "output_type": "stream",
          "name": "stderr",
          "text": [
            "Sample: 100%|██████████| 110/110 [00:00, 419.79it/s, step size=5.78e-01, acc. prob=0.858]\n"
          ]
        },
        {
          "output_type": "stream",
          "name": "stdout",
          "text": [
            "Parameter containing:\n",
            "tensor([4.1624, 3.2747], requires_grad=True) Parameter containing:\n",
            "tensor([4.8676, 0.0090], requires_grad=True)\n"
          ]
        },
        {
          "output_type": "stream",
          "name": "stderr",
          "text": [
            "Sample: 100%|██████████| 110/110 [00:00, 424.44it/s, step size=6.39e-01, acc. prob=0.825]\n"
          ]
        },
        {
          "output_type": "stream",
          "name": "stdout",
          "text": [
            "Parameter containing:\n",
            "tensor([4.1689, 3.2746], requires_grad=True) Parameter containing:\n",
            "tensor([4.8740, 0.0106], requires_grad=True)\n"
          ]
        },
        {
          "output_type": "stream",
          "name": "stderr",
          "text": [
            "Sample: 100%|██████████| 110/110 [00:00, 425.53it/s, step size=6.37e-01, acc. prob=0.793]\n"
          ]
        },
        {
          "output_type": "stream",
          "name": "stdout",
          "text": [
            "Parameter containing:\n",
            "tensor([4.1754, 3.2745], requires_grad=True) Parameter containing:\n",
            "tensor([4.8802, 0.0119], requires_grad=True)\n"
          ]
        },
        {
          "output_type": "stream",
          "name": "stderr",
          "text": [
            "Sample: 100%|██████████| 110/110 [00:00, 399.55it/s, step size=6.03e-01, acc. prob=0.859]\n"
          ]
        },
        {
          "output_type": "stream",
          "name": "stdout",
          "text": [
            "Parameter containing:\n",
            "tensor([4.1816, 3.2745], requires_grad=True) Parameter containing:\n",
            "tensor([4.8856, 0.0144], requires_grad=True)\n"
          ]
        },
        {
          "output_type": "stream",
          "name": "stderr",
          "text": [
            "Sample: 100%|██████████| 110/110 [00:00, 302.70it/s, step size=6.42e-01, acc. prob=0.774]\n"
          ]
        },
        {
          "output_type": "stream",
          "name": "stdout",
          "text": [
            "Parameter containing:\n",
            "tensor([4.1878, 3.2743], requires_grad=True) Parameter containing:\n",
            "tensor([4.8912, 0.0175], requires_grad=True)\n"
          ]
        },
        {
          "output_type": "stream",
          "name": "stderr",
          "text": [
            "Sample: 100%|██████████| 110/110 [00:00, 341.24it/s, step size=6.33e-01, acc. prob=0.803]\n"
          ]
        },
        {
          "output_type": "stream",
          "name": "stdout",
          "text": [
            "Parameter containing:\n",
            "tensor([4.1939, 3.2742], requires_grad=True) Parameter containing:\n",
            "tensor([4.8966, 0.0220], requires_grad=True)\n"
          ]
        },
        {
          "output_type": "stream",
          "name": "stderr",
          "text": [
            "Sample: 100%|██████████| 110/110 [00:00, 297.53it/s, step size=4.75e-01, acc. prob=0.925]\n"
          ]
        },
        {
          "output_type": "stream",
          "name": "stdout",
          "text": [
            "Parameter containing:\n",
            "tensor([4.1998, 3.2740], requires_grad=True) Parameter containing:\n",
            "tensor([4.9017, 0.0268], requires_grad=True)\n"
          ]
        },
        {
          "output_type": "stream",
          "name": "stderr",
          "text": [
            "Sample: 100%|██████████| 110/110 [00:00, 349.86it/s, step size=6.42e-01, acc. prob=0.813]\n",
            "Sample: 100%|██████████| 110/110 [00:00, 309.77it/s, step size=5.91e-01, acc. prob=0.857]\n"
          ]
        },
        {
          "output_type": "stream",
          "name": "stdout",
          "text": [
            "Parameter containing:\n",
            "tensor([4.2113, 3.2737], requires_grad=True) Parameter containing:\n",
            "tensor([4.9103, 0.0343], requires_grad=True)\n"
          ]
        },
        {
          "output_type": "stream",
          "name": "stderr",
          "text": [
            "Sample: 100%|██████████| 110/110 [00:00, 453.72it/s, step size=4.32e-01, acc. prob=0.933]\n"
          ]
        },
        {
          "output_type": "stream",
          "name": "stdout",
          "text": [
            "Parameter containing:\n",
            "tensor([4.2168, 3.2734], requires_grad=True) Parameter containing:\n",
            "tensor([4.9145, 0.0362], requires_grad=True)\n"
          ]
        },
        {
          "output_type": "stream",
          "name": "stderr",
          "text": [
            "Sample: 100%|██████████| 110/110 [00:00, 556.83it/s, step size=6.38e-01, acc. prob=0.786]\n"
          ]
        },
        {
          "output_type": "stream",
          "name": "stdout",
          "text": [
            "Parameter containing:\n",
            "tensor([4.2225, 3.2734], requires_grad=True) Parameter containing:\n",
            "tensor([4.9189, 0.0386], requires_grad=True)\n"
          ]
        },
        {
          "output_type": "stream",
          "name": "stderr",
          "text": [
            "Sample: 100%|██████████| 110/110 [00:00, 558.71it/s, step size=6.36e-01, acc. prob=0.838]\n"
          ]
        },
        {
          "output_type": "stream",
          "name": "stdout",
          "text": [
            "Parameter containing:\n",
            "tensor([4.2280, 3.2735], requires_grad=True) Parameter containing:\n",
            "tensor([4.9227, 0.0424], requires_grad=True)\n"
          ]
        },
        {
          "output_type": "stream",
          "name": "stderr",
          "text": [
            "Sample: 100%|██████████| 110/110 [00:00, 476.37it/s, step size=6.36e-01, acc. prob=0.797]\n"
          ]
        },
        {
          "output_type": "stream",
          "name": "stdout",
          "text": [
            "Parameter containing:\n",
            "tensor([4.2335, 3.2736], requires_grad=True) Parameter containing:\n",
            "tensor([4.9264, 0.0443], requires_grad=True)\n"
          ]
        },
        {
          "output_type": "stream",
          "name": "stderr",
          "text": [
            "Sample: 100%|██████████| 110/110 [00:00, 494.89it/s, step size=6.29e-01, acc. prob=0.781]\n"
          ]
        },
        {
          "output_type": "stream",
          "name": "stdout",
          "text": [
            "Parameter containing:\n",
            "tensor([4.2388, 3.2737], requires_grad=True) Parameter containing:\n",
            "tensor([4.9303, 0.0467], requires_grad=True)\n"
          ]
        },
        {
          "output_type": "stream",
          "name": "stderr",
          "text": [
            "Sample: 100%|██████████| 110/110 [00:00, 476.37it/s, step size=6.42e-01, acc. prob=0.812]\n"
          ]
        },
        {
          "output_type": "stream",
          "name": "stdout",
          "text": [
            "Parameter containing:\n",
            "tensor([4.2439, 3.2736], requires_grad=True) Parameter containing:\n",
            "tensor([4.9337, 0.0462], requires_grad=True)\n"
          ]
        },
        {
          "output_type": "stream",
          "name": "stderr",
          "text": [
            "Sample: 100%|██████████| 110/110 [00:00, 523.14it/s, step size=6.34e-01, acc. prob=0.812]\n"
          ]
        },
        {
          "output_type": "stream",
          "name": "stdout",
          "text": [
            "Parameter containing:\n",
            "tensor([4.2489, 3.2736], requires_grad=True) Parameter containing:\n",
            "tensor([4.9368, 0.0465], requires_grad=True)\n"
          ]
        },
        {
          "output_type": "stream",
          "name": "stderr",
          "text": [
            "Sample: 100%|██████████| 110/110 [00:00, 482.98it/s, step size=6.35e-01, acc. prob=0.803]\n"
          ]
        },
        {
          "output_type": "stream",
          "name": "stdout",
          "text": [
            "Parameter containing:\n",
            "tensor([4.2538, 3.2734], requires_grad=True) Parameter containing:\n",
            "tensor([4.9401, 0.0469], requires_grad=True)\n"
          ]
        },
        {
          "output_type": "stream",
          "name": "stderr",
          "text": [
            "Sample: 100%|██████████| 110/110 [00:00, 563.66it/s, step size=6.42e-01, acc. prob=0.809]\n",
            "Sample: 100%|██████████| 110/110 [00:00, 613.33it/s, step size=5.08e-01, acc. prob=0.897]\n"
          ]
        },
        {
          "output_type": "stream",
          "name": "stdout",
          "text": [
            "Parameter containing:\n",
            "tensor([4.2634, 3.2726], requires_grad=True) Parameter containing:\n",
            "tensor([4.9472, 0.0458], requires_grad=True)\n"
          ]
        },
        {
          "output_type": "stream",
          "name": "stderr",
          "text": [
            "Sample: 100%|██████████| 110/110 [00:00, 575.90it/s, step size=6.21e-01, acc. prob=0.827]\n"
          ]
        },
        {
          "output_type": "stream",
          "name": "stdout",
          "text": [
            "Parameter containing:\n",
            "tensor([4.2683, 3.2725], requires_grad=True) Parameter containing:\n",
            "tensor([4.9511, 0.0449], requires_grad=True)\n"
          ]
        },
        {
          "output_type": "stream",
          "name": "stderr",
          "text": [
            "Sample: 100%|██████████| 110/110 [00:00, 541.36it/s, step size=6.24e-01, acc. prob=0.807]\n"
          ]
        },
        {
          "output_type": "stream",
          "name": "stdout",
          "text": [
            "Parameter containing:\n",
            "tensor([4.2730, 3.2725], requires_grad=True) Parameter containing:\n",
            "tensor([4.9547, 0.0425], requires_grad=True)\n"
          ]
        },
        {
          "output_type": "stream",
          "name": "stderr",
          "text": [
            "Sample: 100%|██████████| 110/110 [00:00, 480.38it/s, step size=6.30e-01, acc. prob=0.825]\n"
          ]
        },
        {
          "output_type": "stream",
          "name": "stdout",
          "text": [
            "Parameter containing:\n",
            "tensor([4.2778, 3.2725], requires_grad=True) Parameter containing:\n",
            "tensor([4.9588, 0.0396], requires_grad=True)\n"
          ]
        },
        {
          "output_type": "stream",
          "name": "stderr",
          "text": [
            "Sample: 100%|██████████| 110/110 [00:00, 563.22it/s, step size=6.42e-01, acc. prob=0.792]\n"
          ]
        },
        {
          "output_type": "stream",
          "name": "stdout",
          "text": [
            "Parameter containing:\n",
            "tensor([4.2827, 3.2725], requires_grad=True) Parameter containing:\n",
            "tensor([4.9628, 0.0369], requires_grad=True)\n"
          ]
        },
        {
          "output_type": "stream",
          "name": "stderr",
          "text": [
            "Sample: 100%|██████████| 110/110 [00:00, 566.59it/s, step size=4.72e-01, acc. prob=0.927]\n"
          ]
        },
        {
          "output_type": "stream",
          "name": "stdout",
          "text": [
            "Parameter containing:\n",
            "tensor([4.2874, 3.2726], requires_grad=True) Parameter containing:\n",
            "tensor([4.9661, 0.0379], requires_grad=True)\n"
          ]
        },
        {
          "output_type": "stream",
          "name": "stderr",
          "text": [
            "Sample: 100%|██████████| 110/110 [00:00, 561.52it/s, step size=4.34e-01, acc. prob=0.933]\n"
          ]
        },
        {
          "output_type": "stream",
          "name": "stdout",
          "text": [
            "Parameter containing:\n",
            "tensor([4.2920, 3.2726], requires_grad=True) Parameter containing:\n",
            "tensor([4.9696, 0.0389], requires_grad=True)\n"
          ]
        },
        {
          "output_type": "stream",
          "name": "stderr",
          "text": [
            "Sample: 100%|██████████| 110/110 [00:00, 514.41it/s, step size=6.42e-01, acc. prob=0.774]\n"
          ]
        },
        {
          "output_type": "stream",
          "name": "stdout",
          "text": [
            "Parameter containing:\n",
            "tensor([4.2969, 3.2729], requires_grad=True) Parameter containing:\n",
            "tensor([4.9738, 0.0383], requires_grad=True)\n"
          ]
        },
        {
          "output_type": "stream",
          "name": "stderr",
          "text": [
            "Sample: 100%|██████████| 110/110 [00:00, 579.44it/s, step size=6.42e-01, acc. prob=0.780]\n"
          ]
        },
        {
          "output_type": "stream",
          "name": "stdout",
          "text": [
            "Parameter containing:\n",
            "tensor([4.3019, 3.2732], requires_grad=True) Parameter containing:\n",
            "tensor([4.9783, 0.0373], requires_grad=True)\n"
          ]
        },
        {
          "output_type": "stream",
          "name": "stderr",
          "text": [
            "Sample: 100%|██████████| 110/110 [00:00, 611.74it/s, step size=6.42e-01, acc. prob=0.812]\n",
            "Sample: 100%|██████████| 110/110 [00:00, 556.30it/s, step size=5.36e-01, acc. prob=0.883]\n"
          ]
        },
        {
          "output_type": "stream",
          "name": "stdout",
          "text": [
            "Parameter containing:\n",
            "tensor([4.3112, 3.2739], requires_grad=True) Parameter containing:\n",
            "tensor([4.9858, 0.0371], requires_grad=True)\n"
          ]
        },
        {
          "output_type": "stream",
          "name": "stderr",
          "text": [
            "Sample: 100%|██████████| 110/110 [00:00, 591.29it/s, step size=6.42e-01, acc. prob=0.797]\n"
          ]
        },
        {
          "output_type": "stream",
          "name": "stdout",
          "text": [
            "Parameter containing:\n",
            "tensor([4.3159, 3.2745], requires_grad=True) Parameter containing:\n",
            "tensor([4.9894, 0.0367], requires_grad=True)\n"
          ]
        },
        {
          "output_type": "stream",
          "name": "stderr",
          "text": [
            "Sample: 100%|██████████| 110/110 [00:00, 510.08it/s, step size=4.36e-01, acc. prob=0.922]\n"
          ]
        },
        {
          "output_type": "stream",
          "name": "stdout",
          "text": [
            "Parameter containing:\n",
            "tensor([4.3203, 3.2749], requires_grad=True) Parameter containing:\n",
            "tensor([4.9925, 0.0371], requires_grad=True)\n"
          ]
        },
        {
          "output_type": "stream",
          "name": "stderr",
          "text": [
            "Sample: 100%|██████████| 110/110 [00:00, 582.01it/s, step size=4.28e-01, acc. prob=0.934]\n"
          ]
        },
        {
          "output_type": "stream",
          "name": "stdout",
          "text": [
            "Parameter containing:\n",
            "tensor([4.3247, 3.2756], requires_grad=True) Parameter containing:\n",
            "tensor([4.9949, 0.0372], requires_grad=True)\n"
          ]
        },
        {
          "output_type": "stream",
          "name": "stderr",
          "text": [
            "Sample: 100%|██████████| 110/110 [00:00, 586.30it/s, step size=6.08e-01, acc. prob=0.821]\n"
          ]
        },
        {
          "output_type": "stream",
          "name": "stdout",
          "text": [
            "Parameter containing:\n",
            "tensor([4.3291, 3.2762], requires_grad=True) Parameter containing:\n",
            "tensor([4.9974, 0.0381], requires_grad=True)\n"
          ]
        },
        {
          "output_type": "stream",
          "name": "stderr",
          "text": [
            "Sample: 100%|██████████| 110/110 [00:00, 453.29it/s, step size=6.42e-01, acc. prob=0.784]\n"
          ]
        },
        {
          "output_type": "stream",
          "name": "stdout",
          "text": [
            "Parameter containing:\n",
            "tensor([4.3335, 3.2767], requires_grad=True) Parameter containing:\n",
            "tensor([5.0004, 0.0396], requires_grad=True)\n"
          ]
        },
        {
          "output_type": "stream",
          "name": "stderr",
          "text": [
            "Sample: 100%|██████████| 110/110 [00:00, 517.87it/s, step size=5.57e-01, acc. prob=0.877]\n"
          ]
        },
        {
          "output_type": "stream",
          "name": "stdout",
          "text": [
            "Parameter containing:\n",
            "tensor([4.3379, 3.2768], requires_grad=True) Parameter containing:\n",
            "tensor([5.0039, 0.0403], requires_grad=True)\n"
          ]
        },
        {
          "output_type": "stream",
          "name": "stderr",
          "text": [
            "Sample: 100%|██████████| 110/110 [00:00, 528.44it/s, step size=6.59e-01, acc. prob=0.769]\n"
          ]
        },
        {
          "output_type": "stream",
          "name": "stdout",
          "text": [
            "Parameter containing:\n",
            "tensor([4.3422, 3.2769], requires_grad=True) Parameter containing:\n",
            "tensor([5.0074, 0.0409], requires_grad=True)\n"
          ]
        },
        {
          "output_type": "stream",
          "name": "stderr",
          "text": [
            "Sample: 100%|██████████| 110/110 [00:00, 561.52it/s, step size=6.99e-01, acc. prob=0.758]\n"
          ]
        },
        {
          "output_type": "stream",
          "name": "stdout",
          "text": [
            "Parameter containing:\n",
            "tensor([4.3466, 3.2768], requires_grad=True) Parameter containing:\n",
            "tensor([5.0112, 0.0397], requires_grad=True)\n"
          ]
        },
        {
          "output_type": "stream",
          "name": "stderr",
          "text": [
            "Sample: 100%|██████████| 110/110 [00:00, 570.49it/s, step size=4.43e-01, acc. prob=0.943]\n",
            "Sample: 100%|██████████| 110/110 [00:00, 595.84it/s, step size=4.38e-01, acc. prob=0.936]\n"
          ]
        },
        {
          "output_type": "stream",
          "name": "stdout",
          "text": [
            "Parameter containing:\n",
            "tensor([4.3548, 3.2762], requires_grad=True) Parameter containing:\n",
            "tensor([5.0180, 0.0348], requires_grad=True)\n"
          ]
        },
        {
          "output_type": "stream",
          "name": "stderr",
          "text": [
            "Sample: 100%|██████████| 110/110 [00:00, 498.28it/s, step size=6.42e-01, acc. prob=0.793]\n"
          ]
        },
        {
          "output_type": "stream",
          "name": "stdout",
          "text": [
            "Parameter containing:\n",
            "tensor([4.3588, 3.2759], requires_grad=True) Parameter containing:\n",
            "tensor([5.0214, 0.0320], requires_grad=True)\n"
          ]
        },
        {
          "output_type": "stream",
          "name": "stderr",
          "text": [
            "Sample: 100%|██████████| 110/110 [00:00, 522.53it/s, step size=4.87e-01, acc. prob=0.913]\n"
          ]
        },
        {
          "output_type": "stream",
          "name": "stdout",
          "text": [
            "Parameter containing:\n",
            "tensor([4.3627, 3.2755], requires_grad=True) Parameter containing:\n",
            "tensor([5.0247, 0.0275], requires_grad=True)\n"
          ]
        },
        {
          "output_type": "stream",
          "name": "stderr",
          "text": [
            "Sample: 100%|██████████| 110/110 [00:00, 490.31it/s, step size=4.74e-01, acc. prob=0.918]\n"
          ]
        },
        {
          "output_type": "stream",
          "name": "stdout",
          "text": [
            "Parameter containing:\n",
            "tensor([4.3665, 3.2752], requires_grad=True) Parameter containing:\n",
            "tensor([5.0275, 0.0217], requires_grad=True)\n"
          ]
        },
        {
          "output_type": "stream",
          "name": "stderr",
          "text": [
            "Sample: 100%|██████████| 110/110 [00:00, 516.94it/s, step size=6.42e-01, acc. prob=0.782]\n"
          ]
        },
        {
          "output_type": "stream",
          "name": "stdout",
          "text": [
            "Parameter containing:\n",
            "tensor([4.3703, 3.2748], requires_grad=True) Parameter containing:\n",
            "tensor([5.0306, 0.0175], requires_grad=True)\n"
          ]
        },
        {
          "output_type": "stream",
          "name": "stderr",
          "text": [
            "Sample: 100%|██████████| 110/110 [00:00, 450.73it/s, step size=6.42e-01, acc. prob=0.811]\n"
          ]
        },
        {
          "output_type": "stream",
          "name": "stdout",
          "text": [
            "Parameter containing:\n",
            "tensor([4.3739, 3.2745], requires_grad=True) Parameter containing:\n",
            "tensor([5.0328, 0.0123], requires_grad=True)\n"
          ]
        },
        {
          "output_type": "stream",
          "name": "stderr",
          "text": [
            "Sample: 100%|██████████| 110/110 [00:00, 499.36it/s, step size=6.34e-01, acc. prob=0.831]\n"
          ]
        },
        {
          "output_type": "stream",
          "name": "stdout",
          "text": [
            "Parameter containing:\n",
            "tensor([4.3776, 3.2740], requires_grad=True) Parameter containing:\n",
            "tensor([5.0354, 0.0079], requires_grad=True)\n"
          ]
        },
        {
          "output_type": "stream",
          "name": "stderr",
          "text": [
            "Sample: 100%|██████████| 110/110 [00:00, 561.63it/s, step size=6.36e-01, acc. prob=0.822]\n"
          ]
        },
        {
          "output_type": "stream",
          "name": "stdout",
          "text": [
            "Parameter containing:\n",
            "tensor([4.3812, 3.2736], requires_grad=True) Parameter containing:\n",
            "tensor([5.0380, 0.0052], requires_grad=True)\n"
          ]
        },
        {
          "output_type": "stream",
          "name": "stderr",
          "text": [
            "Sample: 100%|██████████| 110/110 [00:00, 541.50it/s, step size=6.29e-01, acc. prob=0.779]\n"
          ]
        },
        {
          "output_type": "stream",
          "name": "stdout",
          "text": [
            "Parameter containing:\n",
            "tensor([4.3847, 3.2734], requires_grad=True) Parameter containing:\n",
            "tensor([5.0402, 0.0052], requires_grad=True)\n"
          ]
        },
        {
          "output_type": "stream",
          "name": "stderr",
          "text": [
            "Sample: 100%|██████████| 110/110 [00:00, 479.20it/s, step size=5.90e-01, acc. prob=0.836]\n",
            "Sample: 100%|██████████| 110/110 [00:00, 513.27it/s, step size=6.38e-01, acc. prob=0.851]\n"
          ]
        },
        {
          "output_type": "stream",
          "name": "stdout",
          "text": [
            "Parameter containing:\n",
            "tensor([4.3918, 3.2730], requires_grad=True) Parameter containing:\n",
            "tensor([5.0442, 0.0069], requires_grad=True)\n"
          ]
        },
        {
          "output_type": "stream",
          "name": "stderr",
          "text": [
            "Sample: 100%|██████████| 110/110 [00:00, 490.08it/s, step size=6.37e-01, acc. prob=0.831]\n"
          ]
        },
        {
          "output_type": "stream",
          "name": "stdout",
          "text": [
            "Parameter containing:\n",
            "tensor([4.3955, 3.2731], requires_grad=True) Parameter containing:\n",
            "tensor([5.0464, 0.0084], requires_grad=True)\n"
          ]
        },
        {
          "output_type": "stream",
          "name": "stderr",
          "text": [
            "Sample: 100%|██████████| 110/110 [00:00, 499.93it/s, step size=6.20e-01, acc. prob=0.808]\n"
          ]
        },
        {
          "output_type": "stream",
          "name": "stdout",
          "text": [
            "Parameter containing:\n",
            "tensor([4.3992, 3.2730], requires_grad=True) Parameter containing:\n",
            "tensor([5.0487, 0.0087], requires_grad=True)\n"
          ]
        },
        {
          "output_type": "stream",
          "name": "stderr",
          "text": [
            "Sample: 100%|██████████| 110/110 [00:00, 475.26it/s, step size=6.26e-01, acc. prob=0.842]\n"
          ]
        },
        {
          "output_type": "stream",
          "name": "stdout",
          "text": [
            "Parameter containing:\n",
            "tensor([4.4031, 3.2730], requires_grad=True) Parameter containing:\n",
            "tensor([5.0515, 0.0102], requires_grad=True)\n"
          ]
        },
        {
          "output_type": "stream",
          "name": "stderr",
          "text": [
            "Sample: 100%|██████████| 110/110 [00:00, 320.83it/s, step size=6.38e-01, acc. prob=0.804]\n"
          ]
        },
        {
          "output_type": "stream",
          "name": "stdout",
          "text": [
            "Parameter containing:\n",
            "tensor([4.4073, 3.2731], requires_grad=True) Parameter containing:\n",
            "tensor([5.0549, 0.0123], requires_grad=True)\n"
          ]
        },
        {
          "output_type": "stream",
          "name": "stderr",
          "text": [
            "Sample: 100%|██████████| 110/110 [00:00, 419.96it/s, step size=6.37e-01, acc. prob=0.820]\n"
          ]
        },
        {
          "output_type": "stream",
          "name": "stdout",
          "text": [
            "Parameter containing:\n",
            "tensor([4.4114, 3.2730], requires_grad=True) Parameter containing:\n",
            "tensor([5.0587, 0.0118], requires_grad=True)\n"
          ]
        },
        {
          "output_type": "stream",
          "name": "stderr",
          "text": [
            "Sample: 100%|██████████| 110/110 [00:00, 454.68it/s, step size=4.27e-01, acc. prob=0.953]\n"
          ]
        },
        {
          "output_type": "stream",
          "name": "stdout",
          "text": [
            "Parameter containing:\n",
            "tensor([4.4153, 3.2726], requires_grad=True) Parameter containing:\n",
            "tensor([5.0623, 0.0117], requires_grad=True)\n"
          ]
        },
        {
          "output_type": "stream",
          "name": "stderr",
          "text": [
            "Sample: 100%|██████████| 110/110 [00:00, 420.31it/s, step size=4.48e-01, acc. prob=0.936]\n"
          ]
        },
        {
          "output_type": "stream",
          "name": "stdout",
          "text": [
            "Parameter containing:\n",
            "tensor([4.4191, 3.2720], requires_grad=True) Parameter containing:\n",
            "tensor([5.0662, 0.0102], requires_grad=True)\n"
          ]
        },
        {
          "output_type": "stream",
          "name": "stderr",
          "text": [
            "Sample: 100%|██████████| 110/110 [00:00, 393.11it/s, step size=6.39e-01, acc. prob=0.814]\n"
          ]
        },
        {
          "output_type": "stream",
          "name": "stdout",
          "text": [
            "Parameter containing:\n",
            "tensor([4.4227, 3.2715], requires_grad=True) Parameter containing:\n",
            "tensor([5.0700, 0.0092], requires_grad=True)\n"
          ]
        },
        {
          "output_type": "stream",
          "name": "stderr",
          "text": [
            "Sample: 100%|██████████| 110/110 [00:00, 424.46it/s, step size=5.90e-01, acc. prob=0.846]\n"
          ]
        }
      ]
    },
    {
      "cell_type": "code",
      "source": [
        "plt.plot(loss_arr)"
      ],
      "metadata": {
        "colab": {
          "base_uri": "https://localhost:8080/",
          "height": 451
        },
        "id": "KeHlfurm8-50",
        "outputId": "64eba2d5-8ddc-4f40-c10b-ffed35caf31f"
      },
      "execution_count": 74,
      "outputs": [
        {
          "output_type": "execute_result",
          "data": {
            "text/plain": [
              "[<matplotlib.lines.Line2D at 0x7f0e38de46d0>]"
            ]
          },
          "metadata": {},
          "execution_count": 74
        },
        {
          "output_type": "display_data",
          "data": {
            "text/plain": [
              "<Figure size 640x480 with 1 Axes>"
            ],
            "image/png": "[encoded data removed]"
          },
          "metadata": {}
        }
      ]
    },
    {
      "cell_type": "code",
      "source": [
        "proposal.visualize_dist(2000)"
      ],
      "metadata": {
        "colab": {
          "base_uri": "https://localhost:8080/",
          "height": 435
        },
        "id": "1Eppwexr5Sm-",
        "outputId": "5744c733-c1d4-4562-b710-dc19c0283170"
      },
      "execution_count": 75,
      "outputs": [
        {
          "output_type": "display_data",
          "data": {
            "text/plain": [
              "<Figure size 640x480 with 2 Axes>"
            ],
            "image/png": "[encoded data removed]"
          },
          "metadata": {}
        }
      ]
    },
    {
      "cell_type": "code",
      "source": [
        "fig, ax = plt.subplots(figsize = (8,8))\n",
        "proposal.plot_2d_countour(ax=ax)"
      ],
      "metadata": {
        "colab": {
          "base_uri": "https://localhost:8080/",
          "height": 969
        },
        "id": "UX4esxf66Ppa",
        "outputId": "1f35e6e5-2575-4601-9887-7c61f7e2ed8f"
      },
      "execution_count": 79,
      "outputs": [
        {
          "output_type": "error",
          "ename": "RuntimeError",
          "evalue": "Can't call numpy() on Tensor that requires grad. Use tensor.detach().numpy() instead.",
          "traceback": [
            "\u001b[0;31m---------------------------------------------------------------------------\u001b[0m",
            "\u001b[0;31mRuntimeError\u001b[0m                              Traceback (most recent call last)",
            "\u001b[0;32m<ipython-input-79-323c2c7e4527>\u001b[0m in \u001b[0;36m<cell line: 2>\u001b[0;34m()\u001b[0m\n\u001b[1;32m      1\u001b[0m \u001b[0mfig\u001b[0m\u001b[0;34m,\u001b[0m \u001b[0max\u001b[0m \u001b[0;34m=\u001b[0m \u001b[0mplt\u001b[0m\u001b[0;34m.\u001b[0m\u001b[0msubplots\u001b[0m\u001b[0;34m(\u001b[0m\u001b[0mfigsize\u001b[0m \u001b[0;34m=\u001b[0m \u001b[0;34m(\u001b[0m\u001b[0;36m8\u001b[0m\u001b[0;34m,\u001b[0m\u001b[0;36m8\u001b[0m\u001b[0;34m)\u001b[0m\u001b[0;34m)\u001b[0m\u001b[0;34m\u001b[0m\u001b[0;34m\u001b[0m\u001b[0m\n\u001b[0;32m----> 2\u001b[0;31m \u001b[0mproposal\u001b[0m\u001b[0;34m.\u001b[0m\u001b[0mplot_2d_countour\u001b[0m\u001b[0;34m(\u001b[0m\u001b[0max\u001b[0m\u001b[0;34m=\u001b[0m\u001b[0max\u001b[0m\u001b[0;34m)\u001b[0m\u001b[0;34m\u001b[0m\u001b[0;34m\u001b[0m\u001b[0m\n\u001b[0m",
            "\u001b[0;32m<ipython-input-67-1607eccb648c>\u001b[0m in \u001b[0;36mplot_2d_countour\u001b[0;34m(self, ax)\u001b[0m\n\u001b[1;32m    224\u001b[0m         \u001b[0minp\u001b[0m \u001b[0;34m=\u001b[0m \u001b[0mtorch\u001b[0m\u001b[0;34m.\u001b[0m\u001b[0mfrom_numpy\u001b[0m\u001b[0;34m(\u001b[0m\u001b[0mnp\u001b[0m\u001b[0;34m.\u001b[0m\u001b[0mstack\u001b[0m\u001b[0;34m(\u001b[0m\u001b[0;34m[\u001b[0m\u001b[0mX\u001b[0m\u001b[0;34m,\u001b[0m \u001b[0mY\u001b[0m\u001b[0;34m]\u001b[0m\u001b[0;34m,\u001b[0m \u001b[0;34m-\u001b[0m\u001b[0;36m1\u001b[0m\u001b[0;34m)\u001b[0m\u001b[0;34m)\u001b[0m\u001b[0;34m\u001b[0m\u001b[0;34m\u001b[0m\u001b[0m\n\u001b[1;32m    225\u001b[0m         \u001b[0mZ\u001b[0m \u001b[0;34m=\u001b[0m \u001b[0mself\u001b[0m\u001b[0;34m.\u001b[0m\u001b[0mlog_prob\u001b[0m\u001b[0;34m(\u001b[0m\u001b[0minp\u001b[0m\u001b[0;34m.\u001b[0m\u001b[0mreshape\u001b[0m\u001b[0;34m(\u001b[0m\u001b[0;34m-\u001b[0m\u001b[0;36m1\u001b[0m\u001b[0;34m,\u001b[0m \u001b[0;36m2\u001b[0m\u001b[0;34m)\u001b[0m\u001b[0;34m)\u001b[0m\u001b[0;34m.\u001b[0m\u001b[0mreshape\u001b[0m\u001b[0;34m(\u001b[0m\u001b[0minp\u001b[0m\u001b[0;34m.\u001b[0m\u001b[0mshape\u001b[0m\u001b[0;34m[\u001b[0m\u001b[0;34m:\u001b[0m\u001b[0;34m-\u001b[0m\u001b[0;36m1\u001b[0m\u001b[0;34m]\u001b[0m\u001b[0;34m)\u001b[0m\u001b[0;34m\u001b[0m\u001b[0;34m\u001b[0m\u001b[0m\n\u001b[0;32m--> 226\u001b[0;31m         ax.contour(X, Y, Z.exp(),\n\u001b[0m\u001b[1;32m    227\u001b[0m                    \u001b[0mlevels\u001b[0m\u001b[0;34m=\u001b[0m\u001b[0;36m5\u001b[0m\u001b[0;34m,\u001b[0m\u001b[0;34m\u001b[0m\u001b[0;34m\u001b[0m\u001b[0m\n\u001b[1;32m    228\u001b[0m                    alpha=1., colors='midnightblue', linewidths=1)\n",
            "\u001b[0;32m/usr/local/lib/python3.10/dist-packages/matplotlib/__init__.py\u001b[0m in \u001b[0;36minner\u001b[0;34m(ax, data, *args, **kwargs)\u001b[0m\n\u001b[1;32m   1440\u001b[0m     \u001b[0;32mdef\u001b[0m \u001b[0minner\u001b[0m\u001b[0;34m(\u001b[0m\u001b[0max\u001b[0m\u001b[0;34m,\u001b[0m \u001b[0;34m*\u001b[0m\u001b[0margs\u001b[0m\u001b[0;34m,\u001b[0m \u001b[0mdata\u001b[0m\u001b[0;34m=\u001b[0m\u001b[0;32mNone\u001b[0m\u001b[0;34m,\u001b[0m \u001b[0;34m**\u001b[0m\u001b[0mkwargs\u001b[0m\u001b[0;34m)\u001b[0m\u001b[0;34m:\u001b[0m\u001b[0;34m\u001b[0m\u001b[0;34m\u001b[0m\u001b[0m\n\u001b[1;32m   1441\u001b[0m         \u001b[0;32mif\u001b[0m \u001b[0mdata\u001b[0m \u001b[0;32mis\u001b[0m \u001b[0;32mNone\u001b[0m\u001b[0;34m:\u001b[0m\u001b[0;34m\u001b[0m\u001b[0;34m\u001b[0m\u001b[0m\n\u001b[0;32m-> 1442\u001b[0;31m             \u001b[0;32mreturn\u001b[0m \u001b[0mfunc\u001b[0m\u001b[0;34m(\u001b[0m\u001b[0max\u001b[0m\u001b[0;34m,\u001b[0m \u001b[0;34m*\u001b[0m\u001b[0mmap\u001b[0m\u001b[0;34m(\u001b[0m\u001b[0msanitize_sequence\u001b[0m\u001b[0;34m,\u001b[0m \u001b[0margs\u001b[0m\u001b[0;34m)\u001b[0m\u001b[0;34m,\u001b[0m \u001b[0;34m**\u001b[0m\u001b[0mkwargs\u001b[0m\u001b[0;34m)\u001b[0m\u001b[0;34m\u001b[0m\u001b[0;34m\u001b[0m\u001b[0m\n\u001b[0m\u001b[1;32m   1443\u001b[0m \u001b[0;34m\u001b[0m\u001b[0m\n\u001b[1;32m   1444\u001b[0m         \u001b[0mbound\u001b[0m \u001b[0;34m=\u001b[0m \u001b[0mnew_sig\u001b[0m\u001b[0;34m.\u001b[0m\u001b[0mbind\u001b[0m\u001b[0;34m(\u001b[0m\u001b[0max\u001b[0m\u001b[0;34m,\u001b[0m \u001b[0;34m*\u001b[0m\u001b[0margs\u001b[0m\u001b[0;34m,\u001b[0m \u001b[0;34m**\u001b[0m\u001b[0mkwargs\u001b[0m\u001b[0;34m)\u001b[0m\u001b[0;34m\u001b[0m\u001b[0;34m\u001b[0m\u001b[0m\n",
            "\u001b[0;32m/usr/local/lib/python3.10/dist-packages/matplotlib/axes/_axes.py\u001b[0m in \u001b[0;36mcontour\u001b[0;34m(self, *args, **kwargs)\u001b[0m\n\u001b[1;32m   6449\u001b[0m         \"\"\"\n\u001b[1;32m   6450\u001b[0m         \u001b[0mkwargs\u001b[0m\u001b[0;34m[\u001b[0m\u001b[0;34m'filled'\u001b[0m\u001b[0;34m]\u001b[0m \u001b[0;34m=\u001b[0m \u001b[0;32mFalse\u001b[0m\u001b[0;34m\u001b[0m\u001b[0;34m\u001b[0m\u001b[0m\n\u001b[0;32m-> 6451\u001b[0;31m         \u001b[0mcontours\u001b[0m \u001b[0;34m=\u001b[0m \u001b[0mmcontour\u001b[0m\u001b[0;34m.\u001b[0m\u001b[0mQuadContourSet\u001b[0m\u001b[0;34m(\u001b[0m\u001b[0mself\u001b[0m\u001b[0;34m,\u001b[0m \u001b[0;34m*\u001b[0m\u001b[0margs\u001b[0m\u001b[0;34m,\u001b[0m \u001b[0;34m**\u001b[0m\u001b[0mkwargs\u001b[0m\u001b[0;34m)\u001b[0m\u001b[0;34m\u001b[0m\u001b[0;34m\u001b[0m\u001b[0m\n\u001b[0m\u001b[1;32m   6452\u001b[0m         \u001b[0mself\u001b[0m\u001b[0;34m.\u001b[0m\u001b[0m_request_autoscale_view\u001b[0m\u001b[0;34m(\u001b[0m\u001b[0;34m)\u001b[0m\u001b[0;34m\u001b[0m\u001b[0;34m\u001b[0m\u001b[0m\n\u001b[1;32m   6453\u001b[0m         \u001b[0;32mreturn\u001b[0m \u001b[0mcontours\u001b[0m\u001b[0;34m\u001b[0m\u001b[0;34m\u001b[0m\u001b[0m\n",
            "\u001b[0;32m/usr/local/lib/python3.10/dist-packages/matplotlib/contour.py\u001b[0m in \u001b[0;36m__init__\u001b[0;34m(self, ax, levels, filled, linewidths, linestyles, hatches, alpha, origin, extent, cmap, colors, norm, vmin, vmax, extend, antialiased, nchunk, locator, transform, negative_linestyles, *args, **kwargs)\u001b[0m\n\u001b[1;32m    767\u001b[0m                 \u001b[0mmpl\u001b[0m\u001b[0;34m.\u001b[0m\u001b[0mrcParams\u001b[0m\u001b[0;34m[\u001b[0m\u001b[0;34m'contour.negative_linestyle'\u001b[0m\u001b[0;34m]\u001b[0m\u001b[0;34m\u001b[0m\u001b[0;34m\u001b[0m\u001b[0m\n\u001b[1;32m    768\u001b[0m \u001b[0;34m\u001b[0m\u001b[0m\n\u001b[0;32m--> 769\u001b[0;31m         \u001b[0mkwargs\u001b[0m \u001b[0;34m=\u001b[0m \u001b[0mself\u001b[0m\u001b[0;34m.\u001b[0m\u001b[0m_process_args\u001b[0m\u001b[0;34m(\u001b[0m\u001b[0;34m*\u001b[0m\u001b[0margs\u001b[0m\u001b[0;34m,\u001b[0m \u001b[0;34m**\u001b[0m\u001b[0mkwargs\u001b[0m\u001b[0;34m)\u001b[0m\u001b[0;34m\u001b[0m\u001b[0;34m\u001b[0m\u001b[0m\n\u001b[0m\u001b[1;32m    770\u001b[0m         \u001b[0mself\u001b[0m\u001b[0;34m.\u001b[0m\u001b[0m_process_levels\u001b[0m\u001b[0;34m(\u001b[0m\u001b[0;34m)\u001b[0m\u001b[0;34m\u001b[0m\u001b[0;34m\u001b[0m\u001b[0m\n\u001b[1;32m    771\u001b[0m \u001b[0;34m\u001b[0m\u001b[0m\n",
            "\u001b[0;32m/usr/local/lib/python3.10/dist-packages/matplotlib/contour.py\u001b[0m in \u001b[0;36m_process_args\u001b[0;34m(self, corner_mask, algorithm, *args, **kwargs)\u001b[0m\n\u001b[1;32m   1409\u001b[0m             \u001b[0mself\u001b[0m\u001b[0;34m.\u001b[0m\u001b[0m_corner_mask\u001b[0m \u001b[0;34m=\u001b[0m \u001b[0mcorner_mask\u001b[0m\u001b[0;34m\u001b[0m\u001b[0;34m\u001b[0m\u001b[0m\n\u001b[1;32m   1410\u001b[0m \u001b[0;34m\u001b[0m\u001b[0m\n\u001b[0;32m-> 1411\u001b[0;31m             \u001b[0mx\u001b[0m\u001b[0;34m,\u001b[0m \u001b[0my\u001b[0m\u001b[0;34m,\u001b[0m \u001b[0mz\u001b[0m \u001b[0;34m=\u001b[0m \u001b[0mself\u001b[0m\u001b[0;34m.\u001b[0m\u001b[0m_contour_args\u001b[0m\u001b[0;34m(\u001b[0m\u001b[0margs\u001b[0m\u001b[0;34m,\u001b[0m \u001b[0mkwargs\u001b[0m\u001b[0;34m)\u001b[0m\u001b[0;34m\u001b[0m\u001b[0;34m\u001b[0m\u001b[0m\n\u001b[0m\u001b[1;32m   1412\u001b[0m \u001b[0;34m\u001b[0m\u001b[0m\n\u001b[1;32m   1413\u001b[0m             contour_generator = contourpy.contour_generator(\n",
            "\u001b[0;32m/usr/local/lib/python3.10/dist-packages/matplotlib/contour.py\u001b[0m in \u001b[0;36m_contour_args\u001b[0;34m(self, args, kwargs)\u001b[0m\n\u001b[1;32m   1448\u001b[0m         \u001b[0;32melif\u001b[0m \u001b[0mnargs\u001b[0m \u001b[0;34m<=\u001b[0m \u001b[0;36m4\u001b[0m\u001b[0;34m:\u001b[0m\u001b[0;34m\u001b[0m\u001b[0;34m\u001b[0m\u001b[0m\n\u001b[1;32m   1449\u001b[0m             \u001b[0mx\u001b[0m\u001b[0;34m,\u001b[0m \u001b[0my\u001b[0m\u001b[0;34m,\u001b[0m \u001b[0mz_orig\u001b[0m\u001b[0;34m,\u001b[0m \u001b[0;34m*\u001b[0m\u001b[0margs\u001b[0m \u001b[0;34m=\u001b[0m \u001b[0margs\u001b[0m\u001b[0;34m\u001b[0m\u001b[0;34m\u001b[0m\u001b[0m\n\u001b[0;32m-> 1450\u001b[0;31m             \u001b[0mx\u001b[0m\u001b[0;34m,\u001b[0m \u001b[0my\u001b[0m\u001b[0;34m,\u001b[0m \u001b[0mz\u001b[0m \u001b[0;34m=\u001b[0m \u001b[0mself\u001b[0m\u001b[0;34m.\u001b[0m\u001b[0m_check_xyz\u001b[0m\u001b[0;34m(\u001b[0m\u001b[0mx\u001b[0m\u001b[0;34m,\u001b[0m \u001b[0my\u001b[0m\u001b[0;34m,\u001b[0m \u001b[0mz_orig\u001b[0m\u001b[0;34m,\u001b[0m \u001b[0mkwargs\u001b[0m\u001b[0;34m)\u001b[0m\u001b[0;34m\u001b[0m\u001b[0;34m\u001b[0m\u001b[0m\n\u001b[0m\u001b[1;32m   1451\u001b[0m         \u001b[0;32melse\u001b[0m\u001b[0;34m:\u001b[0m\u001b[0;34m\u001b[0m\u001b[0;34m\u001b[0m\u001b[0m\n\u001b[1;32m   1452\u001b[0m             \u001b[0;32mraise\u001b[0m \u001b[0m_api\u001b[0m\u001b[0;34m.\u001b[0m\u001b[0mnargs_error\u001b[0m\u001b[0;34m(\u001b[0m\u001b[0mfn\u001b[0m\u001b[0;34m,\u001b[0m \u001b[0mtakes\u001b[0m\u001b[0;34m=\u001b[0m\u001b[0;34m\"from 1 to 4\"\u001b[0m\u001b[0;34m,\u001b[0m \u001b[0mgiven\u001b[0m\u001b[0;34m=\u001b[0m\u001b[0mnargs\u001b[0m\u001b[0;34m)\u001b[0m\u001b[0;34m\u001b[0m\u001b[0;34m\u001b[0m\u001b[0m\n",
            "\u001b[0;32m/usr/local/lib/python3.10/dist-packages/matplotlib/contour.py\u001b[0m in \u001b[0;36m_check_xyz\u001b[0;34m(self, x, y, z, kwargs)\u001b[0m\n\u001b[1;32m   1470\u001b[0m         \u001b[0mx\u001b[0m \u001b[0;34m=\u001b[0m \u001b[0mnp\u001b[0m\u001b[0;34m.\u001b[0m\u001b[0masarray\u001b[0m\u001b[0;34m(\u001b[0m\u001b[0mx\u001b[0m\u001b[0;34m,\u001b[0m \u001b[0mdtype\u001b[0m\u001b[0;34m=\u001b[0m\u001b[0mnp\u001b[0m\u001b[0;34m.\u001b[0m\u001b[0mfloat64\u001b[0m\u001b[0;34m)\u001b[0m\u001b[0;34m\u001b[0m\u001b[0;34m\u001b[0m\u001b[0m\n\u001b[1;32m   1471\u001b[0m         \u001b[0my\u001b[0m \u001b[0;34m=\u001b[0m \u001b[0mnp\u001b[0m\u001b[0;34m.\u001b[0m\u001b[0masarray\u001b[0m\u001b[0;34m(\u001b[0m\u001b[0my\u001b[0m\u001b[0;34m,\u001b[0m \u001b[0mdtype\u001b[0m\u001b[0;34m=\u001b[0m\u001b[0mnp\u001b[0m\u001b[0;34m.\u001b[0m\u001b[0mfloat64\u001b[0m\u001b[0;34m)\u001b[0m\u001b[0;34m\u001b[0m\u001b[0;34m\u001b[0m\u001b[0m\n\u001b[0;32m-> 1472\u001b[0;31m         \u001b[0mz\u001b[0m \u001b[0;34m=\u001b[0m \u001b[0mma\u001b[0m\u001b[0;34m.\u001b[0m\u001b[0masarray\u001b[0m\u001b[0;34m(\u001b[0m\u001b[0mz\u001b[0m\u001b[0;34m)\u001b[0m\u001b[0;34m\u001b[0m\u001b[0;34m\u001b[0m\u001b[0m\n\u001b[0m\u001b[1;32m   1473\u001b[0m \u001b[0;34m\u001b[0m\u001b[0m\n\u001b[1;32m   1474\u001b[0m         \u001b[0;32mif\u001b[0m \u001b[0mz\u001b[0m\u001b[0;34m.\u001b[0m\u001b[0mndim\u001b[0m \u001b[0;34m!=\u001b[0m \u001b[0;36m2\u001b[0m\u001b[0;34m:\u001b[0m\u001b[0;34m\u001b[0m\u001b[0;34m\u001b[0m\u001b[0m\n",
            "\u001b[0;32m/usr/local/lib/python3.10/dist-packages/numpy/ma/core.py\u001b[0m in \u001b[0;36masarray\u001b[0;34m(a, dtype, order)\u001b[0m\n\u001b[1;32m   8242\u001b[0m     \"\"\"\n\u001b[1;32m   8243\u001b[0m     \u001b[0morder\u001b[0m \u001b[0;34m=\u001b[0m \u001b[0morder\u001b[0m \u001b[0;32mor\u001b[0m \u001b[0;34m'C'\u001b[0m\u001b[0;34m\u001b[0m\u001b[0;34m\u001b[0m\u001b[0m\n\u001b[0;32m-> 8244\u001b[0;31m     return masked_array(a, dtype=dtype, copy=False, keep_mask=True,\n\u001b[0m\u001b[1;32m   8245\u001b[0m                         subok=False, order=order)\n\u001b[1;32m   8246\u001b[0m \u001b[0;34m\u001b[0m\u001b[0m\n",
            "\u001b[0;32m/usr/local/lib/python3.10/dist-packages/numpy/ma/core.py\u001b[0m in \u001b[0;36m__new__\u001b[0;34m(cls, data, mask, dtype, copy, subok, ndmin, fill_value, keep_mask, hard_mask, shrink, order)\u001b[0m\n\u001b[1;32m   2818\u001b[0m         \"\"\"\n\u001b[1;32m   2819\u001b[0m         \u001b[0;31m# Process data.\u001b[0m\u001b[0;34m\u001b[0m\u001b[0;34m\u001b[0m\u001b[0m\n\u001b[0;32m-> 2820\u001b[0;31m         _data = np.array(data, dtype=dtype, copy=copy,\n\u001b[0m\u001b[1;32m   2821\u001b[0m                          order=order, subok=True, ndmin=ndmin)\n\u001b[1;32m   2822\u001b[0m         \u001b[0m_baseclass\u001b[0m \u001b[0;34m=\u001b[0m \u001b[0mgetattr\u001b[0m\u001b[0;34m(\u001b[0m\u001b[0mdata\u001b[0m\u001b[0;34m,\u001b[0m \u001b[0;34m'_baseclass'\u001b[0m\u001b[0;34m,\u001b[0m \u001b[0mtype\u001b[0m\u001b[0;34m(\u001b[0m\u001b[0m_data\u001b[0m\u001b[0;34m)\u001b[0m\u001b[0;34m)\u001b[0m\u001b[0;34m\u001b[0m\u001b[0;34m\u001b[0m\u001b[0m\n",
            "\u001b[0;32m/usr/local/lib/python3.10/dist-packages/torch/_tensor.py\u001b[0m in \u001b[0;36m__array__\u001b[0;34m(self, dtype)\u001b[0m\n\u001b[1;32m   1085\u001b[0m             \u001b[0;32mreturn\u001b[0m \u001b[0mhandle_torch_function\u001b[0m\u001b[0;34m(\u001b[0m\u001b[0mTensor\u001b[0m\u001b[0;34m.\u001b[0m\u001b[0m__array__\u001b[0m\u001b[0;34m,\u001b[0m \u001b[0;34m(\u001b[0m\u001b[0mself\u001b[0m\u001b[0;34m,\u001b[0m\u001b[0;34m)\u001b[0m\u001b[0;34m,\u001b[0m \u001b[0mself\u001b[0m\u001b[0;34m,\u001b[0m \u001b[0mdtype\u001b[0m\u001b[0;34m=\u001b[0m\u001b[0mdtype\u001b[0m\u001b[0;34m)\u001b[0m\u001b[0;34m\u001b[0m\u001b[0;34m\u001b[0m\u001b[0m\n\u001b[1;32m   1086\u001b[0m         \u001b[0;32mif\u001b[0m \u001b[0mdtype\u001b[0m \u001b[0;32mis\u001b[0m \u001b[0;32mNone\u001b[0m\u001b[0;34m:\u001b[0m\u001b[0;34m\u001b[0m\u001b[0;34m\u001b[0m\u001b[0m\n\u001b[0;32m-> 1087\u001b[0;31m             \u001b[0;32mreturn\u001b[0m \u001b[0mself\u001b[0m\u001b[0;34m.\u001b[0m\u001b[0mnumpy\u001b[0m\u001b[0;34m(\u001b[0m\u001b[0;34m)\u001b[0m\u001b[0;34m\u001b[0m\u001b[0;34m\u001b[0m\u001b[0m\n\u001b[0m\u001b[1;32m   1088\u001b[0m         \u001b[0;32melse\u001b[0m\u001b[0;34m:\u001b[0m\u001b[0;34m\u001b[0m\u001b[0;34m\u001b[0m\u001b[0m\n\u001b[1;32m   1089\u001b[0m             \u001b[0;32mreturn\u001b[0m \u001b[0mself\u001b[0m\u001b[0;34m.\u001b[0m\u001b[0mnumpy\u001b[0m\u001b[0;34m(\u001b[0m\u001b[0;34m)\u001b[0m\u001b[0;34m.\u001b[0m\u001b[0mastype\u001b[0m\u001b[0;34m(\u001b[0m\u001b[0mdtype\u001b[0m\u001b[0;34m,\u001b[0m \u001b[0mcopy\u001b[0m\u001b[0;34m=\u001b[0m\u001b[0;32mFalse\u001b[0m\u001b[0;34m)\u001b[0m\u001b[0;34m\u001b[0m\u001b[0;34m\u001b[0m\u001b[0m\n",
            "\u001b[0;31mRuntimeError\u001b[0m: Can't call numpy() on Tensor that requires grad. Use tensor.detach().numpy() instead."
          ]
        },
        {
          "output_type": "display_data",
          "data": {
            "text/plain": [
              "<Figure size 800x800 with 1 Axes>"
            ],
            "image/png": "[encoded data removed]"
          },
          "metadata": {}
        }
      ]
    },
    {
      "cell_type": "markdown",
      "source": [
        "# TSC implementation"
      ],
      "metadata": {
        "id": "OG5EI7yx78kp"
      }
    },
    {
      "cell_type": "code",
      "source": [
        "K = 32\n",
        "torch.manual_seed(0)\n",
        "\n",
        "latent_size = dim\n",
        "\n",
        "b = torch.Tensor([1] * (latent_size // 2) + [0] * (latent_size // 2))\n",
        "num_layers = 32\n",
        "\n",
        "base = nf.distributions.base.GaussianMixture(n_modes = 2, dim = latent_size)\n",
        "\n",
        "flows_layers = []\n",
        "for i in range(num_layers):\n",
        "    s = nf.nets.MLP([latent_size, 4 * latent_size, latent_size], init_zeros=True)\n",
        "    t = nf.nets.MLP([latent_size, 4 * latent_size, latent_size], init_zeros=True)\n",
        "    if i % 2 == 0:\n",
        "        flows_layers += [nf.flows.MaskedAffineFlow(b, t, s)]\n",
        "    else:\n",
        "        flows_layers += [nf.flows.MaskedAffineFlow(1 - b, t, s)]\n",
        "    flows_layers += [nf.flows.ActNorm(latent_size)]"
      ],
      "metadata": {
        "id": "JctP4PrMOX7p"
      },
      "execution_count": 60,
      "outputs": []
    },
    {
      "cell_type": "code",
      "source": [
        "dim = 2\n",
        "\n",
        "loc = nn.Parameter(torch.ones(dim))\n",
        "scale = nn.Parameter(torch.ones(dim))\n",
        "\n",
        "N_CHAINS = torch.tensor(50)\n",
        "N_SAMPLES = 100\n",
        "BURN_IN = 10\n",
        "device=\"cpu\"\n",
        "\n",
        "proposal = GMM(dim=dim, sigma=scale, mu=loc)\n",
        "target = Banana(dim=dim, b=0.02)\n",
        "\n",
        "optimizer = optim.Adam(lr=1e-1, params=(loc, scale))\n",
        "\n",
        "nfm = nf.NormalizingFlow(q0=proposal, flows=flows_layers, p=target)"
      ],
      "metadata": {
        "id": "pvk0lc5HEFPB"
      },
      "execution_count": 68,
      "outputs": []
    },
    {
      "cell_type": "code",
      "source": [
        "n_iter = 200\n",
        "loss_arr = []\n",
        "\n",
        "scheduler = StepLR(optimizer, 1, gamma=1-1e-2)\n",
        "\n",
        "for i in tqdm(range(n_iter)):\n",
        "    optimizer.zero_grad()\n",
        "    proposal = GMM(dim=dim, sigma=scale, mu=loc)\n",
        "    if i%10:\n",
        "      print(scale, loc)\n",
        "    chains = HMC(\n",
        "                  proposal.sample(N_CHAINS),\n",
        "                  target,\n",
        "                  N_SAMPLES,\n",
        "                  BURN_IN,\n",
        "                  step_size = 0.01,\n",
        "                  num_leapfrog_steps = 5,\n",
        "                  verbose = False,\n",
        "                )\n",
        "\n",
        "    log_q = proposal.log_prob(chains)\n",
        "\n",
        "    loss = (-1 * log_q).sum()\n",
        "    loss.backward()\n",
        "\n",
        "    optimizer.step()\n",
        "\n",
        "    scheduler.step()\n",
        "\n",
        "    loss_arr.append(loss.detach().item()/log_q.shape[0])"
      ],
      "metadata": {
        "id": "Vxu_6zTfoSIW"
      },
      "execution_count": null,
      "outputs": []
    },
    {
      "cell_type": "code",
      "source": [],
      "metadata": {
        "id": "f0xiugDmteWf"
      },
      "execution_count": null,
      "outputs": []
    }
  ]
}