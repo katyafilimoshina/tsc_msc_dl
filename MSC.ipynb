{
  "cells": [
    {
      "cell_type": "code",
      "execution_count": null,
      "metadata": {
        "colab": {
          "base_uri": "https://localhost:8080/"
        },
        "id": "ZJRNtA89Lyqm",
        "outputId": "dd05256c-4cb7-4923-c2a7-046aceb66e48"
      },
      "outputs": [
        {
          "output_type": "stream",
          "name": "stdout",
          "text": [
            "Requirement already satisfied: pyro-ppl in /usr/local/lib/python3.10/dist-packages (1.9.0)\n",
            "Requirement already satisfied: numpy>=1.7 in /usr/local/lib/python3.10/dist-packages (from pyro-ppl) (1.25.2)\n",
            "Requirement already satisfied: opt-einsum>=2.3.2 in /usr/local/lib/python3.10/dist-packages (from pyro-ppl) (3.3.0)\n",
            "Requirement already satisfied: pyro-api>=0.1.1 in /usr/local/lib/python3.10/dist-packages (from pyro-ppl) (0.1.2)\n",
            "Requirement already satisfied: torch>=2.0 in /usr/local/lib/python3.10/dist-packages (from pyro-ppl) (2.3.0+cu121)\n",
            "Requirement already satisfied: tqdm>=4.36 in /usr/local/lib/python3.10/dist-packages (from pyro-ppl) (4.66.4)\n",
            "Requirement already satisfied: filelock in /usr/local/lib/python3.10/dist-packages (from torch>=2.0->pyro-ppl) (3.14.0)\n",
            "Requirement already satisfied: typing-extensions>=4.8.0 in /usr/local/lib/python3.10/dist-packages (from torch>=2.0->pyro-ppl) (4.11.0)\n",
            "Requirement already satisfied: sympy in /usr/local/lib/python3.10/dist-packages (from torch>=2.0->pyro-ppl) (1.12)\n",
            "Requirement already satisfied: networkx in /usr/local/lib/python3.10/dist-packages (from torch>=2.0->pyro-ppl) (3.3)\n",
            "Requirement already satisfied: jinja2 in /usr/local/lib/python3.10/dist-packages (from torch>=2.0->pyro-ppl) (3.1.4)\n",
            "Requirement already satisfied: fsspec in /usr/local/lib/python3.10/dist-packages (from torch>=2.0->pyro-ppl) (2023.6.0)\n",
            "Requirement already satisfied: nvidia-cuda-nvrtc-cu12==12.1.105 in /usr/local/lib/python3.10/dist-packages (from torch>=2.0->pyro-ppl) (12.1.105)\n",
            "Requirement already satisfied: nvidia-cuda-runtime-cu12==12.1.105 in /usr/local/lib/python3.10/dist-packages (from torch>=2.0->pyro-ppl) (12.1.105)\n",
            "Requirement already satisfied: nvidia-cuda-cupti-cu12==12.1.105 in /usr/local/lib/python3.10/dist-packages (from torch>=2.0->pyro-ppl) (12.1.105)\n",
            "Requirement already satisfied: nvidia-cudnn-cu12==8.9.2.26 in /usr/local/lib/python3.10/dist-packages (from torch>=2.0->pyro-ppl) (8.9.2.26)\n",
            "Requirement already satisfied: nvidia-cublas-cu12==12.1.3.1 in /usr/local/lib/python3.10/dist-packages (from torch>=2.0->pyro-ppl) (12.1.3.1)\n",
            "Requirement already satisfied: nvidia-cufft-cu12==11.0.2.54 in /usr/local/lib/python3.10/dist-packages (from torch>=2.0->pyro-ppl) (11.0.2.54)\n",
            "Requirement already satisfied: nvidia-curand-cu12==10.3.2.106 in /usr/local/lib/python3.10/dist-packages (from torch>=2.0->pyro-ppl) (10.3.2.106)\n",
            "Requirement already satisfied: nvidia-cusolver-cu12==11.4.5.107 in /usr/local/lib/python3.10/dist-packages (from torch>=2.0->pyro-ppl) (11.4.5.107)\n",
            "Requirement already satisfied: nvidia-cusparse-cu12==12.1.0.106 in /usr/local/lib/python3.10/dist-packages (from torch>=2.0->pyro-ppl) (12.1.0.106)\n",
            "Requirement already satisfied: nvidia-nccl-cu12==2.20.5 in /usr/local/lib/python3.10/dist-packages (from torch>=2.0->pyro-ppl) (2.20.5)\n",
            "Requirement already satisfied: nvidia-nvtx-cu12==12.1.105 in /usr/local/lib/python3.10/dist-packages (from torch>=2.0->pyro-ppl) (12.1.105)\n",
            "Requirement already satisfied: triton==2.3.0 in /usr/local/lib/python3.10/dist-packages (from torch>=2.0->pyro-ppl) (2.3.0)\n",
            "Requirement already satisfied: nvidia-nvjitlink-cu12 in /usr/local/lib/python3.10/dist-packages (from nvidia-cusolver-cu12==11.4.5.107->torch>=2.0->pyro-ppl) (12.5.40)\n",
            "Requirement already satisfied: MarkupSafe>=2.0 in /usr/local/lib/python3.10/dist-packages (from jinja2->torch>=2.0->pyro-ppl) (2.1.5)\n",
            "Requirement already satisfied: mpmath>=0.19 in /usr/local/lib/python3.10/dist-packages (from sympy->torch>=2.0->pyro-ppl) (1.3.0)\n"
          ]
        }
      ],
      "source": [
        "!pip install pyro-ppl"
      ]
    },
    {
      "cell_type": "code",
      "execution_count": null,
      "metadata": {
        "id": "QUl8u44dmELS"
      },
      "outputs": [],
      "source": [
        "\n",
        "import torch\n",
        "from torch import nn, optim\n",
        "from torch.nn import KLDivLoss\n",
        "from torch.distributions import MultivariateNormal as MNormal\n",
        "from torch.distributions import Categorical\n",
        "\n",
        "import pyro\n",
        "from pyro.infer import MCMC, HMC as pyro_hmc, NUTS as pyro_nuts\n",
        "\n",
        "from tqdm.notebook import tqdm, trange\n",
        "import numpy as np\n",
        "\n",
        "import matplotlib.pyplot as plt\n"
      ]
    },
    {
      "cell_type": "code",
      "execution_count": null,
      "metadata": {
        "id": "hCMqkaE2mkw0"
      },
      "outputs": [],
      "source": [
        "# Target\n",
        "class GaussianMixture:\n",
        "    def __init__(self, dim, sigma, loc):\n",
        "        self.g0 = MNormal(loc, sigma ** 2 * torch.eye(dim))\n",
        "        self.g1 = MNormal(-loc, sigma ** 2 * torch.eye(dim))\n",
        "        self.prob = 0.5\n",
        "        self.dim = dim\n",
        "\n",
        "    def sample(self, shape=(2,)):\n",
        "        idx = torch.rand(shape) < self.prob\n",
        "        samples = torch.zeros((*shape, self.dim))\n",
        "        samples[idx, :] = self.g0.sample(shape)[idx, :]\n",
        "        samples[~idx, :] = self.g1.sample(shape)[~idx, :]\n",
        "        return samples\n",
        "\n",
        "    def probability(self, x):\n",
        "        return 0.5 * self.g0.log_prob(x).exp() + 0.5 * self.g1.log_prob(x).exp()\n",
        "\n",
        "    def log_prob(self, x):\n",
        "        return (0.5 * self.g0.log_prob(x).exp() + 0.5 * self.g1.log_prob(x).exp() + 1e-8).log()\n",
        "\n",
        "\n",
        "# Proposal\n",
        "class Cauchy:\n",
        "    def __init__(self, loc, scale):\n",
        "        self.loc = loc\n",
        "        self.scale = scale\n",
        "        self.dim = len(self.loc)\n",
        "        self.distr = torch.distributions.Cauchy(self.loc, self.scale)\n",
        "\n",
        "    def probability(self, x):\n",
        "        return self.distr.log_prob(z).mean(-1).log()\n",
        "\n",
        "    def log_prob(self, z):\n",
        "        log_target = self.distr.log_prob(z).sum(-1)#.mean(-1)\n",
        "        return log_target\n",
        "\n",
        "    def sample(self, n=(1,)):\n",
        "        return self.distr.sample(n)\n",
        "\n",
        "class Banana:\n",
        "    def __init__(self, nu):\n",
        "        self.nu = nu\n",
        "\n",
        "    def probability(self, x):\n",
        "        #print(x.size(1))\n",
        "        even = np.arange(0, x.size(1), 2)\n",
        "        odd = np.arange(1, x.size(1), 2)\n",
        "        return torch.exp(torch.sum(-(x[..., odd] - x[..., even] ** 2) ** 2 / self.nu - (x[..., even] - 1) ** 2, dim=1))\n",
        "\n",
        "    def log_prob(self, x):\n",
        "        return torch.log(self.probability(x))\n",
        "\n",
        "    def sample(self, dim, n_samples):\n",
        "        X = np.random.randn(n_samples, dim)\n",
        "        for idx in range(dim):\n",
        "            if idx % 2 == 0:\n",
        "                X[:, idx] += 1\n",
        "            else:\n",
        "                X[:, idx] *= np.sqrt(self.nu)\n",
        "                X[:, idx] += X[:, idx - 1] ** 2\n",
        "        return X"
      ]
    },
    {
      "cell_type": "code",
      "execution_count": null,
      "metadata": {
        "id": "XGDsewa4RFVZ"
      },
      "outputs": [],
      "source": [
        "def ISIR(start: torch.FloatTensor,\n",
        "        target,\n",
        "        proposal,\n",
        "        n_samples: int,\n",
        "        burn_in: int,\n",
        "        *,\n",
        "        n_particles: int,\n",
        "        verbose: bool=False):\n",
        "    \"\"\"\n",
        "    Iterated Sampling Importance Resampling\n",
        "\n",
        "    Args:\n",
        "        start - strating points of shape [n_chains x dim]\n",
        "        target - target distribution instance with method \"log_prob\"\n",
        "        proposal - proposal distribution instance with methods \"log_prob\" and \"sample\"\n",
        "        n_samples - number of last samples from each chain to return\n",
        "        burn_in - number of first samples from each chain to throw away\n",
        "        n_particles - number of particles including one from previous step\n",
        "        verbose - whether to show iterations' bar\n",
        "\n",
        "    Returns:\n",
        "        tensor of chains with shape [n_samples, n_chains, dim], acceptance rates for each iteration\n",
        "    \"\"\"\n",
        "    chains = []\n",
        "    acceptance_rate = []\n",
        "\n",
        "    x = start.clone()\n",
        "    logp_x = target.log_prob(x)\n",
        "    logq_x = proposal.log_prob(x)\n",
        "    n_chains, dim = x.size()\n",
        "    range_ = trange if verbose else range\n",
        "    for step_id in range_(n_samples + burn_in):\n",
        "        particles = proposal.sample((x.shape[0], n_particles - 1))\n",
        "        logqs = torch.cat([logq_x[:, None], proposal.log_prob(particles)], 1)\n",
        "        logps = torch.cat([logp_x[:, None], target.log_prob(particles.reshape(-1, dim)).reshape(n_chains, -1)], 1)\n",
        "        #logps = torch.cat([logp_x[:, None], target.log_prob(particles)], 1)\n",
        "        particles = torch.cat([x[:, None, :], particles], 1)\n",
        "\n",
        "        log_weights = logps - logqs\n",
        "        indices = Categorical(logits=log_weights).sample()\n",
        "\n",
        "        x = particles[np.arange(x.shape[0]), indices]\n",
        "        logp_x = logps[np.arange(x.shape[0]), indices]\n",
        "        logq_x = logqs[np.arange(x.shape[0]), indices]\n",
        "\n",
        "        acceptance_rate.append((indices != 0).float().mean().item())\n",
        "        if step_id >= burn_in:\n",
        "            chains.append(x.detach().data.clone())\n",
        "    chains = torch.stack(chains, 0)\n",
        "    return chains, acceptance_rate"
      ]
    },
    {
      "cell_type": "code",
      "source": [
        "from pyro.infer import HMC as pyro_hmc\n",
        "from pyro.infer import MCMC\n",
        "from pyro.infer import NUTS as pyro_nuts\n",
        "\n",
        "\n",
        "def NUTS(start,\n",
        "        target,\n",
        "        n_samples: int,\n",
        "        burn_in: int,\n",
        "        *,\n",
        "        verbose: bool = False) -> torch.FloatTensor:\n",
        "    x = start.clone()\n",
        "    x.requires_grad_(False)\n",
        "    def energy(z):\n",
        "        z = z[\"points\"]\n",
        "        return -target.log_prob(z).sum()\n",
        "\n",
        "    kernel = pyro_nuts(potential_fn=energy, full_mass=False)\n",
        "    init_params = {\"points\": x}\n",
        "    mcmc_true = MCMC(\n",
        "        kernel=kernel,\n",
        "        num_samples=n_samples,\n",
        "        initial_params=init_params,\n",
        "        warmup_steps=burn_in,\n",
        "    )\n",
        "    mcmc_true.run()\n",
        "\n",
        "    q_true = mcmc_true.get_samples(group_by_chain=True)[\"points\"]\n",
        "    samples_true = q_true.view(-1, *start.shape)\n",
        "\n",
        "    return samples_true, _"
      ],
      "metadata": {
        "id": "vmkK7JDg6Rus"
      },
      "execution_count": null,
      "outputs": []
    },
    {
      "cell_type": "code",
      "execution_count": null,
      "metadata": {
        "id": "84dUpxDF38QO"
      },
      "outputs": [],
      "source": [
        "from torch.optim.lr_scheduler import StepLR\n",
        "\n",
        "\n",
        "dim = 5\n",
        "\n",
        "# define target\n",
        "target = GaussianMixture(dim=dim, sigma=4.0, loc=3 * torch.ones(dim))\n",
        "# define learnable parameters of proposal\n",
        "#loc = nn.Parameter(torch.tensor([0., 0.]))\n",
        "loc = nn.Parameter(torch.zeros(dim), requires_grad=True)\n",
        "scale = nn.Parameter(torch.ones(dim), requires_grad=True)\n",
        "\n",
        "# define params for chain\n",
        "N_CHAINS = 50\n",
        "N_SAMPLES = 1000\n",
        "BURN_IN = 100\n",
        "\n",
        "# kl divergence\n",
        "criterion = KLDivLoss(log_target=True)\n",
        "# optimizer\n",
        "optimizer = optim.AdamW(lr=1e-4, params=(loc, scale))"
      ]
    },
    {
      "cell_type": "code",
      "execution_count": null,
      "metadata": {
        "colab": {
          "base_uri": "https://localhost:8080/",
          "height": 49,
          "referenced_widgets": [
            "bd9fb2827f954e73920204d3d9f93094",
            "0b47440cc4c1455c9081b9eec7cf37b9",
            "13a54b2e245e4e8686b4323df0d82e29",
            "e92442dc803944589d1c71161a66f3dc",
            "8c5101d4f1ed404f841c8608e80249df",
            "5433ebce0a4c476fa95bd94d4b11d809",
            "d6e35db210f74cfb9b7bfc3d789a3bcb",
            "7469736bc009463fac381e0ef83ffd4d",
            "b0d681b921e045749995429b85173718",
            "caf154547ef542179e28217ee6974c8d",
            "77dc4dfaa0284609ac74862f67f0ac18"
          ]
        },
        "id": "P6MXbPIfXd5U",
        "outputId": "ecf4a71f-4d15-44ed-f348-7dd4185c0e8a"
      },
      "outputs": [
        {
          "output_type": "display_data",
          "data": {
            "text/plain": [
              "  0%|          | 0/100 [00:00<?, ?it/s]"
            ],
            "application/vnd.jupyter.widget-view+json": {
              "version_major": 2,
              "version_minor": 0,
              "model_id": "bd9fb2827f954e73920204d3d9f93094"
            }
          },
          "metadata": {}
        }
      ],
      "source": [
        "# MSC iteration\n",
        "n_iter = 100\n",
        "loss_arr = []\n",
        "n_cis = 50\n",
        "# decay lr: https://pytorch.org/docs/stable/generated/torch.optim.lr_scheduler.StepLR.html#torch.optim.lr_scheduler.StepLR\n",
        "scheduler = StepLR(optimizer, 1, gamma=1-1e-4)\n",
        "\n",
        "\n",
        "for i in tqdm(range(n_iter)):\n",
        "\n",
        "\n",
        "\n",
        "    optimizer.zero_grad()\n",
        "\n",
        "    # define proposal with new params\n",
        "    proposal = Cauchy(scale=scale, loc=loc)\n",
        "\n",
        "\n",
        "    # sample from it\n",
        "    with torch.no_grad():\n",
        "        chains, _ = ISIR(\n",
        "        #target.sample((N_CHAINS,)),\n",
        "        proposal.sample((N_CHAINS, )),\n",
        "        target,\n",
        "        proposal,\n",
        "        N_SAMPLES,\n",
        "        BURN_IN,\n",
        "        n_particles=100)\n",
        "        # функция тупая и не пашет с одной цепью\n",
        "        #chain = chains[:, 0]\n",
        "\n",
        "    #chains, _ = NUTS(\n",
        "    #    proposal.sample((N_CHAINS,)),\n",
        "    #    target,\n",
        "    #    N_SAMPLES,\n",
        "    #    BURN_IN,\n",
        "    #)\n",
        "\n",
        "    # get\n",
        "    log_p = target.log_prob(chains)\n",
        "    log_q = proposal.log_prob(chains)\n",
        "\n",
        "    loss = (-1 * log_q).sum() #criterion(log_p, log_q)\n",
        "    loss.backward()\n",
        "\n",
        "    optimizer.step()\n",
        "\n",
        "\n",
        "    scheduler.step()\n",
        "\n",
        "    loss_arr.append(criterion(log_q, log_p).detach().item())"
      ]
    },
    {
      "cell_type": "code",
      "execution_count": null,
      "metadata": {
        "colab": {
          "base_uri": "https://localhost:8080/",
          "height": 462
        },
        "id": "WYaLHqT3msos",
        "outputId": "50b3b0c2-19e1-4fc1-e372-1ff1107effae"
      },
      "outputs": [
        {
          "output_type": "execute_result",
          "data": {
            "text/plain": [
              "[<matplotlib.lines.Line2D at 0x7e8c0b2a78e0>]"
            ]
          },
          "metadata": {},
          "execution_count": 40
        },
        {
          "output_type": "display_data",
          "data": {
            "text/plain": [
              "<Figure size 640x480 with 1 Axes>"
            ],
            "image/png": "[encoded data removed]"
          },
          "metadata": {}
        }
      ],
      "source": [
        "plt.plot(loss_arr)"
      ]
    },
    {
      "cell_type": "code",
      "execution_count": null,
      "metadata": {
        "id": "KKTztu8ZoZ9i",
        "colab": {
          "base_uri": "https://localhost:8080/"
        },
        "outputId": "c3787b9f-77b4-4719-ad58-03a8ff554cd2"
      },
      "outputs": [
        {
          "output_type": "execute_result",
          "data": {
            "text/plain": [
              "tensor(2.3712e-07, grad_fn=<MeanBackward0>)"
            ]
          },
          "metadata": {},
          "execution_count": 41
        }
      ],
      "source": [
        "criterion(log_q, log_p)"
      ]
    },
    {
      "cell_type": "code",
      "source": [
        "# Try with banana\n",
        "\n",
        "dim = 8\n",
        "\n",
        "# define target\n",
        "target = Banana(nu=0.5)\n",
        "# define learnable parameters of proposal\n",
        "loc = nn.Parameter(torch.zeros(dim))\n",
        "covariance_matrix = nn.Parameter(torch.eye(dim))\n",
        "\n",
        "# define params for chain\n",
        "N_CHAINS = 50\n",
        "N_SAMPLES = 1000\n",
        "BURN_IN = 100\n",
        "\n",
        "# kl divergence\n",
        "criterion = KLDivLoss(log_target=True)\n",
        "# optimizer\n",
        "optimizer = optim.AdamW(lr=1e-3, params=(loc, covariance_matrix))"
      ],
      "metadata": {
        "id": "futhzkLvtWGa"
      },
      "execution_count": null,
      "outputs": []
    },
    {
      "cell_type": "code",
      "source": [
        "# MSC iteration\n",
        "n_iter = 100\n",
        "loss_arr = []\n",
        "\n",
        "# decay lr: https://pytorch.org/docs/stable/generated/torch.optim.lr_scheduler.StepLR.html#torch.optim.lr_scheduler.StepLR\n",
        "scheduler = StepLR(optimizer, 1, gamma=1-1e-4)\n",
        "\n",
        "for i in tqdm(range(n_iter)):\n",
        "    # define proposal with new params\n",
        "    #proposal = Cauchy(scale=scale, loc=loc)\n",
        "    proposal = MNormal(loc=loc, covariance_matrix=covariance_matrix)\n",
        "    # sample from it\n",
        "    with torch.no_grad():\n",
        "        chains, _ = ISIR(\n",
        "        #target.sample((N_CHAINS,)),\n",
        "        proposal.sample((N_CHAINS, )),\n",
        "        target,\n",
        "        proposal,\n",
        "        N_SAMPLES,\n",
        "        BURN_IN,\n",
        "        n_particles=100)\n",
        "        # функция тупая и не пашет с одной цепью\n",
        "        chain = chains[:, 0]\n",
        "    print('hui')\n",
        "    print(chains.shape)\n",
        "    optimizer.zero_grad()\n",
        "\n",
        "    # get\n",
        "    log_p = target.log_prob(chains)\n",
        "    log_q = proposal.log_prob(chains)\n",
        "\n",
        "    loss = criterion(log_p, log_q)\n",
        "    loss.backward()\n",
        "\n",
        "    optimizer.step()\n",
        "\n",
        "    scheduler.step()\n",
        "\n",
        "    loss_arr.append(loss.detach().item())"
      ],
      "metadata": {
        "colab": {
          "base_uri": "https://localhost:8080/",
          "height": 423,
          "referenced_widgets": [
            "4e7c0e57dced47d29c59b900c41ac298",
            "a16d5edae96149c3bd813ac664bad522",
            "335fb6288a944dc19ca1105e82c03ce6",
            "d50d752f2846453fa1d0418eaae04862",
            "6a25db5cd8594ac88ea0b8c0afe59a18",
            "8e3eb0c124ce4070b73d3a446952a3f7",
            "99e876c3eb214b63b00b3f7a568f8e72",
            "ab602436b4c54c44bcfcb7bec20cb7e2",
            "cad74e86eb4f440cb31773b682208939",
            "147dd9f9a84b4edc89ecb64e9dcfe62f",
            "9317e89d9d634580b0c9bdb6b4169912"
          ]
        },
        "id": "lIZMzkPozbNl",
        "outputId": "35401686-b11b-49b2-9a56-87adceacf44f"
      },
      "execution_count": null,
      "outputs": [
        {
          "output_type": "display_data",
          "data": {
            "text/plain": [
              "  0%|          | 0/100 [00:00<?, ?it/s]"
            ],
            "application/vnd.jupyter.widget-view+json": {
              "version_major": 2,
              "version_minor": 0,
              "model_id": "4e7c0e57dced47d29c59b900c41ac298"
            }
          },
          "metadata": {}
        },
        {
          "output_type": "stream",
          "name": "stdout",
          "text": [
            "hui\n",
            "torch.Size([1000, 50, 8])\n"
          ]
        },
        {
          "output_type": "error",
          "ename": "IndexError",
          "evalue": "index 9 is out of bounds for dimension 0 with size 8",
          "traceback": [
            "\u001b[0;31m---------------------------------------------------------------------------\u001b[0m",
            "\u001b[0;31mIndexError\u001b[0m                                Traceback (most recent call last)",
            "\u001b[0;32m<ipython-input-18-06b24cc8efce>\u001b[0m in \u001b[0;36m<cell line: 8>\u001b[0;34m()\u001b[0m\n\u001b[1;32m     27\u001b[0m \u001b[0;34m\u001b[0m\u001b[0m\n\u001b[1;32m     28\u001b[0m     \u001b[0;31m# get\u001b[0m\u001b[0;34m\u001b[0m\u001b[0;34m\u001b[0m\u001b[0m\n\u001b[0;32m---> 29\u001b[0;31m     \u001b[0mlog_p\u001b[0m \u001b[0;34m=\u001b[0m \u001b[0mtarget\u001b[0m\u001b[0;34m.\u001b[0m\u001b[0mlog_prob\u001b[0m\u001b[0;34m(\u001b[0m\u001b[0mchains\u001b[0m\u001b[0;34m)\u001b[0m\u001b[0;34m\u001b[0m\u001b[0;34m\u001b[0m\u001b[0m\n\u001b[0m\u001b[1;32m     30\u001b[0m     \u001b[0mlog_q\u001b[0m \u001b[0;34m=\u001b[0m \u001b[0mproposal\u001b[0m\u001b[0;34m.\u001b[0m\u001b[0mlog_prob\u001b[0m\u001b[0;34m(\u001b[0m\u001b[0mchains\u001b[0m\u001b[0;34m)\u001b[0m\u001b[0;34m\u001b[0m\u001b[0;34m\u001b[0m\u001b[0m\n\u001b[1;32m     31\u001b[0m \u001b[0;34m\u001b[0m\u001b[0m\n",
            "\u001b[0;32m<ipython-input-10-ea1588584be8>\u001b[0m in \u001b[0;36mlog_prob\u001b[0;34m(self, x)\u001b[0m\n\u001b[1;32m     44\u001b[0m \u001b[0;34m\u001b[0m\u001b[0m\n\u001b[1;32m     45\u001b[0m     \u001b[0;32mdef\u001b[0m \u001b[0mlog_prob\u001b[0m\u001b[0;34m(\u001b[0m\u001b[0mself\u001b[0m\u001b[0;34m,\u001b[0m \u001b[0mx\u001b[0m\u001b[0;34m)\u001b[0m\u001b[0;34m:\u001b[0m\u001b[0;34m\u001b[0m\u001b[0;34m\u001b[0m\u001b[0m\n\u001b[0;32m---> 46\u001b[0;31m         \u001b[0;32mreturn\u001b[0m \u001b[0mtorch\u001b[0m\u001b[0;34m.\u001b[0m\u001b[0mlog\u001b[0m\u001b[0;34m(\u001b[0m\u001b[0mself\u001b[0m\u001b[0;34m.\u001b[0m\u001b[0mprobability\u001b[0m\u001b[0;34m(\u001b[0m\u001b[0mx\u001b[0m\u001b[0;34m)\u001b[0m\u001b[0;34m)\u001b[0m\u001b[0;34m\u001b[0m\u001b[0;34m\u001b[0m\u001b[0m\n\u001b[0m\u001b[1;32m     47\u001b[0m \u001b[0;34m\u001b[0m\u001b[0m\n\u001b[1;32m     48\u001b[0m     \u001b[0;32mdef\u001b[0m \u001b[0msample\u001b[0m\u001b[0;34m(\u001b[0m\u001b[0mself\u001b[0m\u001b[0;34m,\u001b[0m \u001b[0mdim\u001b[0m\u001b[0;34m,\u001b[0m \u001b[0mn_samples\u001b[0m\u001b[0;34m)\u001b[0m\u001b[0;34m:\u001b[0m\u001b[0;34m\u001b[0m\u001b[0;34m\u001b[0m\u001b[0m\n",
            "\u001b[0;32m<ipython-input-10-ea1588584be8>\u001b[0m in \u001b[0;36mprobability\u001b[0;34m(self, x)\u001b[0m\n\u001b[1;32m     41\u001b[0m         \u001b[0meven\u001b[0m \u001b[0;34m=\u001b[0m \u001b[0mnp\u001b[0m\u001b[0;34m.\u001b[0m\u001b[0marange\u001b[0m\u001b[0;34m(\u001b[0m\u001b[0;36m0\u001b[0m\u001b[0;34m,\u001b[0m \u001b[0mx\u001b[0m\u001b[0;34m.\u001b[0m\u001b[0msize\u001b[0m\u001b[0;34m(\u001b[0m\u001b[0;36m1\u001b[0m\u001b[0;34m)\u001b[0m\u001b[0;34m,\u001b[0m \u001b[0;36m2\u001b[0m\u001b[0;34m)\u001b[0m\u001b[0;34m\u001b[0m\u001b[0;34m\u001b[0m\u001b[0m\n\u001b[1;32m     42\u001b[0m         \u001b[0modd\u001b[0m \u001b[0;34m=\u001b[0m \u001b[0mnp\u001b[0m\u001b[0;34m.\u001b[0m\u001b[0marange\u001b[0m\u001b[0;34m(\u001b[0m\u001b[0;36m1\u001b[0m\u001b[0;34m,\u001b[0m \u001b[0mx\u001b[0m\u001b[0;34m.\u001b[0m\u001b[0msize\u001b[0m\u001b[0;34m(\u001b[0m\u001b[0;36m1\u001b[0m\u001b[0;34m)\u001b[0m\u001b[0;34m,\u001b[0m \u001b[0;36m2\u001b[0m\u001b[0;34m)\u001b[0m\u001b[0;34m\u001b[0m\u001b[0;34m\u001b[0m\u001b[0m\n\u001b[0;32m---> 43\u001b[0;31m         \u001b[0;32mreturn\u001b[0m \u001b[0mtorch\u001b[0m\u001b[0;34m.\u001b[0m\u001b[0mexp\u001b[0m\u001b[0;34m(\u001b[0m\u001b[0mtorch\u001b[0m\u001b[0;34m.\u001b[0m\u001b[0msum\u001b[0m\u001b[0;34m(\u001b[0m\u001b[0;34m-\u001b[0m\u001b[0;34m(\u001b[0m\u001b[0mx\u001b[0m\u001b[0;34m[\u001b[0m\u001b[0;34m...\u001b[0m\u001b[0;34m,\u001b[0m \u001b[0modd\u001b[0m\u001b[0;34m]\u001b[0m \u001b[0;34m-\u001b[0m \u001b[0mx\u001b[0m\u001b[0;34m[\u001b[0m\u001b[0;34m...\u001b[0m\u001b[0;34m,\u001b[0m \u001b[0meven\u001b[0m\u001b[0;34m]\u001b[0m \u001b[0;34m**\u001b[0m \u001b[0;36m2\u001b[0m\u001b[0;34m)\u001b[0m \u001b[0;34m**\u001b[0m \u001b[0;36m2\u001b[0m \u001b[0;34m/\u001b[0m \u001b[0mself\u001b[0m\u001b[0;34m.\u001b[0m\u001b[0mnu\u001b[0m \u001b[0;34m-\u001b[0m \u001b[0;34m(\u001b[0m\u001b[0mx\u001b[0m\u001b[0;34m[\u001b[0m\u001b[0;34m...\u001b[0m\u001b[0;34m,\u001b[0m \u001b[0meven\u001b[0m\u001b[0;34m]\u001b[0m \u001b[0;34m-\u001b[0m \u001b[0;36m1\u001b[0m\u001b[0;34m)\u001b[0m \u001b[0;34m**\u001b[0m \u001b[0;36m2\u001b[0m\u001b[0;34m,\u001b[0m \u001b[0mdim\u001b[0m\u001b[0;34m=\u001b[0m\u001b[0;36m1\u001b[0m\u001b[0;34m)\u001b[0m\u001b[0;34m)\u001b[0m\u001b[0;34m\u001b[0m\u001b[0;34m\u001b[0m\u001b[0m\n\u001b[0m\u001b[1;32m     44\u001b[0m \u001b[0;34m\u001b[0m\u001b[0m\n\u001b[1;32m     45\u001b[0m     \u001b[0;32mdef\u001b[0m \u001b[0mlog_prob\u001b[0m\u001b[0;34m(\u001b[0m\u001b[0mself\u001b[0m\u001b[0;34m,\u001b[0m \u001b[0mx\u001b[0m\u001b[0;34m)\u001b[0m\u001b[0;34m:\u001b[0m\u001b[0;34m\u001b[0m\u001b[0;34m\u001b[0m\u001b[0m\n",
            "\u001b[0;31mIndexError\u001b[0m: index 9 is out of bounds for dimension 0 with size 8"
          ]
        }
      ]
    },
    {
      "cell_type": "code",
      "source": [
        "plt.plot(loss_arr)"
      ],
      "metadata": {
        "id": "iuhg80Oh2sAD"
      },
      "execution_count": null,
      "outputs": []
    },
    {
      "cell_type": "code",
      "source": [
        "criterion(log_p, log_q)"
      ],
      "metadata": {
        "id": "SLhQgepEDmdK"
      },
      "execution_count": null,
      "outputs": []
    },
    {
      "cell_type": "code",
      "source": [],
      "metadata": {
        "id": "NSTy81gsDpuH"
      },
      "execution_count": null,
      "outputs": []
    }
  ],
  "metadata": {
    "colab": {
      "provenance": []
    },
    "kernelspec": {
      "display_name": "Python 3",
      "name": "python3"
    },
    "language_info": {
      "name": "python"
    },
    "widgets": {
      "application/vnd.jupyter.widget-state+json": {
        "4e7c0e57dced47d29c59b900c41ac298": {
          "model_module": "@jupyter-widgets/controls",
          "model_name": "HBoxModel",
          "model_module_version": "1.5.0",
          "state": {
            "_dom_classes": [],
            "_model_module": "@jupyter-widgets/controls",
            "_model_module_version": "1.5.0",
            "_model_name": "HBoxModel",
            "_view_count": null,
            "_view_module": "@jupyter-widgets/controls",
            "_view_module_version": "1.5.0",
            "_view_name": "HBoxView",
            "box_style": "",
            "children": [
              "IPY_MODEL_a16d5edae96149c3bd813ac664bad522",
              "IPY_MODEL_335fb6288a944dc19ca1105e82c03ce6",
              "IPY_MODEL_d50d752f2846453fa1d0418eaae04862"
            ],
            "layout": "IPY_MODEL_6a25db5cd8594ac88ea0b8c0afe59a18"
          }
        },
        "a16d5edae96149c3bd813ac664bad522": {
          "model_module": "@jupyter-widgets/controls",
          "model_name": "HTMLModel",
          "model_module_version": "1.5.0",
          "state": {
            "_dom_classes": [],
            "_model_module": "@jupyter-widgets/controls",
            "_model_module_version": "1.5.0",
            "_model_name": "HTMLModel",
            "_view_count": null,
            "_view_module": "@jupyter-widgets/controls",
            "_view_module_version": "1.5.0",
            "_view_name": "HTMLView",
            "description": "",
            "description_tooltip": null,
            "layout": "IPY_MODEL_8e3eb0c124ce4070b73d3a446952a3f7",
            "placeholder": "​",
            "style": "IPY_MODEL_99e876c3eb214b63b00b3f7a568f8e72",
            "value": "  0%"
          }
        },
        "335fb6288a944dc19ca1105e82c03ce6": {
          "model_module": "@jupyter-widgets/controls",
          "model_name": "FloatProgressModel",
          "model_module_version": "1.5.0",
          "state": {
            "_dom_classes": [],
            "_model_module": "@jupyter-widgets/controls",
            "_model_module_version": "1.5.0",
            "_model_name": "FloatProgressModel",
            "_view_count": null,
            "_view_module": "@jupyter-widgets/controls",
            "_view_module_version": "1.5.0",
            "_view_name": "ProgressView",
            "bar_style": "danger",
            "description": "",
            "description_tooltip": null,
            "layout": "IPY_MODEL_ab602436b4c54c44bcfcb7bec20cb7e2",
            "max": 100,
            "min": 0,
            "orientation": "horizontal",
            "style": "IPY_MODEL_cad74e86eb4f440cb31773b682208939",
            "value": 0
          }
        },
        "d50d752f2846453fa1d0418eaae04862": {
          "model_module": "@jupyter-widgets/controls",
          "model_name": "HTMLModel",
          "model_module_version": "1.5.0",
          "state": {
            "_dom_classes": [],
            "_model_module": "@jupyter-widgets/controls",
            "_model_module_version": "1.5.0",
            "_model_name": "HTMLModel",
            "_view_count": null,
            "_view_module": "@jupyter-widgets/controls",
            "_view_module_version": "1.5.0",
            "_view_name": "HTMLView",
            "description": "",
            "description_tooltip": null,
            "layout": "IPY_MODEL_147dd9f9a84b4edc89ecb64e9dcfe62f",
            "placeholder": "​",
            "style": "IPY_MODEL_9317e89d9d634580b0c9bdb6b4169912",
            "value": " 0/100 [00:03&lt;?, ?it/s]"
          }
        },
        "6a25db5cd8594ac88ea0b8c0afe59a18": {
          "model_module": "@jupyter-widgets/base",
          "model_name": "LayoutModel",
          "model_module_version": "1.2.0",
          "state": {
            "_model_module": "@jupyter-widgets/base",
            "_model_module_version": "1.2.0",
            "_model_name": "LayoutModel",
            "_view_count": null,
            "_view_module": "@jupyter-widgets/base",
            "_view_module_version": "1.2.0",
            "_view_name": "LayoutView",
            "align_content": null,
            "align_items": null,
            "align_self": null,
            "border": null,
            "bottom": null,
            "display": null,
            "flex": null,
            "flex_flow": null,
            "grid_area": null,
            "grid_auto_columns": null,
            "grid_auto_flow": null,
            "grid_auto_rows": null,
            "grid_column": null,
            "grid_gap": null,
            "grid_row": null,
            "grid_template_areas": null,
            "grid_template_columns": null,
            "grid_template_rows": null,
            "height": null,
            "justify_content": null,
            "justify_items": null,
            "left": null,
            "margin": null,
            "max_height": null,
            "max_width": null,
            "min_height": null,
            "min_width": null,
            "object_fit": null,
            "object_position": null,
            "order": null,
            "overflow": null,
            "overflow_x": null,
            "overflow_y": null,
            "padding": null,
            "right": null,
            "top": null,
            "visibility": null,
            "width": null
          }
        },
        "8e3eb0c124ce4070b73d3a446952a3f7": {
          "model_module": "@jupyter-widgets/base",
          "model_name": "LayoutModel",
          "model_module_version": "1.2.0",
          "state": {
            "_model_module": "@jupyter-widgets/base",
            "_model_module_version": "1.2.0",
            "_model_name": "LayoutModel",
            "_view_count": null,
            "_view_module": "@jupyter-widgets/base",
            "_view_module_version": "1.2.0",
            "_view_name": "LayoutView",
            "align_content": null,
            "align_items": null,
            "align_self": null,
            "border": null,
            "bottom": null,
            "display": null,
            "flex": null,
            "flex_flow": null,
            "grid_area": null,
            "grid_auto_columns": null,
            "grid_auto_flow": null,
            "grid_auto_rows": null,
            "grid_column": null,
            "grid_gap": null,
            "grid_row": null,
            "grid_template_areas": null,
            "grid_template_columns": null,
            "grid_template_rows": null,
            "height": null,
            "justify_content": null,
            "justify_items": null,
            "left": null,
            "margin": null,
            "max_height": null,
            "max_width": null,
            "min_height": null,
            "min_width": null,
            "object_fit": null,
            "object_position": null,
            "order": null,
            "overflow": null,
            "overflow_x": null,
            "overflow_y": null,
            "padding": null,
            "right": null,
            "top": null,
            "visibility": null,
            "width": null
          }
        },
        "99e876c3eb214b63b00b3f7a568f8e72": {
          "model_module": "@jupyter-widgets/controls",
          "model_name": "DescriptionStyleModel",
          "model_module_version": "1.5.0",
          "state": {
            "_model_module": "@jupyter-widgets/controls",
            "_model_module_version": "1.5.0",
            "_model_name": "DescriptionStyleModel",
            "_view_count": null,
            "_view_module": "@jupyter-widgets/base",
            "_view_module_version": "1.2.0",
            "_view_name": "StyleView",
            "description_width": ""
          }
        },
        "ab602436b4c54c44bcfcb7bec20cb7e2": {
          "model_module": "@jupyter-widgets/base",
          "model_name": "LayoutModel",
          "model_module_version": "1.2.0",
          "state": {
            "_model_module": "@jupyter-widgets/base",
            "_model_module_version": "1.2.0",
            "_model_name": "LayoutModel",
            "_view_count": null,
            "_view_module": "@jupyter-widgets/base",
            "_view_module_version": "1.2.0",
            "_view_name": "LayoutView",
            "align_content": null,
            "align_items": null,
            "align_self": null,
            "border": null,
            "bottom": null,
            "display": null,
            "flex": null,
            "flex_flow": null,
            "grid_area": null,
            "grid_auto_columns": null,
            "grid_auto_flow": null,
            "grid_auto_rows": null,
            "grid_column": null,
            "grid_gap": null,
            "grid_row": null,
            "grid_template_areas": null,
            "grid_template_columns": null,
            "grid_template_rows": null,
            "height": null,
            "justify_content": null,
            "justify_items": null,
            "left": null,
            "margin": null,
            "max_height": null,
            "max_width": null,
            "min_height": null,
            "min_width": null,
            "object_fit": null,
            "object_position": null,
            "order": null,
            "overflow": null,
            "overflow_x": null,
            "overflow_y": null,
            "padding": null,
            "right": null,
            "top": null,
            "visibility": null,
            "width": null
          }
        },
        "cad74e86eb4f440cb31773b682208939": {
          "model_module": "@jupyter-widgets/controls",
          "model_name": "ProgressStyleModel",
          "model_module_version": "1.5.0",
          "state": {
            "_model_module": "@jupyter-widgets/controls",
            "_model_module_version": "1.5.0",
            "_model_name": "ProgressStyleModel",
            "_view_count": null,
            "_view_module": "@jupyter-widgets/base",
            "_view_module_version": "1.2.0",
            "_view_name": "StyleView",
            "bar_color": null,
            "description_width": ""
          }
        },
        "147dd9f9a84b4edc89ecb64e9dcfe62f": {
          "model_module": "@jupyter-widgets/base",
          "model_name": "LayoutModel",
          "model_module_version": "1.2.0",
          "state": {
            "_model_module": "@jupyter-widgets/base",
            "_model_module_version": "1.2.0",
            "_model_name": "LayoutModel",
            "_view_count": null,
            "_view_module": "@jupyter-widgets/base",
            "_view_module_version": "1.2.0",
            "_view_name": "LayoutView",
            "align_content": null,
            "align_items": null,
            "align_self": null,
            "border": null,
            "bottom": null,
            "display": null,
            "flex": null,
            "flex_flow": null,
            "grid_area": null,
            "grid_auto_columns": null,
            "grid_auto_flow": null,
            "grid_auto_rows": null,
            "grid_column": null,
            "grid_gap": null,
            "grid_row": null,
            "grid_template_areas": null,
            "grid_template_columns": null,
            "grid_template_rows": null,
            "height": null,
            "justify_content": null,
            "justify_items": null,
            "left": null,
            "margin": null,
            "max_height": null,
            "max_width": null,
            "min_height": null,
            "min_width": null,
            "object_fit": null,
            "object_position": null,
            "order": null,
            "overflow": null,
            "overflow_x": null,
            "overflow_y": null,
            "padding": null,
            "right": null,
            "top": null,
            "visibility": null,
            "width": null
          }
        },
        "9317e89d9d634580b0c9bdb6b4169912": {
          "model_module": "@jupyter-widgets/controls",
          "model_name": "DescriptionStyleModel",
          "model_module_version": "1.5.0",
          "state": {
            "_model_module": "@jupyter-widgets/controls",
            "_model_module_version": "1.5.0",
            "_model_name": "DescriptionStyleModel",
            "_view_count": null,
            "_view_module": "@jupyter-widgets/base",
            "_view_module_version": "1.2.0",
            "_view_name": "StyleView",
            "description_width": ""
          }
        },
        "bd9fb2827f954e73920204d3d9f93094": {
          "model_module": "@jupyter-widgets/controls",
          "model_name": "HBoxModel",
          "model_module_version": "1.5.0",
          "state": {
            "_dom_classes": [],
            "_model_module": "@jupyter-widgets/controls",
            "_model_module_version": "1.5.0",
            "_model_name": "HBoxModel",
            "_view_count": null,
            "_view_module": "@jupyter-widgets/controls",
            "_view_module_version": "1.5.0",
            "_view_name": "HBoxView",
            "box_style": "",
            "children": [
              "IPY_MODEL_0b47440cc4c1455c9081b9eec7cf37b9",
              "IPY_MODEL_13a54b2e245e4e8686b4323df0d82e29",
              "IPY_MODEL_e92442dc803944589d1c71161a66f3dc"
            ],
            "layout": "IPY_MODEL_8c5101d4f1ed404f841c8608e80249df"
          }
        },
        "0b47440cc4c1455c9081b9eec7cf37b9": {
          "model_module": "@jupyter-widgets/controls",
          "model_name": "HTMLModel",
          "model_module_version": "1.5.0",
          "state": {
            "_dom_classes": [],
            "_model_module": "@jupyter-widgets/controls",
            "_model_module_version": "1.5.0",
            "_model_name": "HTMLModel",
            "_view_count": null,
            "_view_module": "@jupyter-widgets/controls",
            "_view_module_version": "1.5.0",
            "_view_name": "HTMLView",
            "description": "",
            "description_tooltip": null,
            "layout": "IPY_MODEL_5433ebce0a4c476fa95bd94d4b11d809",
            "placeholder": "​",
            "style": "IPY_MODEL_d6e35db210f74cfb9b7bfc3d789a3bcb",
            "value": "100%"
          }
        },
        "13a54b2e245e4e8686b4323df0d82e29": {
          "model_module": "@jupyter-widgets/controls",
          "model_name": "FloatProgressModel",
          "model_module_version": "1.5.0",
          "state": {
            "_dom_classes": [],
            "_model_module": "@jupyter-widgets/controls",
            "_model_module_version": "1.5.0",
            "_model_name": "FloatProgressModel",
            "_view_count": null,
            "_view_module": "@jupyter-widgets/controls",
            "_view_module_version": "1.5.0",
            "_view_name": "ProgressView",
            "bar_style": "success",
            "description": "",
            "description_tooltip": null,
            "layout": "IPY_MODEL_7469736bc009463fac381e0ef83ffd4d",
            "max": 100,
            "min": 0,
            "orientation": "horizontal",
            "style": "IPY_MODEL_b0d681b921e045749995429b85173718",
            "value": 100
          }
        },
        "e92442dc803944589d1c71161a66f3dc": {
          "model_module": "@jupyter-widgets/controls",
          "model_name": "HTMLModel",
          "model_module_version": "1.5.0",
          "state": {
            "_dom_classes": [],
            "_model_module": "@jupyter-widgets/controls",
            "_model_module_version": "1.5.0",
            "_model_name": "HTMLModel",
            "_view_count": null,
            "_view_module": "@jupyter-widgets/controls",
            "_view_module_version": "1.5.0",
            "_view_name": "HTMLView",
            "description": "",
            "description_tooltip": null,
            "layout": "IPY_MODEL_caf154547ef542179e28217ee6974c8d",
            "placeholder": "​",
            "style": "IPY_MODEL_77dc4dfaa0284609ac74862f67f0ac18",
            "value": " 100/100 [07:11&lt;00:00,  4.43s/it]"
          }
        },
        "8c5101d4f1ed404f841c8608e80249df": {
          "model_module": "@jupyter-widgets/base",
          "model_name": "LayoutModel",
          "model_module_version": "1.2.0",
          "state": {
            "_model_module": "@jupyter-widgets/base",
            "_model_module_version": "1.2.0",
            "_model_name": "LayoutModel",
            "_view_count": null,
            "_view_module": "@jupyter-widgets/base",
            "_view_module_version": "1.2.0",
            "_view_name": "LayoutView",
            "align_content": null,
            "align_items": null,
            "align_self": null,
            "border": null,
            "bottom": null,
            "display": null,
            "flex": null,
            "flex_flow": null,
            "grid_area": null,
            "grid_auto_columns": null,
            "grid_auto_flow": null,
            "grid_auto_rows": null,
            "grid_column": null,
            "grid_gap": null,
            "grid_row": null,
            "grid_template_areas": null,
            "grid_template_columns": null,
            "grid_template_rows": null,
            "height": null,
            "justify_content": null,
            "justify_items": null,
            "left": null,
            "margin": null,
            "max_height": null,
            "max_width": null,
            "min_height": null,
            "min_width": null,
            "object_fit": null,
            "object_position": null,
            "order": null,
            "overflow": null,
            "overflow_x": null,
            "overflow_y": null,
            "padding": null,
            "right": null,
            "top": null,
            "visibility": null,
            "width": null
          }
        },
        "5433ebce0a4c476fa95bd94d4b11d809": {
          "model_module": "@jupyter-widgets/base",
          "model_name": "LayoutModel",
          "model_module_version": "1.2.0",
          "state": {
            "_model_module": "@jupyter-widgets/base",
            "_model_module_version": "1.2.0",
            "_model_name": "LayoutModel",
            "_view_count": null,
            "_view_module": "@jupyter-widgets/base",
            "_view_module_version": "1.2.0",
            "_view_name": "LayoutView",
            "align_content": null,
            "align_items": null,
            "align_self": null,
            "border": null,
            "bottom": null,
            "display": null,
            "flex": null,
            "flex_flow": null,
            "grid_area": null,
            "grid_auto_columns": null,
            "grid_auto_flow": null,
            "grid_auto_rows": null,
            "grid_column": null,
            "grid_gap": null,
            "grid_row": null,
            "grid_template_areas": null,
            "grid_template_columns": null,
            "grid_template_rows": null,
            "height": null,
            "justify_content": null,
            "justify_items": null,
            "left": null,
            "margin": null,
            "max_height": null,
            "max_width": null,
            "min_height": null,
            "min_width": null,
            "object_fit": null,
            "object_position": null,
            "order": null,
            "overflow": null,
            "overflow_x": null,
            "overflow_y": null,
            "padding": null,
            "right": null,
            "top": null,
            "visibility": null,
            "width": null
          }
        },
        "d6e35db210f74cfb9b7bfc3d789a3bcb": {
          "model_module": "@jupyter-widgets/controls",
          "model_name": "DescriptionStyleModel",
          "model_module_version": "1.5.0",
          "state": {
            "_model_module": "@jupyter-widgets/controls",
            "_model_module_version": "1.5.0",
            "_model_name": "DescriptionStyleModel",
            "_view_count": null,
            "_view_module": "@jupyter-widgets/base",
            "_view_module_version": "1.2.0",
            "_view_name": "StyleView",
            "description_width": ""
          }
        },
        "7469736bc009463fac381e0ef83ffd4d": {
          "model_module": "@jupyter-widgets/base",
          "model_name": "LayoutModel",
          "model_module_version": "1.2.0",
          "state": {
            "_model_module": "@jupyter-widgets/base",
            "_model_module_version": "1.2.0",
            "_model_name": "LayoutModel",
            "_view_count": null,
            "_view_module": "@jupyter-widgets/base",
            "_view_module_version": "1.2.0",
            "_view_name": "LayoutView",
            "align_content": null,
            "align_items": null,
            "align_self": null,
            "border": null,
            "bottom": null,
            "display": null,
            "flex": null,
            "flex_flow": null,
            "grid_area": null,
            "grid_auto_columns": null,
            "grid_auto_flow": null,
            "grid_auto_rows": null,
            "grid_column": null,
            "grid_gap": null,
            "grid_row": null,
            "grid_template_areas": null,
            "grid_template_columns": null,
            "grid_template_rows": null,
            "height": null,
            "justify_content": null,
            "justify_items": null,
            "left": null,
            "margin": null,
            "max_height": null,
            "max_width": null,
            "min_height": null,
            "min_width": null,
            "object_fit": null,
            "object_position": null,
            "order": null,
            "overflow": null,
            "overflow_x": null,
            "overflow_y": null,
            "padding": null,
            "right": null,
            "top": null,
            "visibility": null,
            "width": null
          }
        },
        "b0d681b921e045749995429b85173718": {
          "model_module": "@jupyter-widgets/controls",
          "model_name": "ProgressStyleModel",
          "model_module_version": "1.5.0",
          "state": {
            "_model_module": "@jupyter-widgets/controls",
            "_model_module_version": "1.5.0",
            "_model_name": "ProgressStyleModel",
            "_view_count": null,
            "_view_module": "@jupyter-widgets/base",
            "_view_module_version": "1.2.0",
            "_view_name": "StyleView",
            "bar_color": null,
            "description_width": ""
          }
        },
        "caf154547ef542179e28217ee6974c8d": {
          "model_module": "@jupyter-widgets/base",
          "model_name": "LayoutModel",
          "model_module_version": "1.2.0",
          "state": {
            "_model_module": "@jupyter-widgets/base",
            "_model_module_version": "1.2.0",
            "_model_name": "LayoutModel",
            "_view_count": null,
            "_view_module": "@jupyter-widgets/base",
            "_view_module_version": "1.2.0",
            "_view_name": "LayoutView",
            "align_content": null,
            "align_items": null,
            "align_self": null,
            "border": null,
            "bottom": null,
            "display": null,
            "flex": null,
            "flex_flow": null,
            "grid_area": null,
            "grid_auto_columns": null,
            "grid_auto_flow": null,
            "grid_auto_rows": null,
            "grid_column": null,
            "grid_gap": null,
            "grid_row": null,
            "grid_template_areas": null,
            "grid_template_columns": null,
            "grid_template_rows": null,
            "height": null,
            "justify_content": null,
            "justify_items": null,
            "left": null,
            "margin": null,
            "max_height": null,
            "max_width": null,
            "min_height": null,
            "min_width": null,
            "object_fit": null,
            "object_position": null,
            "order": null,
            "overflow": null,
            "overflow_x": null,
            "overflow_y": null,
            "padding": null,
            "right": null,
            "top": null,
            "visibility": null,
            "width": null
          }
        },
        "77dc4dfaa0284609ac74862f67f0ac18": {
          "model_module": "@jupyter-widgets/controls",
          "model_name": "DescriptionStyleModel",
          "model_module_version": "1.5.0",
          "state": {
            "_model_module": "@jupyter-widgets/controls",
            "_model_module_version": "1.5.0",
            "_model_name": "DescriptionStyleModel",
            "_view_count": null,
            "_view_module": "@jupyter-widgets/base",
            "_view_module_version": "1.2.0",
            "_view_name": "StyleView",
            "description_width": ""
          }
        }
      }
    }
  },
  "nbformat": 4,
  "nbformat_minor": 0
}